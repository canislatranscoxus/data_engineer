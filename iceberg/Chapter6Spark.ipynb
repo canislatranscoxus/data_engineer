{
 "cells": [
  {
   "cell_type": "code",
   "execution_count": 1,
   "id": "ed2a491b",
   "metadata": {},
   "outputs": [
    {
     "name": "stdout",
     "output_type": "stream",
     "text": [
      "env: AWS_REGION=region\n",
      "env: AWS_ACCESS_KEY_ID=key\n",
      "env: AWS_SECRET_ACCESS_KEY=secret\n"
     ]
    }
   ],
   "source": [
    "# Define the AWS env variables if you are using AWS Auth:\n",
    "%env AWS_REGION= region\n",
    "%env AWS_ACCESS_KEY_ID= key\n",
    "%env AWS_SECRET_ACCESS_KEY= secret"
   ]
  },
  {
   "cell_type": "code",
   "execution_count": 2,
   "id": "88939453",
   "metadata": {
    "scrolled": true
   },
   "outputs": [
    {
     "name": "stdout",
     "output_type": "stream",
     "text": [
      ":: loading settings :: url = jar:file:/home/art/git/data_engineer/venv/lib/python3.10/site-packages/pyspark/jars/ivy-2.5.1.jar!/org/apache/ivy/core/settings/ivysettings.xml\n"
     ]
    },
    {
     "name": "stderr",
     "output_type": "stream",
     "text": [
      "Ivy Default Cache set to: /home/art/.ivy2/cache\n",
      "The jars for the packages stored in: /home/art/.ivy2/jars\n",
      "org.apache.iceberg#iceberg-spark-runtime-3.3_2.12 added as a dependency\n",
      "software.amazon.awssdk#bundle added as a dependency\n",
      "software.amazon.awssdk#url-connection-client added as a dependency\n",
      ":: resolving dependencies :: org.apache.spark#spark-submit-parent-2dfcf1db-153e-4436-a991-8b4ab0cdcd4a;1.0\n",
      "\tconfs: [default]\n",
      "\tfound org.apache.iceberg#iceberg-spark-runtime-3.3_2.12;1.2.0 in central\n",
      "\tfound software.amazon.awssdk#bundle;2.17.178 in central\n",
      "\tfound software.amazon.eventstream#eventstream;1.0.1 in central\n",
      "\tfound software.amazon.awssdk#url-connection-client;2.17.178 in central\n",
      "\tfound software.amazon.awssdk#utils;2.17.178 in central\n",
      "\tfound org.reactivestreams#reactive-streams;1.0.3 in central\n",
      "\tfound software.amazon.awssdk#annotations;2.17.178 in central\n",
      "\tfound org.slf4j#slf4j-api;1.7.30 in central\n",
      "\tfound software.amazon.awssdk#http-client-spi;2.17.178 in central\n",
      "\tfound software.amazon.awssdk#metrics-spi;2.17.178 in central\n",
      "downloading https://repo1.maven.org/maven2/org/apache/iceberg/iceberg-spark-runtime-3.3_2.12/1.2.0/iceberg-spark-runtime-3.3_2.12-1.2.0.jar ...\n",
      "\t[SUCCESSFUL ] org.apache.iceberg#iceberg-spark-runtime-3.3_2.12;1.2.0!iceberg-spark-runtime-3.3_2.12.jar (83859ms)\n",
      "downloading https://repo1.maven.org/maven2/software/amazon/awssdk/bundle/2.17.178/bundle-2.17.178.jar ...\n",
      "\t[SUCCESSFUL ] software.amazon.awssdk#bundle;2.17.178!bundle.jar (902919ms)\n",
      "downloading https://repo1.maven.org/maven2/software/amazon/awssdk/url-connection-client/2.17.178/url-connection-client-2.17.178.jar ...\n",
      "\t[SUCCESSFUL ] software.amazon.awssdk#url-connection-client;2.17.178!url-connection-client.jar (1716ms)\n",
      "downloading https://repo1.maven.org/maven2/software/amazon/eventstream/eventstream/1.0.1/eventstream-1.0.1.jar ...\n",
      "\t[SUCCESSFUL ] software.amazon.eventstream#eventstream;1.0.1!eventstream.jar (705ms)\n",
      "downloading https://repo1.maven.org/maven2/software/amazon/awssdk/utils/2.17.178/utils-2.17.178.jar ...\n",
      "\t[SUCCESSFUL ] software.amazon.awssdk#utils;2.17.178!utils.jar (950ms)\n",
      "downloading https://repo1.maven.org/maven2/software/amazon/awssdk/annotations/2.17.178/annotations-2.17.178.jar ...\n",
      "\t[SUCCESSFUL ] software.amazon.awssdk#annotations;2.17.178!annotations.jar (1082ms)\n",
      "downloading https://repo1.maven.org/maven2/software/amazon/awssdk/http-client-spi/2.17.178/http-client-spi-2.17.178.jar ...\n",
      "\t[SUCCESSFUL ] software.amazon.awssdk#http-client-spi;2.17.178!http-client-spi.jar (458ms)\n",
      "downloading https://repo1.maven.org/maven2/org/reactivestreams/reactive-streams/1.0.3/reactive-streams-1.0.3.jar ...\n",
      "\t[SUCCESSFUL ] org.reactivestreams#reactive-streams;1.0.3!reactive-streams.jar (1487ms)\n",
      "downloading https://repo1.maven.org/maven2/org/slf4j/slf4j-api/1.7.30/slf4j-api-1.7.30.jar ...\n",
      "\t[SUCCESSFUL ] org.slf4j#slf4j-api;1.7.30!slf4j-api.jar (231ms)\n",
      "downloading https://repo1.maven.org/maven2/software/amazon/awssdk/metrics-spi/2.17.178/metrics-spi-2.17.178.jar ...\n",
      "\t[SUCCESSFUL ] software.amazon.awssdk#metrics-spi;2.17.178!metrics-spi.jar (286ms)\n",
      ":: resolution report :: resolve 11649ms :: artifacts dl 993715ms\n",
      "\t:: modules in use:\n",
      "\torg.apache.iceberg#iceberg-spark-runtime-3.3_2.12;1.2.0 from central in [default]\n",
      "\torg.reactivestreams#reactive-streams;1.0.3 from central in [default]\n",
      "\torg.slf4j#slf4j-api;1.7.30 from central in [default]\n",
      "\tsoftware.amazon.awssdk#annotations;2.17.178 from central in [default]\n",
      "\tsoftware.amazon.awssdk#bundle;2.17.178 from central in [default]\n",
      "\tsoftware.amazon.awssdk#http-client-spi;2.17.178 from central in [default]\n",
      "\tsoftware.amazon.awssdk#metrics-spi;2.17.178 from central in [default]\n",
      "\tsoftware.amazon.awssdk#url-connection-client;2.17.178 from central in [default]\n",
      "\tsoftware.amazon.awssdk#utils;2.17.178 from central in [default]\n",
      "\tsoftware.amazon.eventstream#eventstream;1.0.1 from central in [default]\n",
      "\t---------------------------------------------------------------------\n",
      "\t|                  |            modules            ||   artifacts   |\n",
      "\t|       conf       | number| search|dwnlded|evicted|| number|dwnlded|\n",
      "\t---------------------------------------------------------------------\n",
      "\t|      default     |   10  |   10  |   10  |   0   ||   10  |   10  |\n",
      "\t---------------------------------------------------------------------\n",
      ":: retrieving :: org.apache.spark#spark-submit-parent-2dfcf1db-153e-4436-a991-8b4ab0cdcd4a\n",
      "\tconfs: [default]\n",
      "\t10 artifacts copied, 0 already retrieved (364942kB/370ms)\n",
      "24/03/23 19:39:57 WARN NativeCodeLoader: Unable to load native-hadoop library for your platform... using builtin-java classes where applicable\n",
      "Setting default log level to \"WARN\".\n",
      "To adjust logging level use sc.setLogLevel(newLevel). For SparkR, use setLogLevel(newLevel).\n"
     ]
    },
    {
     "name": "stdout",
     "output_type": "stream",
     "text": [
      "Spark Running\n"
     ]
    }
   ],
   "source": [
    "import pyspark\n",
    "from pyspark.sql import SparkSession\n",
    "import os\n",
    "\n",
    "\n",
    "conf = (\n",
    "    pyspark.SparkConf()\n",
    "        .setAppName('app_name')\n",
    "    \n",
    "    # first we will define the packages that we need. Iceberg Spark runtime\n",
    "        .set('spark.jars.packages', 'org.apache.iceberg:iceberg-spark-runtime-3.3_2.12:1.2.0,software.amazon.awssdk:bundle:2.17.178,software.amazon.awssdk:url-connection-client:2.17.178')\n",
    "        \n",
    "    # This property allows us to add any extensions that we want to use\n",
    "        .set('spark.sql.extensions', 'org.apache.iceberg.spark.extensions.IcebergSparkSessionExtensions')\n",
    "    \n",
    "    # configures a new catalog to a particular implementation of SparkCatalog\n",
    "        .set('spark.sql.catalog.glue', 'org.apache.iceberg.spark.SparkCatalog')\n",
    "    \n",
    "    # particular type of catalog we are using\n",
    "        .set('spark.sql.catalog.glue.catalog-impl', 'org.apache.iceberg.aws.glue.GlueCatalog')\n",
    "    \n",
    "    # engine writes to the warehouse\n",
    "        .set('spark.sql.catalog.glue.warehouse', 's3://my-bucket/warehouse/')\n",
    "    \n",
    "    # changes IO impl of catalog, mainly for changing writing data to object storage\n",
    "        .set('spark.sql.catalog.glue.io-impl', 'org.apache.iceberg.aws.s3.S3FileIO')\n",
    ")\n",
    "\n",
    "## Start Spark Session\n",
    "spark = SparkSession.builder.config(conf=conf).getOrCreate()\n",
    "print(\"Spark Running\")"
   ]
  },
  {
   "cell_type": "code",
   "execution_count": 3,
   "id": "c3081994",
   "metadata": {},
   "outputs": [
    {
     "ename": "Py4JJavaError",
     "evalue": "An error occurred while calling o39.sql.\n: java.lang.NoClassDefFoundError: org/apache/spark/sql/catalyst/expressions/AnsiCast\n\tat org.apache.iceberg.spark.extensions.IcebergSparkSessionExtensions.$anonfun$apply$6(IcebergSparkSessionExtensions.scala:54)\n\tat org.apache.spark.sql.SparkSessionExtensions.$anonfun$buildResolutionRules$1(SparkSessionExtensions.scala:175)\n\tat scala.collection.TraversableLike.$anonfun$map$1(TraversableLike.scala:286)\n\tat scala.collection.mutable.ResizableArray.foreach(ResizableArray.scala:62)\n\tat scala.collection.mutable.ResizableArray.foreach$(ResizableArray.scala:55)\n\tat scala.collection.mutable.ArrayBuffer.foreach(ArrayBuffer.scala:49)\n\tat scala.collection.TraversableLike.map(TraversableLike.scala:286)\n\tat scala.collection.TraversableLike.map$(TraversableLike.scala:279)\n\tat scala.collection.AbstractTraversable.map(Traversable.scala:108)\n\tat org.apache.spark.sql.SparkSessionExtensions.buildResolutionRules(SparkSessionExtensions.scala:175)\n\tat org.apache.spark.sql.internal.BaseSessionStateBuilder.customResolutionRules(BaseSessionStateBuilder.scala:219)\n\tat org.apache.spark.sql.internal.BaseSessionStateBuilder$$anon$1.<init>(BaseSessionStateBuilder.scala:192)\n\tat org.apache.spark.sql.internal.BaseSessionStateBuilder.analyzer(BaseSessionStateBuilder.scala:183)\n\tat org.apache.spark.sql.internal.BaseSessionStateBuilder.$anonfun$build$2(BaseSessionStateBuilder.scala:369)\n\tat org.apache.spark.sql.internal.SessionState.analyzer$lzycompute(SessionState.scala:89)\n\tat org.apache.spark.sql.internal.SessionState.analyzer(SessionState.scala:89)\n\tat org.apache.spark.sql.execution.QueryExecution.$anonfun$analyzed$1(QueryExecution.scala:76)\n\tat org.apache.spark.sql.catalyst.QueryPlanningTracker.measurePhase(QueryPlanningTracker.scala:111)\n\tat org.apache.spark.sql.execution.QueryExecution.$anonfun$executePhase$2(QueryExecution.scala:202)\n\tat org.apache.spark.sql.execution.QueryExecution$.withInternalError(QueryExecution.scala:526)\n\tat org.apache.spark.sql.execution.QueryExecution.$anonfun$executePhase$1(QueryExecution.scala:202)\n\tat org.apache.spark.sql.SparkSession.withActive(SparkSession.scala:827)\n\tat org.apache.spark.sql.execution.QueryExecution.executePhase(QueryExecution.scala:201)\n\tat org.apache.spark.sql.execution.QueryExecution.analyzed$lzycompute(QueryExecution.scala:76)\n\tat org.apache.spark.sql.execution.QueryExecution.analyzed(QueryExecution.scala:74)\n\tat org.apache.spark.sql.execution.QueryExecution.assertAnalyzed(QueryExecution.scala:66)\n\tat org.apache.spark.sql.Dataset$.$anonfun$ofRows$2(Dataset.scala:98)\n\tat org.apache.spark.sql.SparkSession.withActive(SparkSession.scala:827)\n\tat org.apache.spark.sql.Dataset$.ofRows(Dataset.scala:96)\n\tat org.apache.spark.sql.SparkSession.$anonfun$sql$1(SparkSession.scala:640)\n\tat org.apache.spark.sql.SparkSession.withActive(SparkSession.scala:827)\n\tat org.apache.spark.sql.SparkSession.sql(SparkSession.scala:630)\n\tat org.apache.spark.sql.SparkSession.sql(SparkSession.scala:662)\n\tat java.base/jdk.internal.reflect.NativeMethodAccessorImpl.invoke0(Native Method)\n\tat java.base/jdk.internal.reflect.NativeMethodAccessorImpl.invoke(NativeMethodAccessorImpl.java:62)\n\tat java.base/jdk.internal.reflect.DelegatingMethodAccessorImpl.invoke(DelegatingMethodAccessorImpl.java:43)\n\tat java.base/java.lang.reflect.Method.invoke(Method.java:566)\n\tat py4j.reflection.MethodInvoker.invoke(MethodInvoker.java:244)\n\tat py4j.reflection.ReflectionEngine.invoke(ReflectionEngine.java:374)\n\tat py4j.Gateway.invoke(Gateway.java:282)\n\tat py4j.commands.AbstractCommand.invokeMethod(AbstractCommand.java:132)\n\tat py4j.commands.CallCommand.execute(CallCommand.java:79)\n\tat py4j.ClientServerConnection.waitForCommands(ClientServerConnection.java:182)\n\tat py4j.ClientServerConnection.run(ClientServerConnection.java:106)\n\tat java.base/java.lang.Thread.run(Thread.java:829)\nCaused by: java.lang.ClassNotFoundException: org.apache.spark.sql.catalyst.expressions.AnsiCast\n\tat java.base/java.net.URLClassLoader.findClass(URLClassLoader.java:476)\n\tat java.base/java.lang.ClassLoader.loadClass(ClassLoader.java:589)\n\tat java.base/java.lang.ClassLoader.loadClass(ClassLoader.java:522)\n\t... 45 more\n",
     "output_type": "error",
     "traceback": [
      "\u001b[0;31m---------------------------------------------------------------------------\u001b[0m",
      "\u001b[0;31mPy4JJavaError\u001b[0m                             Traceback (most recent call last)",
      "Cell \u001b[0;32mIn[3], line 2\u001b[0m\n\u001b[1;32m      1\u001b[0m \u001b[38;5;66;03m# Creating a Simple Table:\u001b[39;00m\n\u001b[0;32m----> 2\u001b[0m \u001b[43mspark\u001b[49m\u001b[38;5;241;43m.\u001b[39;49m\u001b[43msql\u001b[49m\u001b[43m(\u001b[49m\u001b[38;5;124;43m\"\"\"\u001b[39;49m\n\u001b[1;32m      3\u001b[0m \u001b[38;5;124;43m    CREATE TABLE glue.test.employees (\u001b[39;49m\n\u001b[1;32m      4\u001b[0m \u001b[38;5;124;43m        id INT,\u001b[39;49m\n\u001b[1;32m      5\u001b[0m \u001b[38;5;124;43m        role STRING,\u001b[39;49m\n\u001b[1;32m      6\u001b[0m \u001b[38;5;124;43m        department STRING,\u001b[39;49m\n\u001b[1;32m      7\u001b[0m \u001b[38;5;124;43m        salary FLOAT,\u001b[39;49m\n\u001b[1;32m      8\u001b[0m \u001b[38;5;124;43m        region STRING)\u001b[39;49m\n\u001b[1;32m      9\u001b[0m \u001b[38;5;124;43m    USING iceberg\u001b[39;49m\n\u001b[1;32m     10\u001b[0m \u001b[38;5;124;43m\"\"\"\u001b[39;49m\u001b[43m)\u001b[49m\n",
      "File \u001b[0;32m~/git/data_engineer/venv/lib/python3.10/site-packages/pyspark/sql/session.py:1440\u001b[0m, in \u001b[0;36mSparkSession.sql\u001b[0;34m(self, sqlQuery, args, **kwargs)\u001b[0m\n\u001b[1;32m   1438\u001b[0m \u001b[38;5;28;01mtry\u001b[39;00m:\n\u001b[1;32m   1439\u001b[0m     litArgs \u001b[38;5;241m=\u001b[39m {k: _to_java_column(lit(v)) \u001b[38;5;28;01mfor\u001b[39;00m k, v \u001b[38;5;129;01min\u001b[39;00m (args \u001b[38;5;129;01mor\u001b[39;00m {})\u001b[38;5;241m.\u001b[39mitems()}\n\u001b[0;32m-> 1440\u001b[0m     \u001b[38;5;28;01mreturn\u001b[39;00m DataFrame(\u001b[38;5;28;43mself\u001b[39;49m\u001b[38;5;241;43m.\u001b[39;49m\u001b[43m_jsparkSession\u001b[49m\u001b[38;5;241;43m.\u001b[39;49m\u001b[43msql\u001b[49m\u001b[43m(\u001b[49m\u001b[43msqlQuery\u001b[49m\u001b[43m,\u001b[49m\u001b[43m \u001b[49m\u001b[43mlitArgs\u001b[49m\u001b[43m)\u001b[49m, \u001b[38;5;28mself\u001b[39m)\n\u001b[1;32m   1441\u001b[0m \u001b[38;5;28;01mfinally\u001b[39;00m:\n\u001b[1;32m   1442\u001b[0m     \u001b[38;5;28;01mif\u001b[39;00m \u001b[38;5;28mlen\u001b[39m(kwargs) \u001b[38;5;241m>\u001b[39m \u001b[38;5;241m0\u001b[39m:\n",
      "File \u001b[0;32m~/git/data_engineer/venv/lib/python3.10/site-packages/py4j/java_gateway.py:1322\u001b[0m, in \u001b[0;36mJavaMember.__call__\u001b[0;34m(self, *args)\u001b[0m\n\u001b[1;32m   1316\u001b[0m command \u001b[38;5;241m=\u001b[39m proto\u001b[38;5;241m.\u001b[39mCALL_COMMAND_NAME \u001b[38;5;241m+\u001b[39m\\\n\u001b[1;32m   1317\u001b[0m     \u001b[38;5;28mself\u001b[39m\u001b[38;5;241m.\u001b[39mcommand_header \u001b[38;5;241m+\u001b[39m\\\n\u001b[1;32m   1318\u001b[0m     args_command \u001b[38;5;241m+\u001b[39m\\\n\u001b[1;32m   1319\u001b[0m     proto\u001b[38;5;241m.\u001b[39mEND_COMMAND_PART\n\u001b[1;32m   1321\u001b[0m answer \u001b[38;5;241m=\u001b[39m \u001b[38;5;28mself\u001b[39m\u001b[38;5;241m.\u001b[39mgateway_client\u001b[38;5;241m.\u001b[39msend_command(command)\n\u001b[0;32m-> 1322\u001b[0m return_value \u001b[38;5;241m=\u001b[39m \u001b[43mget_return_value\u001b[49m\u001b[43m(\u001b[49m\n\u001b[1;32m   1323\u001b[0m \u001b[43m    \u001b[49m\u001b[43manswer\u001b[49m\u001b[43m,\u001b[49m\u001b[43m \u001b[49m\u001b[38;5;28;43mself\u001b[39;49m\u001b[38;5;241;43m.\u001b[39;49m\u001b[43mgateway_client\u001b[49m\u001b[43m,\u001b[49m\u001b[43m \u001b[49m\u001b[38;5;28;43mself\u001b[39;49m\u001b[38;5;241;43m.\u001b[39;49m\u001b[43mtarget_id\u001b[49m\u001b[43m,\u001b[49m\u001b[43m \u001b[49m\u001b[38;5;28;43mself\u001b[39;49m\u001b[38;5;241;43m.\u001b[39;49m\u001b[43mname\u001b[49m\u001b[43m)\u001b[49m\n\u001b[1;32m   1325\u001b[0m \u001b[38;5;28;01mfor\u001b[39;00m temp_arg \u001b[38;5;129;01min\u001b[39;00m temp_args:\n\u001b[1;32m   1326\u001b[0m     \u001b[38;5;28;01mif\u001b[39;00m \u001b[38;5;28mhasattr\u001b[39m(temp_arg, \u001b[38;5;124m\"\u001b[39m\u001b[38;5;124m_detach\u001b[39m\u001b[38;5;124m\"\u001b[39m):\n",
      "File \u001b[0;32m~/git/data_engineer/venv/lib/python3.10/site-packages/pyspark/errors/exceptions/captured.py:169\u001b[0m, in \u001b[0;36mcapture_sql_exception.<locals>.deco\u001b[0;34m(*a, **kw)\u001b[0m\n\u001b[1;32m    167\u001b[0m \u001b[38;5;28;01mdef\u001b[39;00m \u001b[38;5;21mdeco\u001b[39m(\u001b[38;5;241m*\u001b[39ma: Any, \u001b[38;5;241m*\u001b[39m\u001b[38;5;241m*\u001b[39mkw: Any) \u001b[38;5;241m-\u001b[39m\u001b[38;5;241m>\u001b[39m Any:\n\u001b[1;32m    168\u001b[0m     \u001b[38;5;28;01mtry\u001b[39;00m:\n\u001b[0;32m--> 169\u001b[0m         \u001b[38;5;28;01mreturn\u001b[39;00m \u001b[43mf\u001b[49m\u001b[43m(\u001b[49m\u001b[38;5;241;43m*\u001b[39;49m\u001b[43ma\u001b[49m\u001b[43m,\u001b[49m\u001b[43m \u001b[49m\u001b[38;5;241;43m*\u001b[39;49m\u001b[38;5;241;43m*\u001b[39;49m\u001b[43mkw\u001b[49m\u001b[43m)\u001b[49m\n\u001b[1;32m    170\u001b[0m     \u001b[38;5;28;01mexcept\u001b[39;00m Py4JJavaError \u001b[38;5;28;01mas\u001b[39;00m e:\n\u001b[1;32m    171\u001b[0m         converted \u001b[38;5;241m=\u001b[39m convert_exception(e\u001b[38;5;241m.\u001b[39mjava_exception)\n",
      "File \u001b[0;32m~/git/data_engineer/venv/lib/python3.10/site-packages/py4j/protocol.py:326\u001b[0m, in \u001b[0;36mget_return_value\u001b[0;34m(answer, gateway_client, target_id, name)\u001b[0m\n\u001b[1;32m    324\u001b[0m value \u001b[38;5;241m=\u001b[39m OUTPUT_CONVERTER[\u001b[38;5;28mtype\u001b[39m](answer[\u001b[38;5;241m2\u001b[39m:], gateway_client)\n\u001b[1;32m    325\u001b[0m \u001b[38;5;28;01mif\u001b[39;00m answer[\u001b[38;5;241m1\u001b[39m] \u001b[38;5;241m==\u001b[39m REFERENCE_TYPE:\n\u001b[0;32m--> 326\u001b[0m     \u001b[38;5;28;01mraise\u001b[39;00m Py4JJavaError(\n\u001b[1;32m    327\u001b[0m         \u001b[38;5;124m\"\u001b[39m\u001b[38;5;124mAn error occurred while calling \u001b[39m\u001b[38;5;132;01m{0}\u001b[39;00m\u001b[38;5;132;01m{1}\u001b[39;00m\u001b[38;5;132;01m{2}\u001b[39;00m\u001b[38;5;124m.\u001b[39m\u001b[38;5;130;01m\\n\u001b[39;00m\u001b[38;5;124m\"\u001b[39m\u001b[38;5;241m.\u001b[39m\n\u001b[1;32m    328\u001b[0m         \u001b[38;5;28mformat\u001b[39m(target_id, \u001b[38;5;124m\"\u001b[39m\u001b[38;5;124m.\u001b[39m\u001b[38;5;124m\"\u001b[39m, name), value)\n\u001b[1;32m    329\u001b[0m \u001b[38;5;28;01melse\u001b[39;00m:\n\u001b[1;32m    330\u001b[0m     \u001b[38;5;28;01mraise\u001b[39;00m Py4JError(\n\u001b[1;32m    331\u001b[0m         \u001b[38;5;124m\"\u001b[39m\u001b[38;5;124mAn error occurred while calling \u001b[39m\u001b[38;5;132;01m{0}\u001b[39;00m\u001b[38;5;132;01m{1}\u001b[39;00m\u001b[38;5;132;01m{2}\u001b[39;00m\u001b[38;5;124m. Trace:\u001b[39m\u001b[38;5;130;01m\\n\u001b[39;00m\u001b[38;5;132;01m{3}\u001b[39;00m\u001b[38;5;130;01m\\n\u001b[39;00m\u001b[38;5;124m\"\u001b[39m\u001b[38;5;241m.\u001b[39m\n\u001b[1;32m    332\u001b[0m         \u001b[38;5;28mformat\u001b[39m(target_id, \u001b[38;5;124m\"\u001b[39m\u001b[38;5;124m.\u001b[39m\u001b[38;5;124m\"\u001b[39m, name, value))\n",
      "\u001b[0;31mPy4JJavaError\u001b[0m: An error occurred while calling o39.sql.\n: java.lang.NoClassDefFoundError: org/apache/spark/sql/catalyst/expressions/AnsiCast\n\tat org.apache.iceberg.spark.extensions.IcebergSparkSessionExtensions.$anonfun$apply$6(IcebergSparkSessionExtensions.scala:54)\n\tat org.apache.spark.sql.SparkSessionExtensions.$anonfun$buildResolutionRules$1(SparkSessionExtensions.scala:175)\n\tat scala.collection.TraversableLike.$anonfun$map$1(TraversableLike.scala:286)\n\tat scala.collection.mutable.ResizableArray.foreach(ResizableArray.scala:62)\n\tat scala.collection.mutable.ResizableArray.foreach$(ResizableArray.scala:55)\n\tat scala.collection.mutable.ArrayBuffer.foreach(ArrayBuffer.scala:49)\n\tat scala.collection.TraversableLike.map(TraversableLike.scala:286)\n\tat scala.collection.TraversableLike.map$(TraversableLike.scala:279)\n\tat scala.collection.AbstractTraversable.map(Traversable.scala:108)\n\tat org.apache.spark.sql.SparkSessionExtensions.buildResolutionRules(SparkSessionExtensions.scala:175)\n\tat org.apache.spark.sql.internal.BaseSessionStateBuilder.customResolutionRules(BaseSessionStateBuilder.scala:219)\n\tat org.apache.spark.sql.internal.BaseSessionStateBuilder$$anon$1.<init>(BaseSessionStateBuilder.scala:192)\n\tat org.apache.spark.sql.internal.BaseSessionStateBuilder.analyzer(BaseSessionStateBuilder.scala:183)\n\tat org.apache.spark.sql.internal.BaseSessionStateBuilder.$anonfun$build$2(BaseSessionStateBuilder.scala:369)\n\tat org.apache.spark.sql.internal.SessionState.analyzer$lzycompute(SessionState.scala:89)\n\tat org.apache.spark.sql.internal.SessionState.analyzer(SessionState.scala:89)\n\tat org.apache.spark.sql.execution.QueryExecution.$anonfun$analyzed$1(QueryExecution.scala:76)\n\tat org.apache.spark.sql.catalyst.QueryPlanningTracker.measurePhase(QueryPlanningTracker.scala:111)\n\tat org.apache.spark.sql.execution.QueryExecution.$anonfun$executePhase$2(QueryExecution.scala:202)\n\tat org.apache.spark.sql.execution.QueryExecution$.withInternalError(QueryExecution.scala:526)\n\tat org.apache.spark.sql.execution.QueryExecution.$anonfun$executePhase$1(QueryExecution.scala:202)\n\tat org.apache.spark.sql.SparkSession.withActive(SparkSession.scala:827)\n\tat org.apache.spark.sql.execution.QueryExecution.executePhase(QueryExecution.scala:201)\n\tat org.apache.spark.sql.execution.QueryExecution.analyzed$lzycompute(QueryExecution.scala:76)\n\tat org.apache.spark.sql.execution.QueryExecution.analyzed(QueryExecution.scala:74)\n\tat org.apache.spark.sql.execution.QueryExecution.assertAnalyzed(QueryExecution.scala:66)\n\tat org.apache.spark.sql.Dataset$.$anonfun$ofRows$2(Dataset.scala:98)\n\tat org.apache.spark.sql.SparkSession.withActive(SparkSession.scala:827)\n\tat org.apache.spark.sql.Dataset$.ofRows(Dataset.scala:96)\n\tat org.apache.spark.sql.SparkSession.$anonfun$sql$1(SparkSession.scala:640)\n\tat org.apache.spark.sql.SparkSession.withActive(SparkSession.scala:827)\n\tat org.apache.spark.sql.SparkSession.sql(SparkSession.scala:630)\n\tat org.apache.spark.sql.SparkSession.sql(SparkSession.scala:662)\n\tat java.base/jdk.internal.reflect.NativeMethodAccessorImpl.invoke0(Native Method)\n\tat java.base/jdk.internal.reflect.NativeMethodAccessorImpl.invoke(NativeMethodAccessorImpl.java:62)\n\tat java.base/jdk.internal.reflect.DelegatingMethodAccessorImpl.invoke(DelegatingMethodAccessorImpl.java:43)\n\tat java.base/java.lang.reflect.Method.invoke(Method.java:566)\n\tat py4j.reflection.MethodInvoker.invoke(MethodInvoker.java:244)\n\tat py4j.reflection.ReflectionEngine.invoke(ReflectionEngine.java:374)\n\tat py4j.Gateway.invoke(Gateway.java:282)\n\tat py4j.commands.AbstractCommand.invokeMethod(AbstractCommand.java:132)\n\tat py4j.commands.CallCommand.execute(CallCommand.java:79)\n\tat py4j.ClientServerConnection.waitForCommands(ClientServerConnection.java:182)\n\tat py4j.ClientServerConnection.run(ClientServerConnection.java:106)\n\tat java.base/java.lang.Thread.run(Thread.java:829)\nCaused by: java.lang.ClassNotFoundException: org.apache.spark.sql.catalyst.expressions.AnsiCast\n\tat java.base/java.net.URLClassLoader.findClass(URLClassLoader.java:476)\n\tat java.base/java.lang.ClassLoader.loadClass(ClassLoader.java:589)\n\tat java.base/java.lang.ClassLoader.loadClass(ClassLoader.java:522)\n\t... 45 more\n"
     ]
    }
   ],
   "source": [
    "# Creating a Simple Table:\n",
    "spark.sql(\"\"\"\n",
    "    CREATE TABLE glue.test.employees (\n",
    "        id INT,\n",
    "        role STRING,\n",
    "        department STRING,\n",
    "        salary FLOAT,\n",
    "        region STRING)\n",
    "    USING iceberg\n",
    "\"\"\")"
   ]
  },
  {
   "cell_type": "code",
   "execution_count": null,
   "id": "f880ccd1",
   "metadata": {},
   "outputs": [],
   "source": [
    "# Creating a Partitioned Table\n",
    "spark.sql(\"\"\"\n",
    "    CREATE TABLE glue.test.emp_partitioned (\n",
    "        id INT,\n",
    "        role STRING,\n",
    "        department STRING)\n",
    "    USING iceberg\n",
    "    PARTITIONED BY (department)\n",
    "\"\"\")"
   ]
  },
  {
   "cell_type": "code",
   "execution_count": null,
   "id": "c1bcaeca",
   "metadata": {},
   "outputs": [],
   "source": [
    "# Creating a Partitioned Table using a transform expression:\n",
    "spark.sql(\"\"\"\n",
    "    CREATE TABLE glue.test.emp_partitioned_month (\n",
    "        id INT,\n",
    "        role STRING,\n",
    "        department STRING,\n",
    "        join_date DATE\n",
    "    )\n",
    "    USING iceberg\n",
    "    PARTITIONED BY (months(join_date))\n",
    "\"\"\")"
   ]
  },
  {
   "cell_type": "code",
   "execution_count": null,
   "id": "9ff2a6ce",
   "metadata": {},
   "outputs": [],
   "source": [
    "# Create Table AS (CTAS):\n",
    "spark.sql(\"\"\"\n",
    "    CREATE TABLE glue.test.employee_ctas\n",
    "    USING iceberg\n",
    "    AS SELECT * FROM glue.test.sample\n",
    "\"\"\")"
   ]
  },
  {
   "cell_type": "code",
   "execution_count": 6,
   "id": "bb41a7e8",
   "metadata": {},
   "outputs": [],
   "source": [
    "# CTAS with Properties:\n",
    "spark.sql(\"\"\"\n",
    "    CREATE TABLE glue.test.emp_ctas_partition\n",
    "    USING iceberg\n",
    "    PARTITIONED BY (category)\n",
    "    TBLPROPERTIES (write.format.default='avro')\n",
    "    AS SELECT *\n",
    "    FROM glue.test.sample\n",
    "\"\"\")"
   ]
  },
  {
   "cell_type": "code",
   "execution_count": null,
   "id": "5bd538e1",
   "metadata": {},
   "outputs": [],
   "source": [
    "# ALTER Table:\n",
    "spark.sql(\"\"\"\n",
    "    ALTER TABLE glue.test.employees RENAME TO glue.test.emp_renamed\n",
    "\"\"\")"
   ]
  },
  {
   "cell_type": "code",
   "execution_count": 7,
   "id": "f9d01d87",
   "metadata": {},
   "outputs": [],
   "source": [
    "# Set Table Properties:\n",
    "spark.sql(\"\"\"\n",
    "    ALTER TABLE glue.test.employees SET TBLPROPERTIES ('write.wap.enabled'='true')\n",
    "\"\"\")"
   ]
  },
  {
   "cell_type": "code",
   "execution_count": 9,
   "id": "2b458bb7",
   "metadata": {},
   "outputs": [],
   "source": [
    "# Add Column:\n",
    "spark.sql(\"\"\"\n",
    "    ALTER TABLE glue.test.employees ADD COLUMN manager STRING\n",
    "\"\"\")"
   ]
  },
  {
   "cell_type": "code",
   "execution_count": null,
   "id": "40c84713",
   "metadata": {},
   "outputs": [],
   "source": [
    "# Add Multiple Columns:\n",
    "spark.sql(\"\"\"\n",
    "    ALTER TABLE glue.test.employees ADD COLUMN details STRING, manager_id INT\n",
    "\"\"\")"
   ]
  },
  {
   "cell_type": "code",
   "execution_count": null,
   "id": "2788c75d",
   "metadata": {},
   "outputs": [],
   "source": [
    "# Add Column to Specific Position:\n",
    "spark.sql(\"\"\"\n",
    "ALTER TABLE glue.test.employees ADD COLUMN new_column bigint AFTER department\n",
    "\"\"\")"
   ]
  },
  {
   "cell_type": "code",
   "execution_count": null,
   "id": "0e84c7ab",
   "metadata": {},
   "outputs": [],
   "source": [
    "# Rename Column:\n",
    "spark.sql(\"\"\"\n",
    "    ALTER TABLE glue.test.employees RENAME COLUMN role TO title\n",
    "\"\"\")"
   ]
  },
  {
   "cell_type": "code",
   "execution_count": null,
   "id": "6d9ff138",
   "metadata": {},
   "outputs": [],
   "source": [
    "# Modify Column:\n",
    "spark.sql(\"\"\"\n",
    "    ALTER TABLE glue.test.employees ALTER COLUMN id TYPE BIGINT\n",
    "\"\"\")"
   ]
  },
  {
   "cell_type": "code",
   "execution_count": null,
   "id": "dd3c22b1",
   "metadata": {},
   "outputs": [],
   "source": [
    "# Reorder Column:\n",
    "spark.sql(\"ALTER TABLE glue.test.employees ALTER COLUMN salary FIRST\")"
   ]
  },
  {
   "cell_type": "code",
   "execution_count": null,
   "id": "393def2e",
   "metadata": {},
   "outputs": [],
   "source": [
    "# Drop Column:\n",
    "spark.sql(\"\"\"\n",
    "    ALTER TABLE glue.test.employees DROP COLUMN department\n",
    "\"\"\")"
   ]
  },
  {
   "cell_type": "code",
   "execution_count": null,
   "id": "ae4caffb",
   "metadata": {},
   "outputs": [],
   "source": [
    "# Add Partition (with SQL Extension):\n",
    "spark.sql(\"\"\"\n",
    "    ALTER TABLE glue.test.employees ADD PARTITION FIELD region\n",
    "\"\"\")"
   ]
  },
  {
   "cell_type": "code",
   "execution_count": null,
   "id": "dc63d89c",
   "metadata": {},
   "outputs": [],
   "source": [
    "# Drop Partition (with SQL Extension):\n",
    "spark.sql(\"\"\"\n",
    "    ALTER TABLE glue.test.employees DROP PARTITION FIELD department\n",
    "\"\"\")"
   ]
  },
  {
   "cell_type": "code",
   "execution_count": null,
   "id": "e20bdd32",
   "metadata": {},
   "outputs": [],
   "source": [
    "# Replace Partition (with SQL Extension):\n",
    "spark.sql(\"\"\"\n",
    "    ALTER TABLE glue.test.employees REPLACE PARTITION FIELD region WITH department\n",
    "\"\"\")"
   ]
  },
  {
   "cell_type": "code",
   "execution_count": null,
   "id": "08d68f5b",
   "metadata": {},
   "outputs": [],
   "source": [
    "# Set Write Order:\n",
    "spark.sql(\"\"\"\n",
    "    ALTER TABLE glue.test.employees WRITE ORDERED BY id ASC\n",
    "\"\"\")"
   ]
  },
  {
   "cell_type": "code",
   "execution_count": null,
   "id": "dbb21a3c",
   "metadata": {},
   "outputs": [],
   "source": [
    "# Set Write Distribution:\n",
    "spark.sql(\"\"\"\n",
    "    ALTER TABLE glue.test.employees WRITE DISTRIBUTED BY PARTITION\n",
    "\"\"\")"
   ]
  },
  {
   "cell_type": "code",
   "execution_count": null,
   "id": "39e28670",
   "metadata": {},
   "outputs": [],
   "source": [
    "# Set Identifier Field:\n",
    "spark.sql(\"\"\"\n",
    "    ALTER TABLE glue.test.employees SET IDENTIFIER FIELDS id\n",
    "\"\"\")"
   ]
  },
  {
   "cell_type": "code",
   "execution_count": null,
   "id": "d62b2af3",
   "metadata": {},
   "outputs": [],
   "source": [
    "# Drop Identifier Field:\n",
    "spark.sql(\"\"\"\n",
    "    ALTER TABLE glue.test.employees DROP IDENTIFIER FIELDS id\n",
    "\"\"\")"
   ]
  },
  {
   "cell_type": "code",
   "execution_count": null,
   "id": "e0aee620",
   "metadata": {},
   "outputs": [],
   "source": [
    "# Drop Table:\n",
    "spark.sql(\"DROP TABLE glue.test.employees\")"
   ]
  },
  {
   "cell_type": "code",
   "execution_count": null,
   "id": "f0985ebc",
   "metadata": {},
   "outputs": [],
   "source": [
    "# Purge Table:\n",
    "spark.sql(\"DROP TABLE glue.test.employees PURGE\")"
   ]
  },
  {
   "cell_type": "code",
   "execution_count": null,
   "id": "9e5ec91e",
   "metadata": {},
   "outputs": [],
   "source": [
    "# Select All Query:\n",
    "spark.sql(\"SELECT * FROM glue.test.employees\").show()"
   ]
  },
  {
   "cell_type": "code",
   "execution_count": 10,
   "id": "414c36a1",
   "metadata": {},
   "outputs": [],
   "source": [
    "# Filtering Rows:\n",
    "spark.sql(\"SELECT * FROM glue.test.employees WHERE department = 'Marketing'\").show()"
   ]
  },
  {
   "cell_type": "code",
   "execution_count": null,
   "id": "59804cdd",
   "metadata": {},
   "outputs": [],
   "source": [
    "# Aggregated Queries:\n",
    "# Count:\n",
    "spark.sql(\"SELECT COUNT(*) FROM glue.test.employees\").show()\n",
    "\n",
    "# Average:\n",
    "spark.sql(\"SELECT AVG(salary) FROM glue.test.employees\").show()\n",
    "\n",
    "# Sum:\n",
    "spark.sql(\"SELECT SUM(salary) FROM glue.test.employees\").show()\n",
    "\n",
    "# Maximum:\n",
    "spark.sql(\"SELECT category, MAX(salary) FROM glue.test.employees GROUP BY category\").show()\n",
    "\n",
    "# Window Function (Rank):\n",
    "spark.sql(\"\"\"\n",
    "SELECT * , RANK() OVER (PARTITION BY department ORDER BY salary DESC) as rank\n",
    "FROM glue.test.employees\n",
    "\"\"\").show()"
   ]
  },
  {
   "cell_type": "code",
   "execution_count": null,
   "id": "c0ee51cd",
   "metadata": {},
   "outputs": [],
   "source": [
    "# INSERT INTO:\n",
    "spark.sql(\"\"\"\n",
    "INSERT INTO glue.test.employees \n",
    "VALUES \n",
    "(1, 'Software Engineer', 'Engineering', 25000, 'NA'),\n",
    "(2, 'Director', 'Sales', 22000, 'EMEA')\n",
    "\"\"\")"
   ]
  },
  {
   "cell_type": "code",
   "execution_count": null,
   "id": "c47cba41",
   "metadata": {},
   "outputs": [],
   "source": [
    "# MERGE INTO: (Please ensure to create the 'employee_updates' table prior to running this)\n",
    "spark.sql(\"\"\"\n",
    "MERGE INTO glue.test.employees AS target\n",
    "USING (SELECT * FROM employee_updates) AS source\n",
    "ON target.id = source.id\n",
    "WHEN MATCHED AND source.role = 'Manager' AND source.salary > 100000 THEN\n",
    "    UPDATE SET target.salary = source.salary\n",
    "WHEN NOT MATCHED THEN\n",
    "    INSERT *\n",
    "\"\"\")"
   ]
  },
  {
   "cell_type": "code",
   "execution_count": null,
   "id": "ba32b182",
   "metadata": {},
   "outputs": [],
   "source": [
    "# INSERT OVERWRITE: Static Overwrite\n",
    "spark.sql(\"\"\"\n",
    "INSERT OVERWRITE glue.test.employees\n",
    "PARTITION (region = 'EMEA')\n",
    "SELECT * \n",
    "FROM employee_source\n",
    "WHERE region = 'EMEA'\n",
    "\"\"\")"
   ]
  },
  {
   "cell_type": "code",
   "execution_count": null,
   "id": "63db7032",
   "metadata": {},
   "outputs": [],
   "source": [
    "# INSERT OVERWRITE: Dynamic Overwrite. Please make sure to set \n",
    "# spark.conf.set(\"spark.sql.sources.partitionOverwriteMode\", \"dynamic\") in your Spark app.\n",
    "# Make sure to create the 'employee_source' table prior to running this.\n",
    "spark.sql(\"\"\"\n",
    "INSERT OVERWRITE glue.test.employees\n",
    "SELECT * FROM employee_source\n",
    "WHERE region = 'EMEA'\n",
    "\"\"\")"
   ]
  },
  {
   "cell_type": "code",
   "execution_count": null,
   "id": "40205802",
   "metadata": {},
   "outputs": [],
   "source": [
    "# Delete:\n",
    "spark.sql(\"DELETE FROM glue.test.employees WHERE id < 3\")"
   ]
  },
  {
   "cell_type": "code",
   "execution_count": null,
   "id": "ce1ac7b7",
   "metadata": {},
   "outputs": [],
   "source": [
    "# Update:\n",
    "spark.sql(\"\"\"\n",
    "UPDATE glue.test.employee\n",
    "SET region = 'APAC', salary = 6000\n",
    "WHERE id = 6\n",
    "\"\"\")"
   ]
  },
  {
   "cell_type": "code",
   "execution_count": null,
   "id": "71d8f45c",
   "metadata": {},
   "outputs": [],
   "source": [
    "# Expire Snapshots Procedure:\n",
    "spark.sql(\"CALL glue.system.expire_snapshots('test.employees', date_sub(current_date(), 90), 50)\")"
   ]
  },
  {
   "cell_type": "code",
   "execution_count": null,
   "id": "23d373e6",
   "metadata": {},
   "outputs": [],
   "source": [
    "# Rewrite Data Files:\n",
    "spark.sql(\"CALL glue.system.rewrite_data_files('test.employees')\")"
   ]
  },
  {
   "cell_type": "code",
   "execution_count": null,
   "id": "784a1d45",
   "metadata": {},
   "outputs": [],
   "source": [
    "# Rewrite Manifests:\n",
    "spark.sql(\"CALL test.system.rewrite_manifests('test.employees')\")"
   ]
  },
  {
   "cell_type": "code",
   "execution_count": null,
   "id": "e1f707fb",
   "metadata": {},
   "outputs": [],
   "source": [
    "# Remove Orphan files:\n",
    "spark.sql(\"CALL glue.system.remove_orphan_files(table => 'test.employees', dry_run => true)\")"
   ]
  },
  {
   "cell_type": "code",
   "execution_count": null,
   "id": "4c5fa3fd",
   "metadata": {},
   "outputs": [],
   "source": []
  },
  {
   "cell_type": "markdown",
   "id": "721fd886",
   "metadata": {},
   "source": [
    "### links"
   ]
  },
  {
   "cell_type": "code",
   "execution_count": null,
   "id": "2223fd7f",
   "metadata": {},
   "outputs": [],
   "source": []
  },
  {
   "cell_type": "markdown",
   "id": "61494412",
   "metadata": {},
   "source": [
    "* Apache Iceberg github\n",
    "https://github.com/developer-advocacy-dremio/definitive-guide-to-apache-iceberg\n",
    "    "
   ]
  },
  {
   "cell_type": "markdown",
   "id": "91810c00",
   "metadata": {},
   "source": [
    "* Creating a Data Lakehouse Evironment for Experiementing with Apache Iceberg Locally\n",
    "https://github.com/developer-advocacy-dremio/definitive-guide-to-apache-iceberg/blob/main/Resources/Chapter_6/developer_env.md\n",
    "    "
   ]
  },
  {
   "cell_type": "markdown",
   "id": "adbe3b41",
   "metadata": {},
   "source": [
    "* Chapter 6. Examples.\n",
    "https://github.com/developer-advocacy-dremio/definitive-guide-to-apache-iceberg/blob/main/Resources/Chapter_6/Chapter6Spark.ipynb\n",
    "    "
   ]
  }
 ],
 "metadata": {
  "kernelspec": {
   "display_name": "Python 3 (ipykernel)",
   "language": "python",
   "name": "python3"
  },
  "language_info": {
   "codemirror_mode": {
    "name": "ipython",
    "version": 3
   },
   "file_extension": ".py",
   "mimetype": "text/x-python",
   "name": "python",
   "nbconvert_exporter": "python",
   "pygments_lexer": "ipython3",
   "version": "3.10.11"
  }
 },
 "nbformat": 4,
 "nbformat_minor": 5
}
