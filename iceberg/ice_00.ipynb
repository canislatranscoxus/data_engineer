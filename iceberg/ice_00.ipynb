{
 "cells": [
  {
   "cell_type": "markdown",
   "id": "de7d802b",
   "metadata": {},
   "source": [
    "# Apache Iceberg and pySpark\n"
   ]
  },
  {
   "cell_type": "markdown",
   "id": "7a6550d3",
   "metadata": {},
   "source": [
    "## CREATE table"
   ]
  },
  {
   "cell_type": "code",
   "execution_count": null,
   "id": "934cb8e0",
   "metadata": {},
   "outputs": [],
   "source": []
  },
  {
   "cell_type": "code",
   "execution_count": null,
   "id": "91a4540f",
   "metadata": {},
   "outputs": [],
   "source": []
  },
  {
   "cell_type": "code",
   "execution_count": null,
   "id": "52ddb3b6",
   "metadata": {},
   "outputs": [],
   "source": [
    "spark.sql(\"\"\"\n",
    "    CREATE TABLE glue.test.employee (\n",
    "        id         INT,\n",
    "        role       STRING,\n",
    "        department STRING,\n",
    "        salary     FLOAT,\n",
    "        region     STRING)\n",
    "    USING iceberg\n",
    "\"\"\")"
   ]
  },
  {
   "cell_type": "code",
   "execution_count": null,
   "id": "8bd3a4a6",
   "metadata": {},
   "outputs": [],
   "source": []
  },
  {
   "cell_type": "code",
   "execution_count": null,
   "id": "0d87a73f",
   "metadata": {},
   "outputs": [],
   "source": []
  },
  {
   "cell_type": "code",
   "execution_count": null,
   "id": "4d7711f5",
   "metadata": {},
   "outputs": [],
   "source": []
  }
 ],
 "metadata": {
  "kernelspec": {
   "display_name": "Python 3 (ipykernel)",
   "language": "python",
   "name": "python3"
  },
  "language_info": {
   "codemirror_mode": {
    "name": "ipython",
    "version": 3
   },
   "file_extension": ".py",
   "mimetype": "text/x-python",
   "name": "python",
   "nbconvert_exporter": "python",
   "pygments_lexer": "ipython3",
   "version": "3.10.11"
  }
 },
 "nbformat": 4,
 "nbformat_minor": 5
}
