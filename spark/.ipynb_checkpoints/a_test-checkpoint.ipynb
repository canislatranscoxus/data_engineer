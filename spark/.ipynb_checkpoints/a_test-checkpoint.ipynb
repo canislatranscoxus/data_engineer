{
 "cells": [
  {
   "cell_type": "code",
   "execution_count": null,
   "id": "d365e01d",
   "metadata": {},
   "outputs": [],
   "source": [
    "This is hands on practice to test our knowledge.\n"
   ]
  },
  {
   "cell_type": "code",
   "execution_count": null,
   "id": "ebf9837a",
   "metadata": {},
   "outputs": [],
   "source": []
  },
  {
   "cell_type": "code",
   "execution_count": null,
   "id": "6c8ee516",
   "metadata": {},
   "outputs": [],
   "source": []
  },
  {
   "cell_type": "markdown",
   "id": "f6e4eb8b",
   "metadata": {},
   "source": [
    "### import libraries"
   ]
  },
  {
   "cell_type": "code",
   "execution_count": null,
   "id": "6f525226",
   "metadata": {},
   "outputs": [],
   "source": []
  },
  {
   "cell_type": "markdown",
   "id": "6a9d4361",
   "metadata": {},
   "source": [
    "create spark session"
   ]
  },
  {
   "cell_type": "code",
   "execution_count": null,
   "id": "752be934",
   "metadata": {},
   "outputs": [],
   "source": []
  },
  {
   "cell_type": "markdown",
   "id": "7b1e1434",
   "metadata": {},
   "source": [
    "### Extract. Read data and put it in a spark dataframe"
   ]
  },
  {
   "cell_type": "markdown",
   "id": "3272eca6",
   "metadata": {},
   "source": [
    "read json"
   ]
  },
  {
   "cell_type": "code",
   "execution_count": null,
   "id": "292950b1",
   "metadata": {},
   "outputs": [],
   "source": []
  },
  {
   "cell_type": "markdown",
   "id": "6605fa05",
   "metadata": {},
   "source": [
    "read parquet"
   ]
  },
  {
   "cell_type": "code",
   "execution_count": null,
   "id": "8ed955a4",
   "metadata": {},
   "outputs": [],
   "source": []
  },
  {
   "cell_type": "markdown",
   "id": "2e44e40e",
   "metadata": {},
   "source": [
    "read txt"
   ]
  },
  {
   "cell_type": "code",
   "execution_count": null,
   "id": "82619601",
   "metadata": {},
   "outputs": [],
   "source": []
  },
  {
   "cell_type": "markdown",
   "id": "55258d6a",
   "metadata": {},
   "source": [
    "read csv"
   ]
  },
  {
   "cell_type": "code",
   "execution_count": null,
   "id": "669433c9",
   "metadata": {},
   "outputs": [],
   "source": []
  },
  {
   "cell_type": "markdown",
   "id": "2c570072",
   "metadata": {},
   "source": [
    "read avro"
   ]
  },
  {
   "cell_type": "code",
   "execution_count": null,
   "id": "05007d60",
   "metadata": {},
   "outputs": [],
   "source": []
  },
  {
   "cell_type": "markdown",
   "id": "9ecc1dca",
   "metadata": {},
   "source": [
    "read from amazon aws s3 bucket"
   ]
  },
  {
   "cell_type": "code",
   "execution_count": null,
   "id": "9a707b32",
   "metadata": {},
   "outputs": [],
   "source": []
  },
  {
   "cell_type": "markdown",
   "id": "de8b51b2",
   "metadata": {},
   "source": [
    "read from google gcp cloud storage bucket"
   ]
  },
  {
   "cell_type": "code",
   "execution_count": null,
   "id": "a3580966",
   "metadata": {},
   "outputs": [],
   "source": []
  },
  {
   "cell_type": "markdown",
   "id": "75e6d0b4",
   "metadata": {},
   "source": [
    "### explore"
   ]
  },
  {
   "cell_type": "markdown",
   "id": "b0c19078",
   "metadata": {},
   "source": [
    "display describe schema"
   ]
  },
  {
   "cell_type": "markdown",
   "id": "62e5ee4b",
   "metadata": {},
   "source": [
    "select show 3 rows"
   ]
  },
  {
   "cell_type": "markdown",
   "id": "d31e3636",
   "metadata": {},
   "source": [
    "return array of 3 rows"
   ]
  },
  {
   "cell_type": "markdown",
   "id": "93915a02",
   "metadata": {},
   "source": [
    "select 3 rows and display in pretty grid"
   ]
  },
  {
   "cell_type": "code",
   "execution_count": null,
   "id": "89357d8a",
   "metadata": {},
   "outputs": [],
   "source": []
  },
  {
   "cell_type": "markdown",
   "id": "dd276f48",
   "metadata": {},
   "source": [
    "### Select From Where. Filter"
   ]
  },
  {
   "cell_type": "markdown",
   "id": "cfdfada3",
   "metadata": {},
   "source": [
    "select columns"
   ]
  },
  {
   "cell_type": "markdown",
   "id": "68555ebf",
   "metadata": {},
   "source": [
    "Where, Filter rows"
   ]
  },
  {
   "cell_type": "code",
   "execution_count": null,
   "id": "2c64ce24",
   "metadata": {},
   "outputs": [],
   "source": []
  },
  {
   "cell_type": "code",
   "execution_count": null,
   "id": "cab1668a",
   "metadata": {},
   "outputs": [],
   "source": []
  },
  {
   "cell_type": "markdown",
   "id": "65986f24",
   "metadata": {},
   "source": [
    "### Transform Dataframes"
   ]
  },
  {
   "cell_type": "markdown",
   "id": "b995bbd8",
   "metadata": {},
   "source": [
    "#### NULL values"
   ]
  },
  {
   "cell_type": "markdown",
   "id": "23b41d37",
   "metadata": {},
   "source": [
    "errors, wrong data type"
   ]
  },
  {
   "cell_type": "markdown",
   "id": "c43829f6",
   "metadata": {},
   "source": [
    "blanks"
   ]
  },
  {
   "cell_type": "markdown",
   "id": "5e673ec8",
   "metadata": {},
   "source": [
    "add new column"
   ]
  },
  {
   "cell_type": "markdown",
   "id": "7f8c896f",
   "metadata": {},
   "source": [
    "delete column"
   ]
  },
  {
   "cell_type": "markdown",
   "id": "619cd444",
   "metadata": {},
   "source": [
    "rename column"
   ]
  },
  {
   "cell_type": "code",
   "execution_count": null,
   "id": "776131ca",
   "metadata": {},
   "outputs": [],
   "source": []
  },
  {
   "cell_type": "markdown",
   "id": "40067729",
   "metadata": {},
   "source": [
    "### Aggregation functions"
   ]
  },
  {
   "cell_type": "code",
   "execution_count": null,
   "id": "f89ca6f8",
   "metadata": {},
   "outputs": [],
   "source": []
  },
  {
   "cell_type": "code",
   "execution_count": null,
   "id": "06310188",
   "metadata": {},
   "outputs": [],
   "source": []
  },
  {
   "cell_type": "markdown",
   "id": "e8405aad",
   "metadata": {},
   "source": [
    "### Joins"
   ]
  },
  {
   "cell_type": "code",
   "execution_count": null,
   "id": "938c42a3",
   "metadata": {},
   "outputs": [],
   "source": []
  },
  {
   "cell_type": "markdown",
   "id": "7851d0ac",
   "metadata": {},
   "source": [
    "### SQL"
   ]
  },
  {
   "cell_type": "markdown",
   "id": "6b463966",
   "metadata": {},
   "source": []
  },
  {
   "cell_type": "markdown",
   "id": "a5ea6495",
   "metadata": {},
   "source": [
    "\n",
    "## Performance"
   ]
  },
  {
   "cell_type": "code",
   "execution_count": 2,
   "id": "e1506fb3",
   "metadata": {},
   "outputs": [
    {
     "ename": "NameError",
     "evalue": "name 'df' is not defined",
     "output_type": "error",
     "traceback": [
      "\u001b[0;31m---------------------------------------------------------------------------\u001b[0m",
      "\u001b[0;31mNameError\u001b[0m                                 Traceback (most recent call last)",
      "Cell \u001b[0;32mIn[2], line 1\u001b[0m\n\u001b[0;32m----> 1\u001b[0m \u001b[43mdf\u001b[49m\u001b[38;5;241m.\u001b[39mexplain()\n",
      "\u001b[0;31mNameError\u001b[0m: name 'df' is not defined"
     ]
    }
   ],
   "source": [
    "df.explain()"
   ]
  },
  {
   "cell_type": "code",
   "execution_count": null,
   "id": "a7f5e6fb",
   "metadata": {},
   "outputs": [],
   "source": []
  }
 ],
 "metadata": {
  "kernelspec": {
   "display_name": "Python 3 (ipykernel)",
   "language": "python",
   "name": "python3"
  },
  "language_info": {
   "codemirror_mode": {
    "name": "ipython",
    "version": 3
   },
   "file_extension": ".py",
   "mimetype": "text/x-python",
   "name": "python",
   "nbconvert_exporter": "python",
   "pygments_lexer": "ipython3",
   "version": "3.10.11"
  }
 },
 "nbformat": 4,
 "nbformat_minor": 5
}
