{
 "cells": [
  {
   "cell_type": "markdown",
   "id": "ceec13ef",
   "metadata": {},
   "source": [
    "# Dataproc - Cloud Storage\n",
    "\n",
    "In this example we read a text file from google Cloud Storage, make word count,\n",
    "and write the result in another file in Cloud Storage.\n"
   ]
  },
  {
   "cell_type": "code",
   "execution_count": null,
   "id": "83eddd8c",
   "metadata": {},
   "outputs": [],
   "source": []
  },
  {
   "cell_type": "code",
   "execution_count": null,
   "id": "2e659ef2",
   "metadata": {},
   "outputs": [],
   "source": [
    "#!/usr/bin/env python\n",
    "\n",
    "import pyspark\n",
    "import sys\n",
    "\n",
    "if len(sys.argv) != 3:\n",
    "  raise Exception(\"Exactly 2 arguments are required: <inputUri> <outputUri>\")\n",
    "\n",
    "inputUri=sys.argv[1]\n",
    "outputUri=sys.argv[2]\n",
    "\n",
    "sc = pyspark.SparkContext()\n",
    "lines = sc.textFile(sys.argv[1])\n",
    "words = lines.flatMap(lambda line: line.split())\n",
    "wordCounts = words.map(lambda word: (word, 1)).reduceByKey(lambda count1, count2: count1 + count2)\n",
    "wordCounts.saveAsTextFile(sys.argv[2])"
   ]
  },
  {
   "cell_type": "markdown",
   "id": "acfb66b9",
   "metadata": {},
   "source": [
    "### how to read and write from Google CLoud Storage"
   ]
  },
  {
   "cell_type": "markdown",
   "id": "aa311280",
   "metadata": {},
   "source": [
    "we read and write similar to file system, we do not need nothing fancy."
   ]
  },
  {
   "cell_type": "markdown",
   "id": "51ae7e30",
   "metadata": {},
   "source": [
    "the path must start with prefix \"gs://\", for example:"
   ]
  },
  {
   "cell_type": "code",
   "execution_count": null,
   "id": "eccc61ef",
   "metadata": {},
   "outputs": [],
   "source": [
    "gs://my_songs_bucket//happy.txt"
   ]
  },
  {
   "cell_type": "markdown",
   "id": "166a96a6",
   "metadata": {},
   "source": [
    "### submit the job"
   ]
  },
  {
   "cell_type": "code",
   "execution_count": null,
   "id": "8750032a",
   "metadata": {},
   "outputs": [],
   "source": [
    "gcloud dataproc jobs submit pyspark word-count.py \\\n",
    "    --cluster=${CLUSTER} \\\n",
    "    --region=${REGION} \\\n",
    "    -- gs://${BUCKET_NAME}/input/ gs://${BUCKET_NAME}/output/"
   ]
  },
  {
   "cell_type": "markdown",
   "id": "c9a5e2d8",
   "metadata": {},
   "source": [
    "### links"
   ]
  },
  {
   "cell_type": "markdown",
   "id": "94c57137",
   "metadata": {},
   "source": [
    "* Use the Cloud Storage connector with Apache Spark\n",
    "\n",
    "https://cloud.google.com/dataproc/docs/tutorials/gcs-connector-spark-tutorial#python"
   ]
  },
  {
   "cell_type": "code",
   "execution_count": null,
   "id": "d3e234a4",
   "metadata": {},
   "outputs": [],
   "source": []
  },
  {
   "cell_type": "code",
   "execution_count": null,
   "id": "a3cad75f",
   "metadata": {},
   "outputs": [],
   "source": []
  }
 ],
 "metadata": {
  "kernelspec": {
   "display_name": "Python 3 (ipykernel)",
   "language": "python",
   "name": "python3"
  },
  "language_info": {
   "codemirror_mode": {
    "name": "ipython",
    "version": 3
   },
   "file_extension": ".py",
   "mimetype": "text/x-python",
   "name": "python",
   "nbconvert_exporter": "python",
   "pygments_lexer": "ipython3",
   "version": "3.10.11"
  }
 },
 "nbformat": 4,
 "nbformat_minor": 5
}
