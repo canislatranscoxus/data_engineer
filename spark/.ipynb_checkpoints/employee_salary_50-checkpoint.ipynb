{
 "cells": [
  {
   "cell_type": "markdown",
   "id": "18e309ce",
   "metadata": {},
   "source": [
    "### Analysis\n",
    "\n",
    "load Employee Salary cvs file\n",
    "\n",
    "and find the employees with highest salaries, department highest salaries, etc\n",
    "\n"
   ]
  },
  {
   "cell_type": "markdown",
   "id": "77cbe661",
   "metadata": {},
   "source": [
    "The csv file has the next columns\n",
    "\n",
    "* EMPLOYEE_ID\t\n",
    "* FIRST_NAME\t\n",
    "* LAST_NAME\t\n",
    "* EMAIL\t\n",
    "* PHONE_NUMBER\t\n",
    "* HIRE_DATE\t\n",
    "* JOB_ID\t\n",
    "* SALARY\t\n",
    "* COMMISSION_PCT\t\n",
    "* MANAGER_ID\t\n",
    "* DEPARTMENT_ID\n",
    "\n",
    "\n",
    "\n"
   ]
  },
  {
   "cell_type": "code",
   "execution_count": 1,
   "id": "26d77ce7",
   "metadata": {},
   "outputs": [],
   "source": [
    "from IPython.display        import display, HTML\n",
    "\n",
    "import findspark\n",
    "findspark.init()\n",
    "import pyspark\n",
    "\n",
    "#from pyspark.context import SparkContext\n",
    "from pyspark.sql            import SparkSession\n",
    "from pyspark.sql            import functions as F\n",
    "from pyspark.sql.functions  import col, explode, udf\n",
    "\n",
    "from pyspark.sql.window import Window\n",
    "\n",
    "\n",
    "from pyspark.sql.types      import Row, StringType, LongType, ArrayType\n",
    "\n"
   ]
  },
  {
   "cell_type": "code",
   "execution_count": 2,
   "id": "74fbac22",
   "metadata": {},
   "outputs": [
    {
     "name": "stderr",
     "output_type": "stream",
     "text": [
      "Setting default log level to \"WARN\".\n",
      "To adjust logging level use sc.setLogLevel(newLevel). For SparkR, use setLogLevel(newLevel).\n",
      "24/04/10 12:13:46 WARN NativeCodeLoader: Unable to load native-hadoop library for your platform... using builtin-java classes where applicable\n"
     ]
    }
   ],
   "source": [
    "spark = SparkSession.builder \\\n",
    "        .appName( 'employees 50' )  \\\n",
    "        .getOrCreate()"
   ]
  },
  {
   "cell_type": "markdown",
   "id": "ab513db4",
   "metadata": {},
   "source": [
    "### extract"
   ]
  },
  {
   "cell_type": "code",
   "execution_count": 3,
   "id": "9ce21c4d",
   "metadata": {},
   "outputs": [
    {
     "name": "stderr",
     "output_type": "stream",
     "text": [
      "                                                                                \r"
     ]
    }
   ],
   "source": [
    "input_file = '/home/art/data/tiny/employees_50.csv'\n",
    "\n",
    "df = spark.read \\\n",
    "    .options( header = True, inferSchema = True, delimiter = ','  ) \\\n",
    "    .csv( input_file )"
   ]
  },
  {
   "cell_type": "code",
   "execution_count": 4,
   "id": "12aacd82",
   "metadata": {},
   "outputs": [
    {
     "data": {
      "text/plain": [
       "StructType([StructField('EMPLOYEE_ID', IntegerType(), True), StructField('FIRST_NAME', StringType(), True), StructField('LAST_NAME', StringType(), True), StructField('EMAIL', StringType(), True), StructField('PHONE_NUMBER', StringType(), True), StructField('HIRE_DATE', StringType(), True), StructField('JOB_ID', StringType(), True), StructField('SALARY', IntegerType(), True), StructField('COMMISSION_PCT', StringType(), True), StructField('MANAGER_ID', StringType(), True), StructField('DEPARTMENT_ID', IntegerType(), True)])"
      ]
     },
     "execution_count": 4,
     "metadata": {},
     "output_type": "execute_result"
    }
   ],
   "source": [
    "df.schema"
   ]
  },
  {
   "cell_type": "code",
   "execution_count": 5,
   "id": "1942b439",
   "metadata": {},
   "outputs": [
    {
     "name": "stdout",
     "output_type": "stream",
     "text": [
      "root\n",
      " |-- EMPLOYEE_ID: integer (nullable = true)\n",
      " |-- FIRST_NAME: string (nullable = true)\n",
      " |-- LAST_NAME: string (nullable = true)\n",
      " |-- EMAIL: string (nullable = true)\n",
      " |-- PHONE_NUMBER: string (nullable = true)\n",
      " |-- HIRE_DATE: string (nullable = true)\n",
      " |-- JOB_ID: string (nullable = true)\n",
      " |-- SALARY: integer (nullable = true)\n",
      " |-- COMMISSION_PCT: string (nullable = true)\n",
      " |-- MANAGER_ID: string (nullable = true)\n",
      " |-- DEPARTMENT_ID: integer (nullable = true)\n",
      "\n"
     ]
    }
   ],
   "source": [
    "df.printSchema()"
   ]
  },
  {
   "cell_type": "code",
   "execution_count": 6,
   "id": "3c595b1c",
   "metadata": {},
   "outputs": [
    {
     "name": "stdout",
     "output_type": "stream",
     "text": [
      "+-----------+----------+---------+--------+------------+---------+----------+------+--------------+----------+-------------+\n",
      "|EMPLOYEE_ID|FIRST_NAME|LAST_NAME|   EMAIL|PHONE_NUMBER|HIRE_DATE|    JOB_ID|SALARY|COMMISSION_PCT|MANAGER_ID|DEPARTMENT_ID|\n",
      "+-----------+----------+---------+--------+------------+---------+----------+------+--------------+----------+-------------+\n",
      "|        198|    Donald| OConnell|DOCONNEL|650.507.9833|21-JUN-07|  SH_CLERK|  2600|            - |       124|           50|\n",
      "|        199|   Douglas|    Grant|  DGRANT|650.507.9844|13-JAN-08|  SH_CLERK|  2600|            - |       124|           50|\n",
      "|        200|  Jennifer|   Whalen| JWHALEN|515.123.4444|17-SEP-03|   AD_ASST|  4400|            - |       101|           10|\n",
      "|        201|   Michael|Hartstein|MHARTSTE|515.123.5555|17-FEB-04|    MK_MAN| 13000|            - |       100|           20|\n",
      "|        202|       Pat|      Fay|    PFAY|603.123.6666|17-AUG-05|    MK_REP|  6000|            - |       201|           20|\n",
      "|        203|     Susan|   Mavris| SMAVRIS|515.123.7777|07-JUN-02|    HR_REP|  6500|            - |       101|           40|\n",
      "|        204|   Hermann|     Baer|   HBAER|515.123.8888|07-JUN-02|    PR_REP| 10000|            - |       101|           70|\n",
      "|        205|   Shelley|  Higgins|SHIGGINS|515.123.8080|07-JUN-02|    AC_MGR| 12008|            - |       101|          110|\n",
      "|        206|   William|    Gietz|  WGIETZ|515.123.8181|07-JUN-02|AC_ACCOUNT|  8300|            - |       205|          110|\n",
      "|        100|    Steven|     King|   SKING|515.123.4567|17-JUN-03|   AD_PRES| 24000|            - |        - |           90|\n",
      "|        101|     Neena|  Kochhar|NKOCHHAR|515.123.4568|21-SEP-05|     AD_VP| 17000|            - |       100|           90|\n",
      "|        102|       Lex|  De Haan| LDEHAAN|515.123.4569|13-JAN-01|     AD_VP| 17000|            - |       100|           90|\n",
      "|        103| Alexander|   Hunold| AHUNOLD|590.423.4567|03-JAN-06|   IT_PROG|  9000|            - |       102|           60|\n",
      "|        104|     Bruce|    Ernst|  BERNST|590.423.4568|21-MAY-07|   IT_PROG|  6000|            - |       103|           60|\n",
      "|        105|     David|   Austin| DAUSTIN|590.423.4569|25-JUN-05|   IT_PROG|  4800|            - |       103|           60|\n",
      "|        106|     Valli|Pataballa|VPATABAL|590.423.4560|05-FEB-06|   IT_PROG|  4800|            - |       103|           60|\n",
      "|        107|     Diana|  Lorentz|DLORENTZ|590.423.5567|07-FEB-07|   IT_PROG|  4200|            - |       103|           60|\n",
      "|        108|     Nancy|Greenberg|NGREENBE|515.124.4569|17-AUG-02|    FI_MGR| 12008|            - |       101|          100|\n",
      "|        109|    Daniel|   Faviet| DFAVIET|515.124.4169|16-AUG-02|FI_ACCOUNT|  9000|            - |       108|          100|\n",
      "|        110|      John|     Chen|   JCHEN|515.124.4269|28-SEP-05|FI_ACCOUNT|  8200|            - |       108|          100|\n",
      "+-----------+----------+---------+--------+------------+---------+----------+------+--------------+----------+-------------+\n",
      "only showing top 20 rows\n",
      "\n"
     ]
    }
   ],
   "source": [
    "df.show()"
   ]
  },
  {
   "cell_type": "code",
   "execution_count": 7,
   "id": "b395a756",
   "metadata": {},
   "outputs": [],
   "source": [
    "employee = df.select( \n",
    "    'EMPLOYEE_ID', 'FIRST_NAME', 'LAST_NAME',\n",
    "    'SALARY', 'DEPARTMENT_ID'\n",
    ")"
   ]
  },
  {
   "cell_type": "code",
   "execution_count": 8,
   "id": "6206acf3",
   "metadata": {},
   "outputs": [
    {
     "name": "stdout",
     "output_type": "stream",
     "text": [
      "+-----------+----------+---------+------+-------------+\n",
      "|EMPLOYEE_ID|FIRST_NAME|LAST_NAME|SALARY|DEPARTMENT_ID|\n",
      "+-----------+----------+---------+------+-------------+\n",
      "|        198|    Donald| OConnell|  2600|           50|\n",
      "|        199|   Douglas|    Grant|  2600|           50|\n",
      "|        200|  Jennifer|   Whalen|  4400|           10|\n",
      "|        201|   Michael|Hartstein| 13000|           20|\n",
      "|        202|       Pat|      Fay|  6000|           20|\n",
      "+-----------+----------+---------+------+-------------+\n",
      "only showing top 5 rows\n",
      "\n"
     ]
    }
   ],
   "source": [
    "employee.show( 5 )"
   ]
  },
  {
   "cell_type": "code",
   "execution_count": 53,
   "id": "cf3a2f5d",
   "metadata": {},
   "outputs": [],
   "source": [
    "df_employee2 = ( df\n",
    "            .select( 'EMPLOYEE_ID', 'FIRST_NAME', 'LAST_NAME', 'SALARY', 'DEPARTMENT_ID', 'EMAIL' ) \n",
    "            .withColumnRenamed( 'DEPARTMENT_ID', 'DEP_ID' )\n",
    "            .withColumnRenamed( 'EMAIL', 'EMAIL_OLD' )\n",
    "                \n",
    "              )"
   ]
  },
  {
   "cell_type": "code",
   "execution_count": 54,
   "id": "75d93041",
   "metadata": {},
   "outputs": [
    {
     "name": "stdout",
     "output_type": "stream",
     "text": [
      "+-----------+----------+---------+------+------+---------+\n",
      "|EMPLOYEE_ID|FIRST_NAME|LAST_NAME|SALARY|DEP_ID|EMAIL_OLD|\n",
      "+-----------+----------+---------+------+------+---------+\n",
      "|        198|    Donald| OConnell|  2600|    50| DOCONNEL|\n",
      "|        199|   Douglas|    Grant|  2600|    50|   DGRANT|\n",
      "|        200|  Jennifer|   Whalen|  4400|    10|  JWHALEN|\n",
      "+-----------+----------+---------+------+------+---------+\n",
      "only showing top 3 rows\n",
      "\n"
     ]
    }
   ],
   "source": [
    "df_employee2.show( 3 )"
   ]
  },
  {
   "cell_type": "markdown",
   "id": "e57856b0",
   "metadata": {},
   "source": [
    "convert email to lowercase, and convert salary from usd to mxn\n"
   ]
  },
  {
   "cell_type": "code",
   "execution_count": 55,
   "id": "5de4ae3f",
   "metadata": {},
   "outputs": [],
   "source": [
    "usd_to_mxn = 16.44\n",
    "\n",
    "df_employee2 = (df_employee2\n",
    "                .withColumn( 'SALARY', df_employee2.SALARY * usd_to_mxn )\n",
    "                .withColumn( 'EMAIL_OLD' , F.lower( df_employee2.EMAIL_OLD  )   )\n",
    "               )\n",
    "\n"
   ]
  },
  {
   "cell_type": "code",
   "execution_count": 56,
   "id": "058b6e8c",
   "metadata": {},
   "outputs": [
    {
     "name": "stdout",
     "output_type": "stream",
     "text": [
      "+-----------+----------+---------+-------+------+---------+\n",
      "|EMPLOYEE_ID|FIRST_NAME|LAST_NAME| SALARY|DEP_ID|EMAIL_OLD|\n",
      "+-----------+----------+---------+-------+------+---------+\n",
      "|        198|    Donald| OConnell|42744.0|    50| doconnel|\n",
      "|        199|   Douglas|    Grant|42744.0|    50|   dgrant|\n",
      "|        200|  Jennifer|   Whalen|72336.0|    10|  jwhalen|\n",
      "+-----------+----------+---------+-------+------+---------+\n",
      "only showing top 3 rows\n",
      "\n"
     ]
    }
   ],
   "source": [
    "df_employee2.show( 3 )"
   ]
  },
  {
   "cell_type": "code",
   "execution_count": 59,
   "id": "50929234",
   "metadata": {},
   "outputs": [],
   "source": [
    "df_employee2 = (df_employee2 \n",
    "                .withColumn( 'EMAIL' , F.concat(  'EMAIL_OLD' , F.lit( '@win.com' )  )   )\n",
    "                .drop( 'EMAIL_OLD' )\n",
    "               )"
   ]
  },
  {
   "cell_type": "code",
   "execution_count": 60,
   "id": "33108616",
   "metadata": {},
   "outputs": [
    {
     "name": "stdout",
     "output_type": "stream",
     "text": [
      "+-----------+----------+---------+-------+------+----------------+\n",
      "|EMPLOYEE_ID|FIRST_NAME|LAST_NAME| SALARY|DEP_ID|           EMAIL|\n",
      "+-----------+----------+---------+-------+------+----------------+\n",
      "|        198|    Donald| OConnell|42744.0|    50|doconnel@win.com|\n",
      "|        199|   Douglas|    Grant|42744.0|    50|  dgrant@win.com|\n",
      "|        200|  Jennifer|   Whalen|72336.0|    10| jwhalen@win.com|\n",
      "+-----------+----------+---------+-------+------+----------------+\n",
      "only showing top 3 rows\n",
      "\n"
     ]
    }
   ],
   "source": [
    "df_employee2.show( 3 )"
   ]
  },
  {
   "cell_type": "code",
   "execution_count": null,
   "id": "be960eeb",
   "metadata": {},
   "outputs": [],
   "source": []
  },
  {
   "cell_type": "code",
   "execution_count": null,
   "id": "eb6a6ad1",
   "metadata": {},
   "outputs": [],
   "source": []
  },
  {
   "cell_type": "code",
   "execution_count": null,
   "id": "0c6e64f2",
   "metadata": {},
   "outputs": [],
   "source": []
  },
  {
   "cell_type": "markdown",
   "id": "4f0ab4e6",
   "metadata": {},
   "source": [
    "### Analysis"
   ]
  },
  {
   "cell_type": "markdown",
   "id": "96145fee",
   "metadata": {},
   "source": [
    "We want to get some data about the salaries\n",
    "\n",
    "1. Comparing employee salary \n",
    "\n",
    "   a) difference between his salary and the highest salary of the company,\n",
    "   \n",
    "   b) difference between his salary and the lowest  salary of the company,      \n",
    "\n",
    "   c) difference between his salary and the highest salary of the department\n",
    "   \n",
    "   d) difference between his salary and the lowest  salary of the department\n",
    "   \n",
    "   \n",
    "   \n",
    "2. department with the highest compound salary\n",
    "\n",
    "3. all the employees that belong to the department with a compound salary > 300\n",
    "\n",
    "4. employees with the top salary per department\n",
    "\n",
    "\n"
   ]
  },
  {
   "cell_type": "markdown",
   "id": "5a7e21af",
   "metadata": {},
   "source": [
    "### 1a. difference between employee salary and the highest salary of the company,\n",
    "\n",
    "and \n",
    "\n",
    "### 1b. difference between his salary and the lowest salary of the company, \n"
   ]
  },
  {
   "cell_type": "code",
   "execution_count": 8,
   "id": "5b9e021e",
   "metadata": {},
   "outputs": [
    {
     "name": "stdout",
     "output_type": "stream",
     "text": [
      "max_salary_com: 24000\n"
     ]
    }
   ],
   "source": [
    "max_salary_com = ( employee.select( F.max( 'salary' ) )                 \n",
    "                .withColumnRenamed( 'max(salary)', 'max_salary_com' )\n",
    "                .first()                                             \n",
    "                .asDict()[ 'max_salary_com' ] )\n",
    "    \n",
    "print( 'max_salary_com: {}'.format( max_salary_com ) )\n"
   ]
  },
  {
   "cell_type": "code",
   "execution_count": 9,
   "id": "9237d0c4",
   "metadata": {},
   "outputs": [
    {
     "name": "stdout",
     "output_type": "stream",
     "text": [
      "min_salary_com: 2100\n"
     ]
    }
   ],
   "source": [
    "min_salary_com = ( employee.select( F.min( 'salary' ) )\n",
    "                .withColumnRenamed( 'min(salary)', 'min_salary_com' )\n",
    "                .first()                                             \n",
    "                .asDict()[ 'min_salary_com' ] )\n",
    "    \n",
    "print( 'min_salary_com: {}'.format( min_salary_com ) )"
   ]
  },
  {
   "cell_type": "code",
   "execution_count": 10,
   "id": "e081c863",
   "metadata": {},
   "outputs": [
    {
     "name": "stdout",
     "output_type": "stream",
     "text": [
      "+-----------+----------+---------+------+-------------+---------------+---------------+\n",
      "|EMPLOYEE_ID|FIRST_NAME|LAST_NAME|SALARY|DEPARTMENT_ID|diff_max_salary|diff_min_salary|\n",
      "+-----------+----------+---------+------+-------------+---------------+---------------+\n",
      "|        198|    Donald| OConnell|  2600|           50|          21400|            500|\n",
      "|        199|   Douglas|    Grant|  2600|           50|          21400|            500|\n",
      "|        200|  Jennifer|   Whalen|  4400|           10|          19600|           2300|\n",
      "|        201|   Michael|Hartstein| 13000|           20|          11000|          10900|\n",
      "|        202|       Pat|      Fay|  6000|           20|          18000|           3900|\n",
      "|        203|     Susan|   Mavris|  6500|           40|          17500|           4400|\n",
      "|        204|   Hermann|     Baer| 10000|           70|          14000|           7900|\n",
      "|        205|   Shelley|  Higgins| 12008|          110|          11992|           9908|\n",
      "|        206|   William|    Gietz|  8300|          110|          15700|           6200|\n",
      "|        100|    Steven|     King| 24000|           90|              0|          21900|\n",
      "|        101|     Neena|  Kochhar| 17000|           90|           7000|          14900|\n",
      "|        102|       Lex|  De Haan| 17000|           90|           7000|          14900|\n",
      "|        103| Alexander|   Hunold|  9000|           60|          15000|           6900|\n",
      "|        104|     Bruce|    Ernst|  6000|           60|          18000|           3900|\n",
      "|        105|     David|   Austin|  4800|           60|          19200|           2700|\n",
      "|        106|     Valli|Pataballa|  4800|           60|          19200|           2700|\n",
      "|        107|     Diana|  Lorentz|  4200|           60|          19800|           2100|\n",
      "|        108|     Nancy|Greenberg| 12008|          100|          11992|           9908|\n",
      "|        109|    Daniel|   Faviet|  9000|          100|          15000|           6900|\n",
      "|        110|      John|     Chen|  8200|          100|          15800|           6100|\n",
      "+-----------+----------+---------+------+-------------+---------------+---------------+\n",
      "only showing top 20 rows\n",
      "\n"
     ]
    }
   ],
   "source": [
    "df_1a = employee \\\n",
    "        .withColumn( 'diff_max_salary',  max_salary_com - employee.SALARY  ) \\\n",
    "        .withColumn( 'diff_min_salary',  employee.SALARY - min_salary_com  ) \n",
    "\n",
    "df_1a.show()\n"
   ]
  },
  {
   "cell_type": "markdown",
   "id": "27107601",
   "metadata": {},
   "source": [
    "### 1c. difference between his salary and the highest salary of the department"
   ]
  },
  {
   "cell_type": "code",
   "execution_count": 19,
   "id": "be75fec6",
   "metadata": {},
   "outputs": [
    {
     "name": "stdout",
     "output_type": "stream",
     "text": [
      "+-----------+----------+----------+------+-------------+----------+--------------+\n",
      "|EMPLOYEE_ID|FIRST_NAME| LAST_NAME|SALARY|DEPARTMENT_ID|max_salary|dif_max_salary|\n",
      "+-----------+----------+----------+------+-------------+----------+--------------+\n",
      "|        200|  Jennifer|    Whalen|  4400|           10|      4400|             0|\n",
      "|        201|   Michael| Hartstein| 13000|           20|     13000|             0|\n",
      "|        202|       Pat|       Fay|  6000|           20|     13000|          7000|\n",
      "|        114|       Den|  Raphaely| 11000|           30|     11000|             0|\n",
      "|        115| Alexander|      Khoo|  3100|           30|     11000|          7900|\n",
      "|        116|    Shelli|     Baida|  2900|           30|     11000|          8100|\n",
      "|        117|     Sigal|    Tobias|  2800|           30|     11000|          8200|\n",
      "|        118|       Guy|    Himuro|  2600|           30|     11000|          8400|\n",
      "|        119|     Karen|Colmenares|  2500|           30|     11000|          8500|\n",
      "|        203|     Susan|    Mavris|  6500|           40|      6500|             0|\n",
      "|        121|      Adam|     Fripp|  8200|           50|      8200|             0|\n",
      "|        120|   Matthew|     Weiss|  8000|           50|      8200|           200|\n",
      "|        122|     Payam|  Kaufling|  7900|           50|      8200|           300|\n",
      "|        123|    Shanta|   Vollman|  6500|           50|      8200|          1700|\n",
      "|        124|     Kevin|   Mourgos|  5800|           50|      8200|          2400|\n",
      "|        137|    Renske|    Ladwig|  3600|           50|      8200|          4600|\n",
      "|        129|     Laura|    Bissot|  3300|           50|      8200|          4900|\n",
      "|        133|     Jason|    Mallin|  3300|           50|      8200|          4900|\n",
      "|        125|     Julia|     Nayer|  3200|           50|      8200|          5000|\n",
      "|        138|   Stephen|    Stiles|  3200|           50|      8200|          5000|\n",
      "+-----------+----------+----------+------+-------------+----------+--------------+\n",
      "only showing top 20 rows\n",
      "\n"
     ]
    }
   ],
   "source": [
    "win = Window.partitionBy( 'DEPARTMENT_ID' ).orderBy( F.col( 'SALARY' ).desc() )\n",
    "\n",
    "\n",
    "\n",
    "\n",
    "df = ( employee\n",
    "    .withColumn( 'max_salary'    , F.max( 'SALARY' ).over( win ) )\n",
    "    .withColumn( 'dif_max_salary', F.max( 'SALARY' ).over( win ) - employee.SALARY )\n",
    "     )\n",
    "    \n",
    "\n",
    "\n",
    "df.show( )\n"
   ]
  },
  {
   "cell_type": "code",
   "execution_count": null,
   "id": "4f1bc732",
   "metadata": {},
   "outputs": [],
   "source": []
  },
  {
   "cell_type": "code",
   "execution_count": null,
   "id": "d7760948",
   "metadata": {},
   "outputs": [],
   "source": []
  },
  {
   "cell_type": "code",
   "execution_count": null,
   "id": "5b55739b",
   "metadata": {},
   "outputs": [],
   "source": []
  },
  {
   "cell_type": "markdown",
   "id": "6e4ef81d",
   "metadata": {},
   "source": [
    "### load"
   ]
  },
  {
   "cell_type": "markdown",
   "id": "8b6df4c8",
   "metadata": {},
   "source": [
    " save to parquet"
   ]
  },
  {
   "cell_type": "code",
   "execution_count": 14,
   "id": "e6964b34",
   "metadata": {},
   "outputs": [
    {
     "name": "stderr",
     "output_type": "stream",
     "text": [
      "                                                                                \r"
     ]
    }
   ],
   "source": [
    "output_file = '/home/art/data/tiny/singers.parquet'\n",
    "\n",
    "df2.write.parquet( output_file )"
   ]
  },
  {
   "cell_type": "code",
   "execution_count": null,
   "id": "11e3ad72",
   "metadata": {},
   "outputs": [],
   "source": []
  },
  {
   "cell_type": "code",
   "execution_count": null,
   "id": "dfbcd0ea",
   "metadata": {},
   "outputs": [],
   "source": []
  },
  {
   "cell_type": "code",
   "execution_count": null,
   "id": "453c0334",
   "metadata": {},
   "outputs": [],
   "source": []
  },
  {
   "cell_type": "code",
   "execution_count": null,
   "id": "beea665e",
   "metadata": {},
   "outputs": [],
   "source": []
  }
 ],
 "metadata": {
  "kernelspec": {
   "display_name": "Python 3 (ipykernel)",
   "language": "python",
   "name": "python3"
  },
  "language_info": {
   "codemirror_mode": {
    "name": "ipython",
    "version": 3
   },
   "file_extension": ".py",
   "mimetype": "text/x-python",
   "name": "python",
   "nbconvert_exporter": "python",
   "pygments_lexer": "ipython3",
   "version": "3.10.11"
  }
 },
 "nbformat": 4,
 "nbformat_minor": 5
}
