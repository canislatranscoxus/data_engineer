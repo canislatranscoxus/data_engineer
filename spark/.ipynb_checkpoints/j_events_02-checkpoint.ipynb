{
 "cells": [
  {
   "cell_type": "code",
   "execution_count": 126,
   "id": "749ceef3",
   "metadata": {},
   "outputs": [],
   "source": [
    "from IPython.display   import display, HTML\n",
    "\n",
    "import findspark\n",
    "findspark.init()\n",
    "\n",
    "import pyspark\n",
    "from pyspark.sql           import SparkSession\n",
    "from pyspark.sql.functions import col, explode, udf\n",
    "from pyspark.sql.types     import Row, LongType, StringType, ArrayType\n",
    "\n",
    "\n",
    "from datetime          import datetime"
   ]
  },
  {
   "cell_type": "code",
   "execution_count": 94,
   "id": "a82f9fbb",
   "metadata": {},
   "outputs": [],
   "source": [
    "spark = SparkSession.builder  \\\n",
    "        .appName( 'json 01' ) \\\n",
    "        .getOrCreate()"
   ]
  },
  {
   "cell_type": "code",
   "execution_count": 95,
   "id": "9289dac9",
   "metadata": {},
   "outputs": [],
   "source": [
    "df_01 = spark.read \\\n",
    "     .format( 'json' ) \\\n",
    "     .load( '/home/art/data/tiny/j01.json', multiLine= True )"
   ]
  },
  {
   "cell_type": "code",
   "execution_count": 96,
   "id": "e2db348b",
   "metadata": {},
   "outputs": [
    {
     "name": "stdout",
     "output_type": "stream",
     "text": [
      "+------+--------------------+--------------------+---------+-------+\n",
      "|animal|       date_of_birth|                food| fruit_id|   name|\n",
      "+------+--------------------+--------------------+---------+-------+\n",
      "|   cat|20221-05-20 08:00:00|[salmon, meat, cr...|[1, 2, 3]|Patitas|\n",
      "+------+--------------------+--------------------+---------+-------+\n",
      "\n"
     ]
    }
   ],
   "source": [
    "df_01.show()"
   ]
  },
  {
   "cell_type": "code",
   "execution_count": 97,
   "id": "0e3ebe08",
   "metadata": {},
   "outputs": [],
   "source": [
    "df_01 = spark.read \\\n",
    "        .json( '/home/art/data/tiny/j01.json', multiLine= True )"
   ]
  },
  {
   "cell_type": "code",
   "execution_count": 98,
   "id": "c0ecb0e8",
   "metadata": {},
   "outputs": [
    {
     "name": "stdout",
     "output_type": "stream",
     "text": [
      "+------+--------------------+--------------------+---------+-------+\n",
      "|animal|       date_of_birth|                food| fruit_id|   name|\n",
      "+------+--------------------+--------------------+---------+-------+\n",
      "|   cat|20221-05-20 08:00:00|[salmon, meat, cr...|[1, 2, 3]|Patitas|\n",
      "+------+--------------------+--------------------+---------+-------+\n",
      "\n"
     ]
    }
   ],
   "source": [
    "df_01.show()"
   ]
  },
  {
   "cell_type": "code",
   "execution_count": null,
   "id": "ed835555",
   "metadata": {},
   "outputs": [],
   "source": []
  },
  {
   "cell_type": "code",
   "execution_count": null,
   "id": "34f75d7b",
   "metadata": {},
   "outputs": [],
   "source": []
  },
  {
   "cell_type": "code",
   "execution_count": null,
   "id": "9413484f",
   "metadata": {},
   "outputs": [],
   "source": []
  },
  {
   "cell_type": "code",
   "execution_count": null,
   "id": "ccfe5126",
   "metadata": {},
   "outputs": [],
   "source": []
  },
  {
   "cell_type": "code",
   "execution_count": 99,
   "id": "29832437",
   "metadata": {},
   "outputs": [
    {
     "name": "stdout",
     "output_type": "stream",
     "text": [
      "+---+-----------------------------------------------------------------------------+\n",
      "|id |value                                                                        |\n",
      "+---+-----------------------------------------------------------------------------+\n",
      "|1  |{\"Zipcode\":704, \"ZipCodeType\":\"STANDARD\", \"City\":\"PARC PARQUE\", \"State\":\"PR\"}|\n",
      "+---+-----------------------------------------------------------------------------+\n",
      "\n"
     ]
    }
   ],
   "source": [
    "jsonString=\"\"\"{\"Zipcode\":704, \"ZipCodeType\":\"STANDARD\", \"City\":\"PARC PARQUE\", \"State\":\"PR\"}\"\"\"\n",
    "df=spark.createDataFrame([(1, jsonString)],[\"id\",\"value\"])\n",
    "df.show(truncate=False)"
   ]
  },
  {
   "cell_type": "markdown",
   "id": "f6a2beed",
   "metadata": {},
   "source": [
    "## Reading an array of jsons"
   ]
  },
  {
   "cell_type": "code",
   "execution_count": null,
   "id": "537a5f4e",
   "metadata": {},
   "outputs": [],
   "source": []
  },
  {
   "cell_type": "code",
   "execution_count": 100,
   "id": "8336b964",
   "metadata": {},
   "outputs": [],
   "source": [
    "df_events = spark.read  \\\n",
    "            .json( '/home/art/data/tiny/events.json', multiLine= True )\n"
   ]
  },
  {
   "cell_type": "code",
   "execution_count": 101,
   "id": "c0d6b0da",
   "metadata": {},
   "outputs": [
    {
     "name": "stdout",
     "output_type": "stream",
     "text": [
      "+-----+--------------------+------------+--------------------+----+\n",
      "|event|     event_timestamp|    fruit_id|          fruit_name|user|\n",
      "+-----+--------------------+------------+--------------------+----+\n",
      "|login|20223-01-20 00:00:00|   [1, 2, 3]|[apple, banana, o...| Ana|\n",
      "|click|20223-01-20 00:01:00|[4, 5, 6, 7]|[pineapple, melon...|Elsa|\n",
      "| swap|20223-01-20 00:02:00|      [1, 2]|[strawberry, blue...|Olaf|\n",
      "+-----+--------------------+------------+--------------------+----+\n",
      "\n"
     ]
    }
   ],
   "source": [
    "df_events.show()"
   ]
  },
  {
   "cell_type": "markdown",
   "id": "3b82ee93",
   "metadata": {},
   "source": [
    "### register dataframe to use SQL queries"
   ]
  },
  {
   "cell_type": "code",
   "execution_count": 106,
   "id": "f74ae09f",
   "metadata": {},
   "outputs": [],
   "source": [
    "df_events.createOrReplaceTempView( 'df_events' )"
   ]
  },
  {
   "cell_type": "code",
   "execution_count": 107,
   "id": "704577ac",
   "metadata": {},
   "outputs": [],
   "source": [
    "\n",
    "\n",
    "df = spark.sql( ''' select *, fruit_id[0] as first_id\n",
    "     from df_events\n",
    "\n",
    "'''\n",
    "\n",
    ")"
   ]
  },
  {
   "cell_type": "code",
   "execution_count": 108,
   "id": "381d387f",
   "metadata": {},
   "outputs": [
    {
     "name": "stdout",
     "output_type": "stream",
     "text": [
      "+-----+--------------------+------------+--------------------+----+--------+\n",
      "|event|     event_timestamp|    fruit_id|          fruit_name|user|first_id|\n",
      "+-----+--------------------+------------+--------------------+----+--------+\n",
      "|login|20223-01-20 00:00:00|   [1, 2, 3]|[apple, banana, o...| Ana|       1|\n",
      "|click|20223-01-20 00:01:00|[4, 5, 6, 7]|[pineapple, melon...|Elsa|       4|\n",
      "| swap|20223-01-20 00:02:00|      [1, 2]|[strawberry, blue...|Olaf|       1|\n",
      "+-----+--------------------+------------+--------------------+----+--------+\n",
      "\n"
     ]
    }
   ],
   "source": [
    "df.show()"
   ]
  },
  {
   "cell_type": "markdown",
   "id": "a0f4f47a",
   "metadata": {},
   "source": [
    "### create a simple UDF - return string"
   ]
  },
  {
   "cell_type": "code",
   "execution_count": 102,
   "id": "6f3252ae",
   "metadata": {},
   "outputs": [
    {
     "name": "stdout",
     "output_type": "stream",
     "text": [
      "*** KITTY ***\n"
     ]
    }
   ],
   "source": [
    "def my_stars( s ):\n",
    "    r = '*** ' +  s.upper() + ' ***'\n",
    "    return r\n",
    "\n",
    "s1 = 'kitty'\n",
    "\n",
    "s2 = my_stars( s1 )\n",
    "print( s2 )\n",
    "\n"
   ]
  },
  {
   "cell_type": "code",
   "execution_count": 105,
   "id": "ca7b657b",
   "metadata": {},
   "outputs": [
    {
     "data": {
      "text/plain": [
       "<function __main__.my_stars(s)>"
      ]
     },
     "execution_count": 105,
     "metadata": {},
     "output_type": "execute_result"
    }
   ],
   "source": [
    "#spark.udf.register( 'my_stars', 'my_stars', StringType() )\n",
    "\n",
    "spark.udf.register( 'my_stars_udf', my_stars )\n"
   ]
  },
  {
   "cell_type": "code",
   "execution_count": 110,
   "id": "86d0bf6c",
   "metadata": {},
   "outputs": [
    {
     "name": "stdout",
     "output_type": "stream",
     "text": [
      "+-----+--------------------+------------+--------------------+----+------------+\n",
      "|event|     event_timestamp|    fruit_id|          fruit_name|user|    vip_user|\n",
      "+-----+--------------------+------------+--------------------+----+------------+\n",
      "|login|20223-01-20 00:00:00|   [1, 2, 3]|[apple, banana, o...| Ana| *** ANA ***|\n",
      "|click|20223-01-20 00:01:00|[4, 5, 6, 7]|[pineapple, melon...|Elsa|*** ELSA ***|\n",
      "| swap|20223-01-20 00:02:00|      [1, 2]|[strawberry, blue...|Olaf|*** OLAF ***|\n",
      "+-----+--------------------+------------+--------------------+----+------------+\n",
      "\n"
     ]
    }
   ],
   "source": [
    "df = spark.sql(\n",
    "'''\n",
    "select *, my_stars_udf( user ) as vip_user\n",
    "from df_events\n",
    "'''\n",
    ")\n",
    "\n",
    "df.show()\n"
   ]
  },
  {
   "cell_type": "markdown",
   "id": "70c08267",
   "metadata": {},
   "source": [
    "### create udf - array of string"
   ]
  },
  {
   "cell_type": "code",
   "execution_count": 111,
   "id": "3bbb664a",
   "metadata": {},
   "outputs": [
    {
     "name": "stdout",
     "output_type": "stream",
     "text": [
      "['a', 'b', 'c']\n"
     ]
    }
   ],
   "source": [
    "def my_list( ):\n",
    "    return [ 'a', 'b', 'c' ]\n",
    "\n",
    "\n",
    "a = my_list()\n",
    "print( a )\n"
   ]
  },
  {
   "cell_type": "code",
   "execution_count": 112,
   "id": "fdb05af1",
   "metadata": {},
   "outputs": [
    {
     "data": {
      "text/plain": [
       "<function __main__.my_list()>"
      ]
     },
     "execution_count": 112,
     "metadata": {},
     "output_type": "execute_result"
    }
   ],
   "source": [
    "spark.udf.register( 'my_list_udf', my_list, ArrayType( StringType() ) )\n"
   ]
  },
  {
   "cell_type": "code",
   "execution_count": 115,
   "id": "2f3cee5e",
   "metadata": {},
   "outputs": [
    {
     "name": "stdout",
     "output_type": "stream",
     "text": [
      "+-----+--------------------+------------+--------------------+----+-------------+\n",
      "|event|     event_timestamp|    fruit_id|          fruit_name|user|my_list_udf()|\n",
      "+-----+--------------------+------------+--------------------+----+-------------+\n",
      "|login|20223-01-20 00:00:00|   [1, 2, 3]|[apple, banana, o...| Ana|    [a, b, c]|\n",
      "|click|20223-01-20 00:01:00|[4, 5, 6, 7]|[pineapple, melon...|Elsa|    [a, b, c]|\n",
      "| swap|20223-01-20 00:02:00|      [1, 2]|[strawberry, blue...|Olaf|    [a, b, c]|\n",
      "+-----+--------------------+------------+--------------------+----+-------------+\n",
      "\n"
     ]
    }
   ],
   "source": [
    "df = spark.sql(\n",
    "'''\n",
    "select *, my_list_udf() \n",
    "from df_events\n",
    "'''\n",
    ")\n",
    "\n",
    "df.show()"
   ]
  },
  {
   "cell_type": "markdown",
   "id": "d8c5d616",
   "metadata": {},
   "source": [
    "### create a UDF to zip the fruits and ids in one list"
   ]
  },
  {
   "cell_type": "markdown",
   "id": "5de46edb",
   "metadata": {},
   "source": [
    "this udf return a string that represent a list of lists."
   ]
  },
  {
   "cell_type": "code",
   "execution_count": 147,
   "id": "c0f6ed6b",
   "metadata": {},
   "outputs": [
    {
     "name": "stdout",
     "output_type": "stream",
     "text": [
      "<class 'list'>\n",
      "[1, 'apple']\n",
      "[2, 'banana']\n",
      "[3, 'orange']\n"
     ]
    }
   ],
   "source": [
    "def zip_fruits( a1, a2 ):\n",
    "    \n",
    "    a = []\n",
    "    for i in range( 0, len(a1)  ):\n",
    "        pair = [ a1[i], a2[i] ]\n",
    "        a.append( pair )\n",
    "    a = a\n",
    "    return a\n",
    "\n",
    "\n",
    "a1 = [1, 2, 3]\n",
    "a2 = [ 'apple', 'banana', 'orange' ]\n",
    "a = zip_fruits( a1, a2 )\n",
    "\n",
    "print( type( a ) )\n",
    "for i in a:\n",
    "    print( i )\n",
    "\n"
   ]
  },
  {
   "cell_type": "markdown",
   "id": "3b1898bc",
   "metadata": {},
   "source": [
    "### register UDF to use it in SQL queries"
   ]
  },
  {
   "cell_type": "code",
   "execution_count": 148,
   "id": "4a80ed6f",
   "metadata": {},
   "outputs": [
    {
     "name": "stderr",
     "output_type": "stream",
     "text": [
      "23/06/09 11:13:29 WARN SimpleFunctionRegistry: The function zip_fruits_udf replaced a previously registered function.\n"
     ]
    },
    {
     "data": {
      "text/plain": [
       "<function __main__.zip_fruits(a1, a2)>"
      ]
     },
     "execution_count": 148,
     "metadata": {},
     "output_type": "execute_result"
    }
   ],
   "source": [
    "spark.udf.register( 'zip_fruits_udf', zip_fruits, ArrayType( ArrayType( StringType() ) ) ) "
   ]
  },
  {
   "cell_type": "code",
   "execution_count": 149,
   "id": "d21badf9",
   "metadata": {},
   "outputs": [
    {
     "name": "stdout",
     "output_type": "stream",
     "text": [
      "+-----+--------------------+------------+--------------------+----+--------------------+\n",
      "|event|     event_timestamp|    fruit_id|          fruit_name|user|              fruits|\n",
      "+-----+--------------------+------------+--------------------+----+--------------------+\n",
      "|login|20223-01-20 00:00:00|   [1, 2, 3]|[apple, banana, o...| Ana|[[1, apple], [2, ...|\n",
      "|click|20223-01-20 00:01:00|[4, 5, 6, 7]|[pineapple, melon...|Elsa|[[4, pineapple], ...|\n",
      "| swap|20223-01-20 00:02:00|      [1, 2]|[strawberry, blue...|Olaf|[[1, strawberry],...|\n",
      "+-----+--------------------+------------+--------------------+----+--------------------+\n",
      "\n"
     ]
    }
   ],
   "source": [
    "df = spark.sql(\n",
    "'''\n",
    "select *, zip_fruits_udf( fruit_id, fruit_name ) as fruits\n",
    "from df_events\n",
    "'''\n",
    ")\n",
    "\n",
    "df.show()\n"
   ]
  },
  {
   "cell_type": "markdown",
   "id": "c3da3b26",
   "metadata": {},
   "source": [
    "### Explode (flatmap) the fruits column"
   ]
  },
  {
   "cell_type": "code",
   "execution_count": 150,
   "id": "949bef3c",
   "metadata": {},
   "outputs": [
    {
     "name": "stdout",
     "output_type": "stream",
     "text": [
      "+-----+--------------------+----+--------------------+\n",
      "|event|     event_timestamp|user|              fruits|\n",
      "+-----+--------------------+----+--------------------+\n",
      "|login|20223-01-20 00:00:00| Ana|[[1, apple], [2, ...|\n",
      "|click|20223-01-20 00:01:00|Elsa|[[4, pineapple], ...|\n",
      "| swap|20223-01-20 00:02:00|Olaf|[[1, strawberry],...|\n",
      "+-----+--------------------+----+--------------------+\n",
      "\n"
     ]
    }
   ],
   "source": [
    "df2 = df.select( 'event', 'event_timestamp', 'user', 'fruits') \n",
    "    \n",
    "df2.show()"
   ]
  },
  {
   "cell_type": "code",
   "execution_count": 151,
   "id": "79434663",
   "metadata": {},
   "outputs": [
    {
     "name": "stdout",
     "output_type": "stream",
     "text": [
      "+----+---------------+\n",
      "|user|            col|\n",
      "+----+---------------+\n",
      "| Ana|     [1, apple]|\n",
      "| Ana|    [2, banana]|\n",
      "| Ana|    [3, orange]|\n",
      "|Elsa| [4, pineapple]|\n",
      "|Elsa|     [5, melon]|\n",
      "|Elsa|[6, watermelon]|\n",
      "|Elsa|    [7, papaya]|\n",
      "|Olaf|[1, strawberry]|\n",
      "|Olaf| [2, blueberry]|\n",
      "+----+---------------+\n",
      "\n"
     ]
    }
   ],
   "source": [
    "df2 = df.select( df.user, explode( df.fruits ) ) \n",
    "    \n",
    "df2.show()\n",
    "\n",
    "\n"
   ]
  },
  {
   "cell_type": "markdown",
   "id": "5c665672",
   "metadata": {},
   "source": [
    "### explode in SQL"
   ]
  },
  {
   "cell_type": "code",
   "execution_count": 157,
   "id": "14492a16",
   "metadata": {},
   "outputs": [],
   "source": [
    "df.createOrReplaceTempView( 'df' )"
   ]
  },
  {
   "cell_type": "code",
   "execution_count": 163,
   "id": "3271c1ce",
   "metadata": {},
   "outputs": [
    {
     "name": "stdout",
     "output_type": "stream",
     "text": [
      "+-----+----+---------------+\n",
      "|event|user|         fruits|\n",
      "+-----+----+---------------+\n",
      "|login| Ana|     [1, apple]|\n",
      "|login| Ana|    [2, banana]|\n",
      "|login| Ana|    [3, orange]|\n",
      "|click|Elsa| [4, pineapple]|\n",
      "|click|Elsa|     [5, melon]|\n",
      "|click|Elsa|[6, watermelon]|\n",
      "|click|Elsa|    [7, papaya]|\n",
      "| swap|Olaf|[1, strawberry]|\n",
      "| swap|Olaf| [2, blueberry]|\n",
      "+-----+----+---------------+\n",
      "\n"
     ]
    }
   ],
   "source": [
    "df3 = spark.sql(\n",
    "'''\n",
    "select event, user, explode( fruits ) as fruits\n",
    "from df\n",
    "'''\n",
    ")\n",
    "df3.show()"
   ]
  },
  {
   "cell_type": "code",
   "execution_count": null,
   "id": "e46a8e22",
   "metadata": {},
   "outputs": [],
   "source": []
  },
  {
   "cell_type": "code",
   "execution_count": null,
   "id": "7174ac53",
   "metadata": {},
   "outputs": [],
   "source": []
  },
  {
   "cell_type": "code",
   "execution_count": null,
   "id": "86b3b5f7",
   "metadata": {},
   "outputs": [],
   "source": []
  }
 ],
 "metadata": {
  "kernelspec": {
   "display_name": "Python 3 (ipykernel)",
   "language": "python",
   "name": "python3"
  },
  "language_info": {
   "codemirror_mode": {
    "name": "ipython",
    "version": 3
   },
   "file_extension": ".py",
   "mimetype": "text/x-python",
   "name": "python",
   "nbconvert_exporter": "python",
   "pygments_lexer": "ipython3",
   "version": "3.10.11"
  }
 },
 "nbformat": 4,
 "nbformat_minor": 5
}
