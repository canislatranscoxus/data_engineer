{
 "cells": [
  {
   "cell_type": "markdown",
   "id": "98241512",
   "metadata": {},
   "source": [
    "# Word count"
   ]
  },
  {
   "cell_type": "code",
   "execution_count": 49,
   "id": "993b7a19",
   "metadata": {},
   "outputs": [],
   "source": [
    "import findspark\n",
    "findspark.init()\n",
    "\n",
    "\n",
    "import pyspark\n",
    "import pyspark.sql.functions as f\n",
    "\n",
    "from pyspark.sql           import SparkSession\n",
    "from pyspark.sql.functions import col, explode, udf, upper, lower\n",
    "from pyspark.sql.types     import Row, StringType, ShortType, IntegerType, LongType, ArrayType\n",
    "\n"
   ]
  },
  {
   "cell_type": "code",
   "execution_count": 96,
   "id": "54fe1dff",
   "metadata": {},
   "outputs": [],
   "source": [
    "spark = (SparkSession.builder         \n",
    "         .appName( 'App_word_count' ) \n",
    "         .getOrCreate()\n",
    "        )\n"
   ]
  },
  {
   "cell_type": "code",
   "execution_count": 97,
   "id": "c94d2789",
   "metadata": {},
   "outputs": [],
   "source": [
    "file_path = '/home/art/data/songs/eye_of_the_tiger.txt'"
   ]
  },
  {
   "cell_type": "code",
   "execution_count": 98,
   "id": "b1f8288d",
   "metadata": {},
   "outputs": [],
   "source": [
    "df = spark.read.text( file_path )"
   ]
  },
  {
   "cell_type": "code",
   "execution_count": 99,
   "id": "1dd86e0f",
   "metadata": {},
   "outputs": [
    {
     "name": "stdout",
     "output_type": "stream",
     "text": [
      "+--------------------+\n",
      "|               value|\n",
      "+--------------------+\n",
      "|Rising up, back o...|\n",
      "|Did my time, took...|\n",
      "|Went the distance...|\n",
      "+--------------------+\n",
      "only showing top 3 rows\n",
      "\n"
     ]
    }
   ],
   "source": [
    "df.show(3)"
   ]
  },
  {
   "cell_type": "code",
   "execution_count": 100,
   "id": "1c01563e",
   "metadata": {},
   "outputs": [],
   "source": [
    "df = df.withColumnRenamed( 'value', 'line' )"
   ]
  },
  {
   "cell_type": "code",
   "execution_count": 101,
   "id": "e166f273",
   "metadata": {},
   "outputs": [
    {
     "name": "stdout",
     "output_type": "stream",
     "text": [
      "+--------------------+\n",
      "|                line|\n",
      "+--------------------+\n",
      "|Rising up, back o...|\n",
      "|Did my time, took...|\n",
      "|Went the distance...|\n",
      "+--------------------+\n",
      "only showing top 3 rows\n",
      "\n"
     ]
    }
   ],
   "source": [
    "df.show(3)"
   ]
  },
  {
   "cell_type": "markdown",
   "id": "bd4fb042",
   "metadata": {},
   "source": [
    "### clean data, cast to lower case and remove comas"
   ]
  },
  {
   "cell_type": "code",
   "execution_count": 102,
   "id": "1f6ccb51",
   "metadata": {},
   "outputs": [],
   "source": [
    "def fun_clean( line ):\n",
    "    s = line.replace( ',', '' )\n",
    "    s = s.lower() \n",
    "    return s\n",
    "\n",
    "udf_clean = udf( lambda line: fun_clean( line ), StringType() )\n"
   ]
  },
  {
   "cell_type": "code",
   "execution_count": 103,
   "id": "dd93eb76",
   "metadata": {},
   "outputs": [],
   "source": [
    "\n",
    "\n",
    "df_clean = df.select( udf_clean( 'line' ).alias( 'line' )  )\n",
    "\n"
   ]
  },
  {
   "cell_type": "code",
   "execution_count": 104,
   "id": "4d681a81",
   "metadata": {},
   "outputs": [
    {
     "name": "stdout",
     "output_type": "stream",
     "text": [
      "+--------------------+\n",
      "|                line|\n",
      "+--------------------+\n",
      "|rising up back on...|\n",
      "|did my time took ...|\n",
      "|went the distance...|\n",
      "|just a man and hi...|\n",
      "|so many times it ...|\n",
      "+--------------------+\n",
      "only showing top 5 rows\n",
      "\n"
     ]
    }
   ],
   "source": [
    "df_clean.show( 5 )"
   ]
  },
  {
   "cell_type": "markdown",
   "id": "0101fd6e",
   "metadata": {},
   "source": [
    "### split each line in a list of words"
   ]
  },
  {
   "cell_type": "code",
   "execution_count": 105,
   "id": "e59db6a6",
   "metadata": {},
   "outputs": [],
   "source": [
    "df_lists = (df_clean \n",
    "            .select( f.split( 'line', ' ' ).alias( 'words' ) )\n",
    "           )\n"
   ]
  },
  {
   "cell_type": "code",
   "execution_count": 106,
   "id": "4cfc4f2c",
   "metadata": {},
   "outputs": [
    {
     "name": "stdout",
     "output_type": "stream",
     "text": [
      "+--------------------+\n",
      "|               words|\n",
      "+--------------------+\n",
      "|[rising, up, back...|\n",
      "|[did, my, time, t...|\n",
      "|[went, the, dista...|\n",
      "+--------------------+\n",
      "only showing top 3 rows\n",
      "\n"
     ]
    }
   ],
   "source": [
    "df_lists.show(3)"
   ]
  },
  {
   "cell_type": "code",
   "execution_count": 109,
   "id": "458db147",
   "metadata": {},
   "outputs": [],
   "source": [
    "df_words = df_lists.select( f.explode( 'words' ).alias( 'word' )  )"
   ]
  },
  {
   "cell_type": "code",
   "execution_count": 110,
   "id": "f337d448",
   "metadata": {},
   "outputs": [
    {
     "name": "stdout",
     "output_type": "stream",
     "text": [
      "+------+\n",
      "|  word|\n",
      "+------+\n",
      "|rising|\n",
      "|    up|\n",
      "|  back|\n",
      "+------+\n",
      "only showing top 3 rows\n",
      "\n"
     ]
    }
   ],
   "source": [
    "df_words.show(3)"
   ]
  },
  {
   "cell_type": "code",
   "execution_count": 114,
   "id": "da7a7950",
   "metadata": {},
   "outputs": [],
   "source": [
    "df_count = (df_words\n",
    "            .groupBy( 'word' )\n",
    "            .count()\n",
    "           )"
   ]
  },
  {
   "cell_type": "code",
   "execution_count": 116,
   "id": "eccec502",
   "metadata": {},
   "outputs": [
    {
     "name": "stdout",
     "output_type": "stream",
     "text": [
      "+------+-----+\n",
      "|  word|count|\n",
      "+------+-----+\n",
      "|  guts|    1|\n",
      "|   did|    1|\n",
      "|   got|    1|\n",
      "|    us|    3|\n",
      "|hungry|    1|\n",
      "+------+-----+\n",
      "only showing top 5 rows\n",
      "\n"
     ]
    }
   ],
   "source": [
    "df_count.show( 5 )"
   ]
  },
  {
   "cell_type": "code",
   "execution_count": 117,
   "id": "03aee1f2",
   "metadata": {},
   "outputs": [],
   "source": [
    "df_top_words = ( df_count\n",
    "             .orderBy( 'count', ascending= 0 )\n",
    "\n",
    ")"
   ]
  },
  {
   "cell_type": "code",
   "execution_count": 118,
   "id": "b1c7a5cd",
   "metadata": {},
   "outputs": [
    {
     "name": "stdout",
     "output_type": "stream",
     "text": [
      "+---------+-----+\n",
      "|     word|count|\n",
      "+---------+-----+\n",
      "|      the|   48|\n",
      "|       of|   17|\n",
      "|       to|   11|\n",
      "|      eye|   10|\n",
      "|    tiger|   10|\n",
      "|      and|    8|\n",
      "|     it's|    6|\n",
      "|       up|    5|\n",
      "|   rising|    5|\n",
      "|      his|    5|\n",
      "|     with|    4|\n",
      "|       in|    4|\n",
      "|    fight|    4|\n",
      "| watching|    3|\n",
      "|    night|    3|\n",
      "| survivor|    3|\n",
      "|       on|    3|\n",
      "|challenge|    3|\n",
      "|       my|    3|\n",
      "|  survive|    3|\n",
      "+---------+-----+\n",
      "only showing top 20 rows\n",
      "\n"
     ]
    }
   ],
   "source": [
    "df_top_words.show()"
   ]
  },
  {
   "cell_type": "markdown",
   "id": "8b44800f",
   "metadata": {},
   "source": [
    "### Links"
   ]
  },
  {
   "cell_type": "markdown",
   "id": "2af2e88a",
   "metadata": {},
   "source": [
    "A simple word count application\n",
    "\n",
    "Databricks\n",
    "\n",
    "https://databricks-prod-cloudfront.cloud.databricks.com/public/4027ec902e239c93eaaa8714f173bcfc/3328674740105987/4033840715400609/6441317451288404/latest.html\n",
    "    "
   ]
  },
  {
   "cell_type": "code",
   "execution_count": null,
   "id": "6d107995",
   "metadata": {},
   "outputs": [],
   "source": []
  }
 ],
 "metadata": {
  "kernelspec": {
   "display_name": "Python 3 (ipykernel)",
   "language": "python",
   "name": "python3"
  },
  "language_info": {
   "codemirror_mode": {
    "name": "ipython",
    "version": 3
   },
   "file_extension": ".py",
   "mimetype": "text/x-python",
   "name": "python",
   "nbconvert_exporter": "python",
   "pygments_lexer": "ipython3",
   "version": "3.10.11"
  }
 },
 "nbformat": 4,
 "nbformat_minor": 5
}
