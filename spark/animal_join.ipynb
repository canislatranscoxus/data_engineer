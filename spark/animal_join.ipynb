{
 "cells": [
  {
   "cell_type": "markdown",
   "id": "95fc7c4c",
   "metadata": {},
   "source": [
    "# Animals\n",
    "Join example"
   ]
  },
  {
   "cell_type": "code",
   "execution_count": 1,
   "id": "f6b96c8b",
   "metadata": {},
   "outputs": [
    {
     "name": "stdout",
     "output_type": "stream",
     "text": [
      "3.10.11\n"
     ]
    }
   ],
   "source": [
    "from platform import python_version\n",
    "\n",
    "print( python_version() )"
   ]
  },
  {
   "cell_type": "code",
   "execution_count": 2,
   "id": "9ac9cefe",
   "metadata": {},
   "outputs": [
    {
     "name": "stdout",
     "output_type": "stream",
     "text": [
      "/home/art/git/data_engineer/venv/bin/python\n"
     ]
    }
   ],
   "source": [
    "import sys\n",
    "\n",
    "print( sys.executable )\n"
   ]
  },
  {
   "cell_type": "code",
   "execution_count": 3,
   "id": "494c9a4f",
   "metadata": {},
   "outputs": [
    {
     "name": "stdout",
     "output_type": "stream",
     "text": [
      "sys.version_info(major=3, minor=10, micro=11, releaselevel='final', serial=0)\n"
     ]
    }
   ],
   "source": [
    "print( sys.version_info )"
   ]
  },
  {
   "cell_type": "code",
   "execution_count": 4,
   "id": "3e860b04",
   "metadata": {},
   "outputs": [
    {
     "name": "stdout",
     "output_type": "stream",
     "text": [
      "Selected Jupyter core packages...\n",
      "IPython          : 8.14.0\n",
      "ipykernel        : 6.23.1\n",
      "ipywidgets       : 8.0.6\n",
      "jupyter_client   : 8.2.0\n",
      "jupyter_core     : 5.3.0\n",
      "jupyter_server   : 2.6.0\n",
      "jupyterlab       : not installed\n",
      "nbclient         : 0.8.0\n",
      "nbconvert        : 7.4.0\n",
      "nbformat         : 5.9.0\n",
      "notebook         : 6.5.4\n",
      "qtconsole        : 5.4.3\n",
      "traitlets        : 5.9.0\n"
     ]
    }
   ],
   "source": [
    "!jupyter --version"
   ]
  },
  {
   "cell_type": "code",
   "execution_count": 5,
   "id": "c303b3ce",
   "metadata": {},
   "outputs": [],
   "source": [
    "from IPython.display        import display, HTML\n",
    "\n",
    "import findspark\n",
    "findspark.init()\n",
    "import pyspark\n",
    "\n",
    "#from pyspark.context import SparkContext\n",
    "from pyspark.sql            import SparkSession\n",
    "from pyspark.sql.functions  import col, explode, udf\n",
    "from pyspark.sql.types      import Row, StringType, LongType, ArrayType\n"
   ]
  },
  {
   "cell_type": "code",
   "execution_count": 6,
   "id": "5e6ec34d",
   "metadata": {},
   "outputs": [
    {
     "data": {
      "text/plain": [
       "'3.4.0'"
      ]
     },
     "execution_count": 6,
     "metadata": {},
     "output_type": "execute_result"
    }
   ],
   "source": [
    "pyspark.__version__\n"
   ]
  },
  {
   "cell_type": "markdown",
   "id": "cde46f25",
   "metadata": {},
   "source": [
    "### create Spark Session"
   ]
  },
  {
   "cell_type": "code",
   "execution_count": 7,
   "id": "e16fbb05",
   "metadata": {},
   "outputs": [
    {
     "name": "stderr",
     "output_type": "stream",
     "text": [
      "Setting default log level to \"WARN\".\n",
      "To adjust logging level use sc.setLogLevel(newLevel). For SparkR, use setLogLevel(newLevel).\n",
      "24/07/09 22:03:20 WARN NativeCodeLoader: Unable to load native-hadoop library for your platform... using builtin-java classes where applicable\n"
     ]
    }
   ],
   "source": [
    "spark = SparkSession.builder \\\n",
    "        .appName( 'bikes' )  \\\n",
    "        .getOrCreate()\n"
   ]
  },
  {
   "cell_type": "code",
   "execution_count": 8,
   "id": "efc24732",
   "metadata": {},
   "outputs": [],
   "source": [
    "file_name_animal = '/home/art/data/animal/animal.csv'\n",
    "file_name_specie = '/home/art/data/animal/specie.csv'"
   ]
  },
  {
   "cell_type": "code",
   "execution_count": 16,
   "id": "c5e0a569",
   "metadata": {},
   "outputs": [],
   "source": [
    "df_animal = spark.read.option( 'header', True  ).csv( file_name_animal )\n",
    "df_specie = spark.read.option( 'header', True  ).csv( file_name_specie )"
   ]
  },
  {
   "cell_type": "code",
   "execution_count": 17,
   "id": "7583166f",
   "metadata": {},
   "outputs": [],
   "source": [
    "df_animal.createOrReplaceTempView( 'animal' )\n",
    "df_specie.createOrReplaceTempView( 'specie' )"
   ]
  },
  {
   "cell_type": "code",
   "execution_count": 18,
   "id": "71b5f063",
   "metadata": {},
   "outputs": [],
   "source": [
    "q1 = '''\n",
    "select *\n",
    "from animal\n",
    "'''"
   ]
  },
  {
   "cell_type": "code",
   "execution_count": 19,
   "id": "f97deb27",
   "metadata": {},
   "outputs": [
    {
     "name": "stdout",
     "output_type": "stream",
     "text": [
      "+---+-----------+\n",
      "| id|common_name|\n",
      "+---+-----------+\n",
      "|  1|        cat|\n",
      "|  2|        dog|\n",
      "|  3|     turtle|\n",
      "+---+-----------+\n",
      "\n"
     ]
    }
   ],
   "source": [
    "spark.sql( q1 ).show()"
   ]
  },
  {
   "cell_type": "code",
   "execution_count": 20,
   "id": "d9b4a932",
   "metadata": {},
   "outputs": [],
   "source": [
    "q2 = '''\n",
    "select *\n",
    "from specie\n",
    "'''"
   ]
  },
  {
   "cell_type": "code",
   "execution_count": 21,
   "id": "48ca7424",
   "metadata": {},
   "outputs": [
    {
     "name": "stdout",
     "output_type": "stream",
     "text": [
      "+---+----------------+\n",
      "| id|          specie|\n",
      "+---+----------------+\n",
      "|  3|  chelonia midas|\n",
      "|  2|canis familiaris|\n",
      "|  1|     felis catus|\n",
      "+---+----------------+\n",
      "\n"
     ]
    }
   ],
   "source": [
    "spark.sql( q2 ).show()"
   ]
  },
  {
   "cell_type": "code",
   "execution_count": 24,
   "id": "2b06df31",
   "metadata": {},
   "outputs": [],
   "source": [
    "q3 = '''\n",
    "select a.id, a.common_name, s.specie\n",
    "from animal a\n",
    "LEFT JOIN specie s \n",
    "on a.id = s.id\n",
    "'''"
   ]
  },
  {
   "cell_type": "code",
   "execution_count": 25,
   "id": "12df3eea",
   "metadata": {},
   "outputs": [
    {
     "name": "stdout",
     "output_type": "stream",
     "text": [
      "+---+-----------+----------------+\n",
      "| id|common_name|          specie|\n",
      "+---+-----------+----------------+\n",
      "|  1|        cat|     felis catus|\n",
      "|  2|        dog|canis familiaris|\n",
      "|  3|     turtle|  chelonia midas|\n",
      "+---+-----------+----------------+\n",
      "\n"
     ]
    }
   ],
   "source": [
    "spark.sql( q3 ).show()"
   ]
  },
  {
   "cell_type": "code",
   "execution_count": null,
   "id": "96aca771",
   "metadata": {},
   "outputs": [],
   "source": []
  }
 ],
 "metadata": {
  "kernelspec": {
   "display_name": "Python 3 (ipykernel)",
   "language": "python",
   "name": "python3"
  },
  "language_info": {
   "codemirror_mode": {
    "name": "ipython",
    "version": 3
   },
   "file_extension": ".py",
   "mimetype": "text/x-python",
   "name": "python",
   "nbconvert_exporter": "python",
   "pygments_lexer": "ipython3",
   "version": "3.10.11"
  }
 },
 "nbformat": 4,
 "nbformat_minor": 5
}
