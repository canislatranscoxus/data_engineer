{
 "cells": [
  {
   "cell_type": "markdown",
   "id": "2a79afdd",
   "metadata": {},
   "source": [
    "# Bikes"
   ]
  },
  {
   "cell_type": "markdown",
   "id": "8148f6ea",
   "metadata": {},
   "source": [
    "Here we load a csv, make some transformations with SQL and save to different formats."
   ]
  },
  {
   "cell_type": "code",
   "execution_count": 1,
   "id": "e3e1d1ac",
   "metadata": {},
   "outputs": [
    {
     "name": "stdout",
     "output_type": "stream",
     "text": [
      "3.10.11\n"
     ]
    }
   ],
   "source": [
    "from platform import python_version\n",
    "\n",
    "print( python_version() )"
   ]
  },
  {
   "cell_type": "code",
   "execution_count": 2,
   "id": "ee7d0266",
   "metadata": {},
   "outputs": [
    {
     "name": "stdout",
     "output_type": "stream",
     "text": [
      "/home/art/git/data_engineer/venv/bin/python\n"
     ]
    }
   ],
   "source": [
    "import sys\n",
    "\n",
    "print( sys.executable )\n"
   ]
  },
  {
   "cell_type": "code",
   "execution_count": 3,
   "id": "768aa721",
   "metadata": {},
   "outputs": [
    {
     "name": "stdout",
     "output_type": "stream",
     "text": [
      "sys.version_info(major=3, minor=10, micro=11, releaselevel='final', serial=0)\n"
     ]
    }
   ],
   "source": [
    "print( sys.version_info )"
   ]
  },
  {
   "cell_type": "code",
   "execution_count": 4,
   "id": "d0aba43d",
   "metadata": {},
   "outputs": [
    {
     "name": "stdout",
     "output_type": "stream",
     "text": [
      "Selected Jupyter core packages...\n",
      "IPython          : 8.14.0\n",
      "ipykernel        : 6.23.1\n",
      "ipywidgets       : 8.0.6\n",
      "jupyter_client   : 8.2.0\n",
      "jupyter_core     : 5.3.0\n",
      "jupyter_server   : 2.6.0\n",
      "jupyterlab       : not installed\n",
      "nbclient         : 0.8.0\n",
      "nbconvert        : 7.4.0\n",
      "nbformat         : 5.9.0\n",
      "notebook         : 6.5.4\n",
      "qtconsole        : 5.4.3\n",
      "traitlets        : 5.9.0\n"
     ]
    }
   ],
   "source": [
    "!jupyter --version"
   ]
  },
  {
   "cell_type": "code",
   "execution_count": 5,
   "id": "44f7faf4",
   "metadata": {},
   "outputs": [],
   "source": [
    "from IPython.display        import display, HTML\n",
    "\n",
    "import findspark\n",
    "findspark.init()\n",
    "import pyspark\n",
    "\n",
    "#from pyspark.context import SparkContext\n",
    "from pyspark.sql            import SparkSession\n",
    "from pyspark.sql.functions  import col, explode, udf\n",
    "from pyspark.sql.types      import Row, StringType, LongType, ArrayType\n",
    "\n"
   ]
  },
  {
   "cell_type": "code",
   "execution_count": 6,
   "id": "20471fa1",
   "metadata": {},
   "outputs": [
    {
     "data": {
      "text/plain": [
       "'3.4.0'"
      ]
     },
     "execution_count": 6,
     "metadata": {},
     "output_type": "execute_result"
    }
   ],
   "source": [
    "pyspark.__version__\n"
   ]
  },
  {
   "cell_type": "markdown",
   "id": "0ff354bf",
   "metadata": {},
   "source": [
    "#### avro package\n",
    "\n",
    "Remember that this is an external package and we need to load it from here."
   ]
  },
  {
   "cell_type": "code",
   "execution_count": 9,
   "id": "895282ff",
   "metadata": {},
   "outputs": [],
   "source": [
    "import os\n",
    "os.environ['PYSPARK_SUBMIT_ARGS'] = '--packages org.apache.spark:spark-avro_2.12:3.4.0 pyspark-shell'\n"
   ]
  },
  {
   "cell_type": "markdown",
   "id": "461eaa05",
   "metadata": {},
   "source": [
    "### create Spark Session"
   ]
  },
  {
   "cell_type": "code",
   "execution_count": 10,
   "id": "4dacc10e",
   "metadata": {},
   "outputs": [
    {
     "name": "stdout",
     "output_type": "stream",
     "text": [
      ":: loading settings :: url = jar:file:/home/art/git/data_engineer/venv/lib/python3.10/site-packages/pyspark/jars/ivy-2.5.1.jar!/org/apache/ivy/core/settings/ivysettings.xml\n"
     ]
    },
    {
     "name": "stderr",
     "output_type": "stream",
     "text": [
      "Ivy Default Cache set to: /home/art/.ivy2/cache\n",
      "The jars for the packages stored in: /home/art/.ivy2/jars\n",
      "org.apache.spark#spark-avro_2.12 added as a dependency\n",
      ":: resolving dependencies :: org.apache.spark#spark-submit-parent-2673de7e-1c83-4b9f-8a7c-134521e99a41;1.0\n",
      "\tconfs: [default]\n",
      "\tfound org.apache.spark#spark-avro_2.12;3.4.0 in central\n",
      "\tfound org.tukaani#xz;1.9 in central\n",
      "downloading https://repo1.maven.org/maven2/org/apache/spark/spark-avro_2.12/3.4.0/spark-avro_2.12-3.4.0.jar ...\n",
      "\t[SUCCESSFUL ] org.apache.spark#spark-avro_2.12;3.4.0!spark-avro_2.12.jar (150ms)\n",
      "downloading https://repo1.maven.org/maven2/org/tukaani/xz/1.9/xz-1.9.jar ...\n",
      "\t[SUCCESSFUL ] org.tukaani#xz;1.9!xz.jar (95ms)\n",
      ":: resolution report :: resolve 1979ms :: artifacts dl 253ms\n",
      "\t:: modules in use:\n",
      "\torg.apache.spark#spark-avro_2.12;3.4.0 from central in [default]\n",
      "\torg.tukaani#xz;1.9 from central in [default]\n",
      "\t---------------------------------------------------------------------\n",
      "\t|                  |            modules            ||   artifacts   |\n",
      "\t|       conf       | number| search|dwnlded|evicted|| number|dwnlded|\n",
      "\t---------------------------------------------------------------------\n",
      "\t|      default     |   2   |   2   |   2   |   0   ||   2   |   2   |\n",
      "\t---------------------------------------------------------------------\n",
      ":: retrieving :: org.apache.spark#spark-submit-parent-2673de7e-1c83-4b9f-8a7c-134521e99a41\n",
      "\tconfs: [default]\n",
      "\t2 artifacts copied, 0 already retrieved (308kB/7ms)\n",
      "23/06/13 13:41:47 WARN NativeCodeLoader: Unable to load native-hadoop library for your platform... using builtin-java classes where applicable\n",
      "Setting default log level to \"WARN\".\n",
      "To adjust logging level use sc.setLogLevel(newLevel). For SparkR, use setLogLevel(newLevel).\n"
     ]
    }
   ],
   "source": [
    "spark = SparkSession.builder \\\n",
    "        .appName( 'bikes' )  \\\n",
    "        .getOrCreate()\n"
   ]
  },
  {
   "cell_type": "code",
   "execution_count": 11,
   "id": "49ce33e3",
   "metadata": {},
   "outputs": [],
   "source": [
    "file_name = '/home/art/data/202004-capitalbikeshare/bike_100.csv'\n"
   ]
  },
  {
   "cell_type": "code",
   "execution_count": 12,
   "id": "6a75555d",
   "metadata": {},
   "outputs": [
    {
     "data": {
      "text/plain": [
       "DataFrame[_c0: string, _c1: string, _c2: string, _c3: string, _c4: string, _c5: string, _c6: string, _c7: string, _c8: string, _c9: string, _c10: string, _c11: string, _c12: string]"
      ]
     },
     "execution_count": 12,
     "metadata": {},
     "output_type": "execute_result"
    }
   ],
   "source": [
    "df = spark.read.csv( file_name )\n",
    "df"
   ]
  },
  {
   "cell_type": "code",
   "execution_count": 13,
   "id": "04cbce30",
   "metadata": {},
   "outputs": [
    {
     "name": "stdout",
     "output_type": "stream",
     "text": [
      "+----------------+-------------+-------------------+-------------------+---------------------------------+----------------+----------------+--------------+----------------+-----------------+----------------+-----------------+-------------+\n",
      "|_c0             |_c1          |_c2                |_c3                |_c4                              |_c5             |_c6             |_c7           |_c8             |_c9              |_c10            |_c11             |_c12         |\n",
      "+----------------+-------------+-------------------+-------------------+---------------------------------+----------------+----------------+--------------+----------------+-----------------+----------------+-----------------+-------------+\n",
      "|ride_id         |rideable_type|started_at         |ended_at           |start_station_name               |start_station_id|end_station_name|end_station_id|start_lat       |start_lng        |end_lat         |end_lng          |member_casual|\n",
      "|77A0F1B26D1597B1|docked_bike  |2020-04-25 17:28:39|2020-04-25 17:35:04|Rhode Island & Connecticut Ave NW|31239           |12th & L St NW  |31251         |38.9059956999911|-77.0398020744324|38.903819       |-77.0284         |casual       |\n",
      "|8698F10128EA4F18|docked_bike  |2020-04-06 07:54:59|2020-04-06 07:57:24|21st & I St NW                   |31205           |18th & L St NW  |31224         |38.9007106254746|-77.0464485883713|38.9037414509194|-77.0424520969391|member       |\n",
      "+----------------+-------------+-------------------+-------------------+---------------------------------+----------------+----------------+--------------+----------------+-----------------+----------------+-----------------+-------------+\n",
      "only showing top 3 rows\n",
      "\n"
     ]
    }
   ],
   "source": [
    "df.show( 3, truncate = False )"
   ]
  },
  {
   "cell_type": "code",
   "execution_count": 14,
   "id": "c662b5a0",
   "metadata": {},
   "outputs": [],
   "source": [
    "df.createOrReplaceTempView( 'df' )"
   ]
  },
  {
   "cell_type": "code",
   "execution_count": 15,
   "id": "d62aba6a",
   "metadata": {},
   "outputs": [
    {
     "name": "stdout",
     "output_type": "stream",
     "text": [
      "+----------------+-------------+-------------------+-------------------+--------------------+----------------+--------------------+--------------+----------------+-----------------+----------------+-----------------+-------------+\n",
      "|             _c0|          _c1|                _c2|                _c3|                 _c4|             _c5|                 _c6|           _c7|             _c8|              _c9|            _c10|             _c11|         _c12|\n",
      "+----------------+-------------+-------------------+-------------------+--------------------+----------------+--------------------+--------------+----------------+-----------------+----------------+-----------------+-------------+\n",
      "|         ride_id|rideable_type|         started_at|           ended_at|  start_station_name|start_station_id|    end_station_name|end_station_id|       start_lat|        start_lng|         end_lat|          end_lng|member_casual|\n",
      "|77A0F1B26D1597B1|  docked_bike|2020-04-25 17:28:39|2020-04-25 17:35:04|Rhode Island & Co...|           31239|      12th & L St NW|         31251|38.9059956999911|-77.0398020744324|       38.903819|         -77.0284|       casual|\n",
      "|8698F10128EA4F18|  docked_bike|2020-04-06 07:54:59|2020-04-06 07:57:24|      21st & I St NW|           31205|      18th & L St NW|         31224|38.9007106254746|-77.0464485883713|38.9037414509194|-77.0424520969391|       member|\n",
      "|AA07819DC0F58872|  docked_bike|2020-04-22 17:06:18|2020-04-22 18:08:32|Connecticut Ave &...|           31313|Connecticut Ave &...|         31313|38.9411391565301| -77.061977237463|38.9411391565301| -77.061977237463|       casual|\n",
      "|DA909BCA92EF85AB|  docked_bike|2020-04-16 15:22:40|2020-04-16 15:58:37|       7th & E St SW|           31294|       7th & E St SW|         31294|        38.88345|       -77.021741|        38.88345|       -77.021741|       casual|\n",
      "|B36F1E14D8C6757E|  docked_bike|2020-04-10 13:19:41|2020-04-10 13:23:05|Potomac & Pennsyl...|           31606|8th & Eye St SE /...|         31608|         38.8803|         -76.9862|         38.8792|         -76.9953|       member|\n",
      "|3C10F9AE61844C89|  docked_bike|2020-04-26 12:30:57|2020-04-26 12:34:15|Potomac & Pennsyl...|           31606|8th & Eye St SE /...|         31608|         38.8803|         -76.9862|         38.8792|         -76.9953|       member|\n",
      "|361BF81F8528597B|  docked_bike|2020-04-17 16:44:31|2020-04-17 16:47:44|Potomac & Pennsyl...|           31606|8th & Eye St SE /...|         31608|         38.8803|         -76.9862|         38.8792|         -76.9953|       member|\n",
      "|8087C5803C444CA7|  docked_bike|2020-04-12 17:12:51|2020-04-12 17:16:23|Calvert & Biltmor...|           31106|Columbia Rd & Bel...|         31113|       38.923203|       -77.047637|       38.920669|        -77.04368|       member|\n",
      "|D40BA9257FD7F9BC|  docked_bike|2020-04-01 18:09:03|2020-04-01 18:35:00|Needwood Rd & Eag...|           32018|Crabbs Branch Way...|         32015|       39.123513|        -77.15741|       39.120045|       -77.156985|       casual|\n",
      "|C19F084E1BA87FB9|  docked_bike|2020-04-11 16:05:36|2020-04-11 17:08:54|Market Square / K...|           31042|      14th & V St NW|         31101|       38.804718|       -77.043363|       38.917931|       -77.032112|       member|\n",
      "|36B247781317A0A3|  docked_bike|2020-04-11 16:05:15|2020-04-11 17:08:55|Market Square / K...|           31042|      14th & V St NW|         31101|       38.804718|       -77.043363|       38.917931|       -77.032112|       member|\n",
      "|01D6659BA9B9E8F8|  docked_bike|2020-04-09 12:03:43|2020-04-09 12:19:10|Rhode Island & Co...|           31239|      14th & V St NW|         31101|38.9059956999911|-77.0398020744324|       38.917931|       -77.032112|       member|\n",
      "|E52175B3A27ADBB1|  docked_bike|2020-04-19 11:11:32|2020-04-19 11:44:12|Market Square / K...|           31042|      Gravelly Point|         31064|       38.804718|       -77.043363|       38.865029|       -77.039511|       member|\n",
      "|21E11004E625B42D|  docked_bike|2020-04-19 12:16:58|2020-04-19 12:59:30|Market Square / K...|           31042|      Gravelly Point|         31064|       38.804718|       -77.043363|       38.865029|       -77.039511|       casual|\n",
      "|0587F0A7A4DED258|  docked_bike|2020-04-05 18:13:38|2020-04-05 18:40:03|Market Square / K...|           31042|      Gravelly Point|         31064|       38.804718|       -77.043363|       38.865029|       -77.039511|       member|\n",
      "|A871CB18FC833DE2|  docked_bike|2020-04-19 15:09:05|2020-04-19 15:51:51|Market Square / K...|           31042|      Gravelly Point|         31064|       38.804718|       -77.043363|       38.865029|       -77.039511|       member|\n",
      "|7C08C151319EB7F6|  docked_bike|2020-04-27 22:37:12|2020-04-27 22:42:40|14th & Harvard St NW|           31105|   14th & Otis Pl NW|         31131|         38.9268|         -77.0322|       38.934405|       -77.032687|       member|\n",
      "|F5076AFCDE68E108|  docked_bike|2020-04-20 19:25:29|2020-04-20 19:29:57|14th & Harvard St NW|           31105|   14th & Otis Pl NW|         31131|         38.9268|         -77.0322|       38.934405|       -77.032687|       member|\n",
      "|F2E1738BA018C85E|  docked_bike|2020-04-11 21:23:53|2020-04-11 21:44:34|New York Ave & He...|           31518|Minnesota Ave Met...|         31703|       38.915604|       -76.983683|       38.897063|       -76.947446|       casual|\n",
      "+----------------+-------------+-------------------+-------------------+--------------------+----------------+--------------------+--------------+----------------+-----------------+----------------+-----------------+-------------+\n",
      "only showing top 20 rows\n",
      "\n"
     ]
    }
   ],
   "source": [
    "spark.sql(\n",
    "'''\n",
    "select * \n",
    "from df\n",
    "'''\n",
    ").show()"
   ]
  },
  {
   "cell_type": "markdown",
   "id": "0a03ba1d",
   "metadata": {},
   "source": [
    "### read csv with header"
   ]
  },
  {
   "cell_type": "code",
   "execution_count": 16,
   "id": "2e863976",
   "metadata": {},
   "outputs": [],
   "source": [
    "df = spark.read                 \\\n",
    "     .option( 'header', True  ) \\\n",
    "     .csv( file_name )"
   ]
  },
  {
   "cell_type": "code",
   "execution_count": 17,
   "id": "1b5ab87c",
   "metadata": {},
   "outputs": [
    {
     "name": "stdout",
     "output_type": "stream",
     "text": [
      "root\n",
      " |-- ride_id: string (nullable = true)\n",
      " |-- rideable_type: string (nullable = true)\n",
      " |-- started_at: string (nullable = true)\n",
      " |-- ended_at: string (nullable = true)\n",
      " |-- start_station_name: string (nullable = true)\n",
      " |-- start_station_id: string (nullable = true)\n",
      " |-- end_station_name: string (nullable = true)\n",
      " |-- end_station_id: string (nullable = true)\n",
      " |-- start_lat: string (nullable = true)\n",
      " |-- start_lng: string (nullable = true)\n",
      " |-- end_lat: string (nullable = true)\n",
      " |-- end_lng: string (nullable = true)\n",
      " |-- member_casual: string (nullable = true)\n",
      "\n"
     ]
    }
   ],
   "source": [
    "df.printSchema()"
   ]
  },
  {
   "cell_type": "code",
   "execution_count": 18,
   "id": "415e4cce",
   "metadata": {},
   "outputs": [
    {
     "name": "stdout",
     "output_type": "stream",
     "text": [
      "+----------------+-------------+-------------------+-------------------+--------------------+----------------+--------------------+--------------+----------------+-----------------+----------------+-----------------+-------------+\n",
      "|         ride_id|rideable_type|         started_at|           ended_at|  start_station_name|start_station_id|    end_station_name|end_station_id|       start_lat|        start_lng|         end_lat|          end_lng|member_casual|\n",
      "+----------------+-------------+-------------------+-------------------+--------------------+----------------+--------------------+--------------+----------------+-----------------+----------------+-----------------+-------------+\n",
      "|77A0F1B26D1597B1|  docked_bike|2020-04-25 17:28:39|2020-04-25 17:35:04|Rhode Island & Co...|           31239|      12th & L St NW|         31251|38.9059956999911|-77.0398020744324|       38.903819|         -77.0284|       casual|\n",
      "|8698F10128EA4F18|  docked_bike|2020-04-06 07:54:59|2020-04-06 07:57:24|      21st & I St NW|           31205|      18th & L St NW|         31224|38.9007106254746|-77.0464485883713|38.9037414509194|-77.0424520969391|       member|\n",
      "|AA07819DC0F58872|  docked_bike|2020-04-22 17:06:18|2020-04-22 18:08:32|Connecticut Ave &...|           31313|Connecticut Ave &...|         31313|38.9411391565301| -77.061977237463|38.9411391565301| -77.061977237463|       casual|\n",
      "|DA909BCA92EF85AB|  docked_bike|2020-04-16 15:22:40|2020-04-16 15:58:37|       7th & E St SW|           31294|       7th & E St SW|         31294|        38.88345|       -77.021741|        38.88345|       -77.021741|       casual|\n",
      "|B36F1E14D8C6757E|  docked_bike|2020-04-10 13:19:41|2020-04-10 13:23:05|Potomac & Pennsyl...|           31606|8th & Eye St SE /...|         31608|         38.8803|         -76.9862|         38.8792|         -76.9953|       member|\n",
      "|3C10F9AE61844C89|  docked_bike|2020-04-26 12:30:57|2020-04-26 12:34:15|Potomac & Pennsyl...|           31606|8th & Eye St SE /...|         31608|         38.8803|         -76.9862|         38.8792|         -76.9953|       member|\n",
      "|361BF81F8528597B|  docked_bike|2020-04-17 16:44:31|2020-04-17 16:47:44|Potomac & Pennsyl...|           31606|8th & Eye St SE /...|         31608|         38.8803|         -76.9862|         38.8792|         -76.9953|       member|\n",
      "|8087C5803C444CA7|  docked_bike|2020-04-12 17:12:51|2020-04-12 17:16:23|Calvert & Biltmor...|           31106|Columbia Rd & Bel...|         31113|       38.923203|       -77.047637|       38.920669|        -77.04368|       member|\n",
      "|D40BA9257FD7F9BC|  docked_bike|2020-04-01 18:09:03|2020-04-01 18:35:00|Needwood Rd & Eag...|           32018|Crabbs Branch Way...|         32015|       39.123513|        -77.15741|       39.120045|       -77.156985|       casual|\n",
      "|C19F084E1BA87FB9|  docked_bike|2020-04-11 16:05:36|2020-04-11 17:08:54|Market Square / K...|           31042|      14th & V St NW|         31101|       38.804718|       -77.043363|       38.917931|       -77.032112|       member|\n",
      "|36B247781317A0A3|  docked_bike|2020-04-11 16:05:15|2020-04-11 17:08:55|Market Square / K...|           31042|      14th & V St NW|         31101|       38.804718|       -77.043363|       38.917931|       -77.032112|       member|\n",
      "|01D6659BA9B9E8F8|  docked_bike|2020-04-09 12:03:43|2020-04-09 12:19:10|Rhode Island & Co...|           31239|      14th & V St NW|         31101|38.9059956999911|-77.0398020744324|       38.917931|       -77.032112|       member|\n",
      "|E52175B3A27ADBB1|  docked_bike|2020-04-19 11:11:32|2020-04-19 11:44:12|Market Square / K...|           31042|      Gravelly Point|         31064|       38.804718|       -77.043363|       38.865029|       -77.039511|       member|\n",
      "|21E11004E625B42D|  docked_bike|2020-04-19 12:16:58|2020-04-19 12:59:30|Market Square / K...|           31042|      Gravelly Point|         31064|       38.804718|       -77.043363|       38.865029|       -77.039511|       casual|\n",
      "|0587F0A7A4DED258|  docked_bike|2020-04-05 18:13:38|2020-04-05 18:40:03|Market Square / K...|           31042|      Gravelly Point|         31064|       38.804718|       -77.043363|       38.865029|       -77.039511|       member|\n",
      "|A871CB18FC833DE2|  docked_bike|2020-04-19 15:09:05|2020-04-19 15:51:51|Market Square / K...|           31042|      Gravelly Point|         31064|       38.804718|       -77.043363|       38.865029|       -77.039511|       member|\n",
      "|7C08C151319EB7F6|  docked_bike|2020-04-27 22:37:12|2020-04-27 22:42:40|14th & Harvard St NW|           31105|   14th & Otis Pl NW|         31131|         38.9268|         -77.0322|       38.934405|       -77.032687|       member|\n",
      "|F5076AFCDE68E108|  docked_bike|2020-04-20 19:25:29|2020-04-20 19:29:57|14th & Harvard St NW|           31105|   14th & Otis Pl NW|         31131|         38.9268|         -77.0322|       38.934405|       -77.032687|       member|\n",
      "|F2E1738BA018C85E|  docked_bike|2020-04-11 21:23:53|2020-04-11 21:44:34|New York Ave & He...|           31518|Minnesota Ave Met...|         31703|       38.915604|       -76.983683|       38.897063|       -76.947446|       casual|\n",
      "|D98A50359D307015|  docked_bike|2020-04-22 22:59:58|2020-04-22 23:10:42|2nd St & Massachu...|           31641|Potomac & Pennsyl...|         31606|       38.894972|       -77.003135|         38.8803|         -76.9862|       member|\n",
      "+----------------+-------------+-------------------+-------------------+--------------------+----------------+--------------------+--------------+----------------+-----------------+----------------+-----------------+-------------+\n",
      "only showing top 20 rows\n",
      "\n"
     ]
    }
   ],
   "source": [
    "df.show()"
   ]
  },
  {
   "cell_type": "markdown",
   "id": "cf756966",
   "metadata": {},
   "source": [
    "### read csv and infer schema"
   ]
  },
  {
   "cell_type": "code",
   "execution_count": 19,
   "id": "1a567b75",
   "metadata": {},
   "outputs": [
    {
     "name": "stdout",
     "output_type": "stream",
     "text": [
      "root\n",
      " |-- ride_id: string (nullable = true)\n",
      " |-- rideable_type: string (nullable = true)\n",
      " |-- started_at: timestamp (nullable = true)\n",
      " |-- ended_at: timestamp (nullable = true)\n",
      " |-- start_station_name: string (nullable = true)\n",
      " |-- start_station_id: integer (nullable = true)\n",
      " |-- end_station_name: string (nullable = true)\n",
      " |-- end_station_id: integer (nullable = true)\n",
      " |-- start_lat: double (nullable = true)\n",
      " |-- start_lng: double (nullable = true)\n",
      " |-- end_lat: double (nullable = true)\n",
      " |-- end_lng: double (nullable = true)\n",
      " |-- member_casual: string (nullable = true)\n",
      "\n"
     ]
    }
   ],
   "source": [
    "df = spark.read   \\\n",
    "     .options( header = True, inferSchema = True, delimiter = ','  ) \\\n",
    "     .csv( file_name )\n",
    "\n",
    "df.printSchema()"
   ]
  },
  {
   "cell_type": "code",
   "execution_count": 20,
   "id": "180260ca",
   "metadata": {},
   "outputs": [],
   "source": [
    "df.createOrReplaceTempView( 'df' )"
   ]
  },
  {
   "cell_type": "code",
   "execution_count": 21,
   "id": "61c68bbd",
   "metadata": {},
   "outputs": [
    {
     "name": "stdout",
     "output_type": "stream",
     "text": [
      "+----------------+--------------------+-------------------+\n",
      "|         ride_id|  start_station_name|         started_at|\n",
      "+----------------+--------------------+-------------------+\n",
      "|77A0F1B26D1597B1|Rhode Island & Co...|2020-04-25 17:28:39|\n",
      "|8698F10128EA4F18|      21st & I St NW|2020-04-06 07:54:59|\n",
      "|AA07819DC0F58872|Connecticut Ave &...|2020-04-22 17:06:18|\n",
      "+----------------+--------------------+-------------------+\n",
      "\n"
     ]
    }
   ],
   "source": [
    "spark.sql(\n",
    "'''\n",
    "select ride_id, start_station_name, started_at\n",
    "from df\n",
    "limit 3\n",
    "\n",
    "'''\n",
    ").show()"
   ]
  },
  {
   "cell_type": "code",
   "execution_count": 22,
   "id": "be18d48b",
   "metadata": {},
   "outputs": [
    {
     "name": "stdout",
     "output_type": "stream",
     "text": [
      "+--------------------+---------+\n",
      "|  start_station_name|num_rides|\n",
      "+--------------------+---------+\n",
      "|Reston Pkwy & Spe...|       21|\n",
      "|Potomac & Pennsyl...|        7|\n",
      "|Market Square / K...|        6|\n",
      "|Rhodes St & 16th ...|        6|\n",
      "|Rhode Island & Co...|        6|\n",
      "|2nd St & Massachu...|        3|\n",
      "|E Montgomery Ave ...|        3|\n",
      "|       1st & D St SE|        3|\n",
      "|Bethesda Ave & Ar...|        2|\n",
      "| 5th & Kennedy St NW|        2|\n",
      "| 12th & Irving St NE|        2|\n",
      "|North Shore Dr & ...|        2|\n",
      "|       3rd & H St NW|        2|\n",
      "|Columbia Rd & Geo...|        2|\n",
      "|      11th & S St NW|        2|\n",
      "|New York Ave & He...|        2|\n",
      "|1st & Rhode Islan...|        2|\n",
      "|       6th & K St NE|        2|\n",
      "|14th & Harvard St NW|        2|\n",
      "|Needwood Rd & Eag...|        1|\n",
      "+--------------------+---------+\n",
      "only showing top 20 rows\n",
      "\n"
     ]
    }
   ],
   "source": [
    "df_02 = spark.sql(\n",
    "'''\n",
    "select start_station_name, count( * ) as num_rides\n",
    "from df\n",
    "group by 1\n",
    "order by 2 DESC\n",
    "'''\n",
    ")\n",
    "\n",
    "df_02.show()"
   ]
  },
  {
   "cell_type": "code",
   "execution_count": 23,
   "id": "ab240eb0",
   "metadata": {},
   "outputs": [
    {
     "name": "stdout",
     "output_type": "stream",
     "text": [
      "+--------------------+\n",
      "|  start_station_name|\n",
      "+--------------------+\n",
      "|Rhode Island & Co...|\n",
      "|      21st & I St NW|\n",
      "|Connecticut Ave &...|\n",
      "|       7th & E St SW|\n",
      "|Potomac & Pennsyl...|\n",
      "|Potomac & Pennsyl...|\n",
      "|Potomac & Pennsyl...|\n",
      "|Calvert & Biltmor...|\n",
      "|Needwood Rd & Eag...|\n",
      "|Market Square / K...|\n",
      "|Market Square / K...|\n",
      "|Rhode Island & Co...|\n",
      "|Market Square / K...|\n",
      "|Market Square / K...|\n",
      "|Market Square / K...|\n",
      "|Market Square / K...|\n",
      "|14th & Harvard St NW|\n",
      "|14th & Harvard St NW|\n",
      "|New York Ave & He...|\n",
      "|2nd St & Massachu...|\n",
      "+--------------------+\n",
      "only showing top 20 rows\n",
      "\n"
     ]
    }
   ],
   "source": [
    "df_03 = spark.sql(\n",
    "'''\n",
    "select start_station_name\n",
    "from df\n",
    "'''\n",
    ")\n",
    "\n",
    "df_03.show()"
   ]
  },
  {
   "cell_type": "code",
   "execution_count": 24,
   "id": "9256b9cd",
   "metadata": {},
   "outputs": [
    {
     "name": "stdout",
     "output_type": "stream",
     "text": [
      "+-------+--------------------+\n",
      "|summary|  start_station_name|\n",
      "+-------+--------------------+\n",
      "|  count|                  99|\n",
      "|   mean|                null|\n",
      "| stddev|                null|\n",
      "|    min|      10th & G St NW|\n",
      "|    max|Veterans Pl & Per...|\n",
      "+-------+--------------------+\n",
      "\n"
     ]
    }
   ],
   "source": [
    "df_03.describe().show()"
   ]
  },
  {
   "cell_type": "markdown",
   "id": "4cfa99b4",
   "metadata": {},
   "source": [
    "### make joins"
   ]
  },
  {
   "cell_type": "code",
   "execution_count": 25,
   "id": "ed8f427c",
   "metadata": {},
   "outputs": [
    {
     "name": "stdout",
     "output_type": "stream",
     "text": [
      "+----------------+----------------+--------------+\n",
      "|         ride_id|start_station_id|end_station_id|\n",
      "+----------------+----------------+--------------+\n",
      "|77A0F1B26D1597B1|           31239|         31251|\n",
      "|8698F10128EA4F18|           31205|         31224|\n",
      "|AA07819DC0F58872|           31313|         31313|\n",
      "|DA909BCA92EF85AB|           31294|         31294|\n",
      "|B36F1E14D8C6757E|           31606|         31608|\n",
      "|3C10F9AE61844C89|           31606|         31608|\n",
      "|361BF81F8528597B|           31606|         31608|\n",
      "|8087C5803C444CA7|           31106|         31113|\n",
      "|D40BA9257FD7F9BC|           32018|         32015|\n",
      "|C19F084E1BA87FB9|           31042|         31101|\n",
      "|36B247781317A0A3|           31042|         31101|\n",
      "|01D6659BA9B9E8F8|           31239|         31101|\n",
      "|E52175B3A27ADBB1|           31042|         31064|\n",
      "|21E11004E625B42D|           31042|         31064|\n",
      "|0587F0A7A4DED258|           31042|         31064|\n",
      "|A871CB18FC833DE2|           31042|         31064|\n",
      "|7C08C151319EB7F6|           31105|         31131|\n",
      "|F5076AFCDE68E108|           31105|         31131|\n",
      "|F2E1738BA018C85E|           31518|         31703|\n",
      "|D98A50359D307015|           31641|         31606|\n",
      "+----------------+----------------+--------------+\n",
      "only showing top 20 rows\n",
      "\n"
     ]
    }
   ],
   "source": [
    "rides = spark.sql(\n",
    "'''\n",
    "select ride_id, start_station_id, end_station_id\n",
    "from df\n",
    "'''\n",
    ")\n",
    "\n",
    "rides.show()"
   ]
  },
  {
   "cell_type": "code",
   "execution_count": 26,
   "id": "555eb016",
   "metadata": {},
   "outputs": [
    {
     "name": "stdout",
     "output_type": "stream",
     "text": [
      "+----------+--------------------+\n",
      "|station_id|        station_name|\n",
      "+----------+--------------------+\n",
      "|     31239|Rhode Island & Co...|\n",
      "|     31205|      21st & I St NW|\n",
      "|     31313|Connecticut Ave &...|\n",
      "|     31294|       7th & E St SW|\n",
      "|     31606|Potomac & Pennsyl...|\n",
      "|     31606|Potomac & Pennsyl...|\n",
      "|     31606|Potomac & Pennsyl...|\n",
      "|     31106|Calvert & Biltmor...|\n",
      "|     32018|Needwood Rd & Eag...|\n",
      "|     31042|Market Square / K...|\n",
      "|     31042|Market Square / K...|\n",
      "|     31239|Rhode Island & Co...|\n",
      "|     31042|Market Square / K...|\n",
      "|     31042|Market Square / K...|\n",
      "|     31042|Market Square / K...|\n",
      "|     31042|Market Square / K...|\n",
      "|     31105|14th & Harvard St NW|\n",
      "|     31105|14th & Harvard St NW|\n",
      "|     31518|New York Ave & He...|\n",
      "|     31641|2nd St & Massachu...|\n",
      "+----------+--------------------+\n",
      "only showing top 20 rows\n",
      "\n"
     ]
    }
   ],
   "source": [
    "stations = spark.sql(\n",
    "'''\n",
    "select start_station_id as station_id, start_station_name as station_name\n",
    "from df\n",
    "'''\n",
    ")\n",
    "\n",
    "stations.show()"
   ]
  },
  {
   "cell_type": "code",
   "execution_count": 27,
   "id": "92f3221d",
   "metadata": {},
   "outputs": [],
   "source": [
    "rides   .createOrReplaceTempView( 'rides' )\n",
    "stations.createOrReplaceTempView( 'stations' )"
   ]
  },
  {
   "cell_type": "code",
   "execution_count": 28,
   "id": "ff9dcd2d",
   "metadata": {},
   "outputs": [
    {
     "name": "stdout",
     "output_type": "stream",
     "text": [
      "+----------------+----------------+--------------+--------------------+--------------------+\n",
      "|         ride_id|start_station_id|end_station_id|  start_station_name|    end_station_name|\n",
      "+----------------+----------------+--------------+--------------------+--------------------+\n",
      "|AA07819DC0F58872|           31313|         31313|Connecticut Ave &...|Connecticut Ave &...|\n",
      "|DA909BCA92EF85AB|           31294|         31294|       7th & E St SW|       7th & E St SW|\n",
      "|B36F1E14D8C6757E|           31606|         31608|Potomac & Pennsyl...|8th & Eye St SE /...|\n",
      "|B36F1E14D8C6757E|           31606|         31608|Potomac & Pennsyl...|8th & Eye St SE /...|\n",
      "|B36F1E14D8C6757E|           31606|         31608|Potomac & Pennsyl...|8th & Eye St SE /...|\n",
      "|B36F1E14D8C6757E|           31606|         31608|Potomac & Pennsyl...|8th & Eye St SE /...|\n",
      "|B36F1E14D8C6757E|           31606|         31608|Potomac & Pennsyl...|8th & Eye St SE /...|\n",
      "|B36F1E14D8C6757E|           31606|         31608|Potomac & Pennsyl...|8th & Eye St SE /...|\n",
      "|B36F1E14D8C6757E|           31606|         31608|Potomac & Pennsyl...|8th & Eye St SE /...|\n",
      "|3C10F9AE61844C89|           31606|         31608|Potomac & Pennsyl...|8th & Eye St SE /...|\n",
      "|3C10F9AE61844C89|           31606|         31608|Potomac & Pennsyl...|8th & Eye St SE /...|\n",
      "|3C10F9AE61844C89|           31606|         31608|Potomac & Pennsyl...|8th & Eye St SE /...|\n",
      "|3C10F9AE61844C89|           31606|         31608|Potomac & Pennsyl...|8th & Eye St SE /...|\n",
      "|3C10F9AE61844C89|           31606|         31608|Potomac & Pennsyl...|8th & Eye St SE /...|\n",
      "|3C10F9AE61844C89|           31606|         31608|Potomac & Pennsyl...|8th & Eye St SE /...|\n",
      "|3C10F9AE61844C89|           31606|         31608|Potomac & Pennsyl...|8th & Eye St SE /...|\n",
      "|361BF81F8528597B|           31606|         31608|Potomac & Pennsyl...|8th & Eye St SE /...|\n",
      "|361BF81F8528597B|           31606|         31608|Potomac & Pennsyl...|8th & Eye St SE /...|\n",
      "|361BF81F8528597B|           31606|         31608|Potomac & Pennsyl...|8th & Eye St SE /...|\n",
      "|361BF81F8528597B|           31606|         31608|Potomac & Pennsyl...|8th & Eye St SE /...|\n",
      "+----------------+----------------+--------------+--------------------+--------------------+\n",
      "only showing top 20 rows\n",
      "\n"
     ]
    }
   ],
   "source": [
    "spark.sql(\n",
    "'''\n",
    "select \n",
    "r.ride_id, r.start_station_id, r.end_station_id,\n",
    "\n",
    "s.station_name as start_station_name, \n",
    "\n",
    "e.station_name as end_station_name \n",
    "\n",
    "from rides r \n",
    "   INNER JOIN stations s ON r.start_station_id = s.station_id\n",
    "   INNER JOIN stations e ON r.end_station_id   = e.station_id\n",
    "   \n",
    "'''\n",
    ").show()"
   ]
  },
  {
   "cell_type": "markdown",
   "id": "fa0a2e6d",
   "metadata": {},
   "source": [
    "### save dataframe to file"
   ]
  },
  {
   "cell_type": "code",
   "execution_count": 29,
   "id": "a8801eeb",
   "metadata": {},
   "outputs": [],
   "source": [
    "df.write \\\n",
    "  .option( 'header' , 'true' ) \\\n",
    "  .csv( '/home/art/data/output/df.csv' )"
   ]
  },
  {
   "cell_type": "code",
   "execution_count": 30,
   "id": "3f5a463a",
   "metadata": {},
   "outputs": [],
   "source": [
    "df.write \\\n",
    "  .json( '/home/art/data/output/df.json' )"
   ]
  },
  {
   "cell_type": "code",
   "execution_count": 31,
   "id": "90fab4cf",
   "metadata": {},
   "outputs": [],
   "source": [
    "#df.show()"
   ]
  },
  {
   "cell_type": "code",
   "execution_count": 32,
   "id": "46ee94c5",
   "metadata": {},
   "outputs": [],
   "source": [
    "# if dataframe has 1 column, then you can write to text file\n",
    "# else, it will throw error\n",
    "\n",
    "df_03.write.text( '/home/art/data/output/stations.txt' )\n",
    "\n"
   ]
  },
  {
   "cell_type": "code",
   "execution_count": 33,
   "id": "074968bc",
   "metadata": {},
   "outputs": [],
   "source": [
    "df.write            \\\n",
    "  .format( 'avro' ) \\\n",
    "  .save( '/home/art/data/output/df.avro' )"
   ]
  },
  {
   "cell_type": "code",
   "execution_count": 34,
   "id": "e5d9fecb",
   "metadata": {},
   "outputs": [
    {
     "name": "stderr",
     "output_type": "stream",
     "text": [
      "                                                                                \r"
     ]
    }
   ],
   "source": [
    "df.write \\\n",
    "  .parquet( '/home/art/data/output/df.parquet' )"
   ]
  },
  {
   "cell_type": "code",
   "execution_count": null,
   "id": "b05e6ba6",
   "metadata": {},
   "outputs": [],
   "source": []
  },
  {
   "cell_type": "markdown",
   "id": "ffaa9772",
   "metadata": {},
   "source": [
    "### links"
   ]
  },
  {
   "cell_type": "markdown",
   "id": "90d73e2e",
   "metadata": {},
   "source": [
    "How to run pyspark from jupyter\n",
    "\n",
    "* https://medium.com/sicara/get-started-pyspark-jupyter-guide-tutorial-ae2fe84f594f"
   ]
  },
  {
   "cell_type": "markdown",
   "id": "3f37cb67",
   "metadata": {},
   "source": [
    "Course examples\n",
    "\n",
    "* https://github.com/rudrasingh21/Spark-By-Janani-Ravi/tree/master"
   ]
  },
  {
   "cell_type": "code",
   "execution_count": null,
   "id": "f790fe3f",
   "metadata": {},
   "outputs": [],
   "source": []
  }
 ],
 "metadata": {
  "kernelspec": {
   "display_name": "Python 3 (ipykernel)",
   "language": "python",
   "name": "python3"
  },
  "language_info": {
   "codemirror_mode": {
    "name": "ipython",
    "version": 3
   },
   "file_extension": ".py",
   "mimetype": "text/x-python",
   "name": "python",
   "nbconvert_exporter": "python",
   "pygments_lexer": "ipython3",
   "version": "3.10.11"
  }
 },
 "nbformat": 4,
 "nbformat_minor": 5
}
