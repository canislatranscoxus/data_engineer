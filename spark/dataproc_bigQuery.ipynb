{
 "cells": [
  {
   "cell_type": "markdown",
   "id": "7ba9b8e8",
   "metadata": {},
   "source": [
    "# Dataproc - BigQuery\n",
    "\n",
    "Read and write to BigQuery\n"
   ]
  },
  {
   "cell_type": "code",
   "execution_count": null,
   "id": "91d63d60",
   "metadata": {},
   "outputs": [],
   "source": [
    "#!/usr/bin/env python\n",
    "\n",
    "\"\"\"BigQuery I/O PySpark example.\"\"\"\n",
    "\n",
    "from pyspark.sql import SparkSession\n",
    "\n",
    "spark = SparkSession \\\n",
    "  .builder \\\n",
    "  .master('yarn') \\\n",
    "  .appName('spark-bigquery-demo') \\\n",
    "  .getOrCreate()\n",
    "\n",
    "# Use the Cloud Storage bucket for temporary BigQuery export data used\n",
    "# by the connector.\n",
    "bucket = \"[bucket]\"\n",
    "spark.conf.set('temporaryGcsBucket', bucket)\n",
    "\n",
    "# Load data from BigQuery.\n",
    "words = spark.read.format('bigquery') \\\n",
    "  .option('table', 'bigquery-public-data:samples.shakespeare') \\\n",
    "  .load()\n",
    "words.createOrReplaceTempView('words')\n",
    "\n",
    "# Perform word count.\n",
    "word_count = spark.sql(\n",
    "    'SELECT word, SUM(word_count) AS word_count FROM words GROUP BY word')\n",
    "word_count.show()\n",
    "word_count.printSchema()\n",
    "\n",
    "# Save the data to BigQuery\n",
    "word_count.write.format('bigquery') \\\n",
    "  .option('table', 'wordcount_dataset.wordcount_output') \\\n",
    "  .save()"
   ]
  },
  {
   "cell_type": "code",
   "execution_count": null,
   "id": "d2f606bb",
   "metadata": {},
   "outputs": [],
   "source": []
  },
  {
   "cell_type": "markdown",
   "id": "d96a77b4",
   "metadata": {},
   "source": [
    "### how to write to BigQuery"
   ]
  },
  {
   "cell_type": "code",
   "execution_count": null,
   "id": "6e07e852",
   "metadata": {},
   "outputs": [],
   "source": [
    "(df\n",
    " .write\n",
    " .format( 'bigquery' )\n",
    " .option( 'table', 'my_dataset.my_table_name' )\n",
    ")"
   ]
  },
  {
   "cell_type": "markdown",
   "id": "f970d947",
   "metadata": {},
   "source": [
    "### how to submit job in dataproc"
   ]
  },
  {
   "cell_type": "markdown",
   "id": "ba5d283b",
   "metadata": {},
   "source": [
    "specify Scala and Connector version"
   ]
  },
  {
   "cell_type": "markdown",
   "id": "4944dc8a",
   "metadata": {},
   "source": [
    "gs://spark-lib/bigquery/spark-bigquery-with-dependencies_SCALA_VERSION-CONNECTOR_VERSION.jar"
   ]
  },
  {
   "cell_type": "markdown",
   "id": "4ddbb28b",
   "metadata": {},
   "source": [
    "example:"
   ]
  },
  {
   "cell_type": "code",
   "execution_count": null,
   "id": "120c9969",
   "metadata": {},
   "outputs": [],
   "source": [
    "gcloud dataproc jobs submit spark \\\n",
    "    --jars=gs://spark-lib/bigquery/spark-bigquery-with-dependencies_2.12-0.23.2.jar \\\n",
    "    -- job-args"
   ]
  },
  {
   "cell_type": "markdown",
   "id": "a00d3463",
   "metadata": {},
   "source": [
    "or the latest version for non production"
   ]
  },
  {
   "cell_type": "code",
   "execution_count": null,
   "id": "a663960c",
   "metadata": {},
   "outputs": [],
   "source": [
    "gcloud dataproc jobs submit pyspark wordcount.py \\\n",
    "    --cluster=cluster-name \\\n",
    "    --region=region \\\n",
    "    --jars=gs://spark-lib/bigquery/spark-bigquery-latest.jar"
   ]
  },
  {
   "cell_type": "markdown",
   "id": "aaeb6982",
   "metadata": {},
   "source": [
    "### links"
   ]
  },
  {
   "cell_type": "markdown",
   "id": "16db47c3",
   "metadata": {},
   "source": [
    "* Use the BigQuery connector with Spark\n",
    "\n",
    "https://cloud.google.com/dataproc/docs/tutorials/bigquery-connector-spark-example#pyspark\n",
    "    \n",
    "\n",
    "* GCP Public datasets\n",
    "\n",
    "https://cloud.google.com/bigquery/public-data    \n",
    "\n"
   ]
  },
  {
   "cell_type": "code",
   "execution_count": null,
   "id": "09a9afbf",
   "metadata": {},
   "outputs": [],
   "source": []
  }
 ],
 "metadata": {
  "kernelspec": {
   "display_name": "Python 3 (ipykernel)",
   "language": "python",
   "name": "python3"
  },
  "language_info": {
   "codemirror_mode": {
    "name": "ipython",
    "version": 3
   },
   "file_extension": ".py",
   "mimetype": "text/x-python",
   "name": "python",
   "nbconvert_exporter": "python",
   "pygments_lexer": "ipython3",
   "version": "3.10.11"
  }
 },
 "nbformat": 4,
 "nbformat_minor": 5
}
