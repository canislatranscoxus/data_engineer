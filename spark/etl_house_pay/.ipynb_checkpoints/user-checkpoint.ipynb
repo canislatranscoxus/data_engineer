{
 "cells": [
  {
   "cell_type": "markdown",
   "id": "907f99cb",
   "metadata": {},
   "source": [
    "# ETL - user dataset"
   ]
  },
  {
   "cell_type": "markdown",
   "id": "7dff8a0b",
   "metadata": {},
   "source": [
    "###  import libraries"
   ]
  },
  {
   "cell_type": "code",
   "execution_count": 1,
   "id": "929e2092",
   "metadata": {},
   "outputs": [],
   "source": [
    "import findspark\n",
    "findspark.init()"
   ]
  },
  {
   "cell_type": "code",
   "execution_count": 2,
   "id": "ae3b3aa2",
   "metadata": {},
   "outputs": [],
   "source": [
    "import sys\n",
    "from IPython.display         import display, HTML\n",
    "from platform                import python_version\n",
    "\n",
    "import pyspark\n",
    "import pyspark.sql.functions as f\n",
    "\n",
    "from   pyspark.sql           import SparkSession\n",
    "from   pyspark.sql.functions import col, explode, regexp_replace, udf\n",
    "from   pyspark.sql.types     import Row, IntegerType, LongType ,StringType, ArrayType\n",
    "\n",
    "\n",
    "\n"
   ]
  },
  {
   "cell_type": "markdown",
   "id": "29815f40",
   "metadata": {},
   "source": [
    "### version"
   ]
  },
  {
   "cell_type": "code",
   "execution_count": 3,
   "id": "69d71129",
   "metadata": {},
   "outputs": [
    {
     "data": {
      "text/plain": [
       "'3.10.11'"
      ]
     },
     "execution_count": 3,
     "metadata": {},
     "output_type": "execute_result"
    }
   ],
   "source": [
    "python_version()"
   ]
  },
  {
   "cell_type": "code",
   "execution_count": 4,
   "id": "31ba7342",
   "metadata": {},
   "outputs": [
    {
     "data": {
      "text/plain": [
       "'/home/art/git/data_engineer/venv/bin/python'"
      ]
     },
     "execution_count": 4,
     "metadata": {},
     "output_type": "execute_result"
    }
   ],
   "source": [
    "sys.executable"
   ]
  },
  {
   "cell_type": "code",
   "execution_count": 5,
   "id": "b65efb51",
   "metadata": {},
   "outputs": [
    {
     "data": {
      "text/plain": [
       "'3.4.0'"
      ]
     },
     "execution_count": 5,
     "metadata": {},
     "output_type": "execute_result"
    }
   ],
   "source": [
    "pyspark.__version__"
   ]
  },
  {
   "cell_type": "code",
   "execution_count": 6,
   "id": "a11508b3",
   "metadata": {},
   "outputs": [
    {
     "name": "stdout",
     "output_type": "stream",
     "text": [
      "Selected Jupyter core packages...\n",
      "IPython          : 8.14.0\n",
      "ipykernel        : 6.23.1\n",
      "ipywidgets       : 8.0.6\n",
      "jupyter_client   : 8.2.0\n",
      "jupyter_core     : 5.3.0\n",
      "jupyter_server   : 2.6.0\n",
      "jupyterlab       : not installed\n",
      "nbclient         : 0.8.0\n",
      "nbconvert        : 7.4.0\n",
      "nbformat         : 5.9.0\n",
      "notebook         : 6.5.4\n",
      "qtconsole        : 5.4.3\n",
      "traitlets        : 5.9.0\n"
     ]
    }
   ],
   "source": [
    "!jupyter --version"
   ]
  },
  {
   "cell_type": "markdown",
   "id": "749f61e2",
   "metadata": {},
   "source": [
    "### load data"
   ]
  },
  {
   "cell_type": "code",
   "execution_count": 19,
   "id": "f5cba954",
   "metadata": {},
   "outputs": [],
   "source": [
    "in_path  = '/home/art/data/hpay/in/user.csv'\n",
    "out_path = '/home/art/data/hpay/out/user'"
   ]
  },
  {
   "cell_type": "code",
   "execution_count": 20,
   "id": "2d4f8b1c",
   "metadata": {},
   "outputs": [],
   "source": [
    "spark = (SparkSession\n",
    "         .builder\n",
    "         .appName( 'user_house_pay' )\n",
    "         .getOrCreate()\n",
    "        )"
   ]
  },
  {
   "cell_type": "code",
   "execution_count": 25,
   "id": "280b9b62",
   "metadata": {},
   "outputs": [],
   "source": [
    "df = (spark\n",
    "      .read\n",
    "      .options( header= True, inferSchema = True, delimiter = ',' )\n",
    "      .csv( in_path ))"
   ]
  },
  {
   "cell_type": "code",
   "execution_count": 26,
   "id": "980bdfe3",
   "metadata": {},
   "outputs": [
    {
     "name": "stdout",
     "output_type": "stream",
     "text": [
      "root\n",
      " |-- user_id: integer (nullable = true)\n",
      " |-- first_name: string (nullable = true)\n",
      " |-- last_name: string (nullable = true)\n",
      " |-- sex: string (nullable = true)\n",
      " |-- cel: string (nullable = true)\n",
      " |-- email: string (nullable = true)\n",
      "\n"
     ]
    }
   ],
   "source": [
    "df.printSchema()"
   ]
  },
  {
   "cell_type": "code",
   "execution_count": 27,
   "id": "dc5d1841",
   "metadata": {},
   "outputs": [
    {
     "name": "stdout",
     "output_type": "stream",
     "text": [
      "+-------+----------+---------+------+------------+------------------+\n",
      "|user_id|first_name|last_name|   sex|         cel|             email|\n",
      "+-------+----------+---------+------+------------+------------------+\n",
      "|      1|    mickey|    mouse|  male|11 1111 1111| mickey@disney.com|\n",
      "|      2|    Minnie|    Mouse|female|22 2222 2222| Minnie@disney.com|\n",
      "|      3|    Donald|     Duck|  male|33 3333 3333| Donald@disney.com|\n",
      "|      4|     daisY|     duck|female|44 4444 4444|  daisY@disney.com|\n",
      "|      5|   aladdin|      ali|  male|55 5555 5555|aladdin@disney.com|\n",
      "|      6|    jazmin|   bagdad|female|66 6666 6666| jazmin@disney.com|\n",
      "|      7|     mulan|   gun fu|female|77 7777 7777|  mulan@disney.com|\n",
      "|      8|      jack|  sparrow|  male|88 8888 8888|   jack@disney.com|\n",
      "|      9|    merida|    brave|female|99 9999 9999| merida@disney.com|\n",
      "|   null|      xxxx|     null|  null|        null|              null|\n",
      "|   null|      yyyy|     null|  null|        null|              null|\n",
      "|   null|      zzzz|     null|  null|        null|              null|\n",
      "+-------+----------+---------+------+------------+------------------+\n",
      "\n"
     ]
    }
   ],
   "source": [
    "df.show()"
   ]
  },
  {
   "cell_type": "markdown",
   "id": "bdaf8542",
   "metadata": {},
   "source": [
    "### Transform. Clean"
   ]
  },
  {
   "cell_type": "code",
   "execution_count": 33,
   "id": "e4b95133",
   "metadata": {},
   "outputs": [
    {
     "name": "stdout",
     "output_type": "stream",
     "text": [
      "+-------+----------+---------+------+------------+------------------+\n",
      "|user_id|first_name|last_name|   sex|         cel|             email|\n",
      "+-------+----------+---------+------+------------+------------------+\n",
      "|      1|    mickey|    mouse|  male|11 1111 1111| mickey@disney.com|\n",
      "|      2|    Minnie|    Mouse|female|22 2222 2222| Minnie@disney.com|\n",
      "|      3|    Donald|     Duck|  male|33 3333 3333| Donald@disney.com|\n",
      "|      4|     daisY|     duck|female|44 4444 4444|  daisY@disney.com|\n",
      "|      5|   aladdin|      ali|  male|55 5555 5555|aladdin@disney.com|\n",
      "|      6|    jazmin|   bagdad|female|66 6666 6666| jazmin@disney.com|\n",
      "|      7|     mulan|   gun fu|female|77 7777 7777|  mulan@disney.com|\n",
      "|      8|      jack|  sparrow|  male|88 8888 8888|   jack@disney.com|\n",
      "|      9|    merida|    brave|female|99 9999 9999| merida@disney.com|\n",
      "+-------+----------+---------+------+------------+------------------+\n",
      "\n"
     ]
    }
   ],
   "source": [
    "# remove garbage\n",
    "\n",
    "df = (df\n",
    "      .filter( df.user_id.isNotNull() )\n",
    "     )\n",
    "\n",
    "df.show()"
   ]
  },
  {
   "cell_type": "code",
   "execution_count": 34,
   "id": "463a2a60",
   "metadata": {},
   "outputs": [],
   "source": [
    "# replace sex values\n",
    "# 0 = female\n",
    "# 1 = male\n",
    "\n",
    "df = (df\n",
    "       .withColumn( 'sex',  regexp_replace( 'sex', 'female', '0' )  )\n",
    "       .withColumn( 'sex',  regexp_replace( 'sex', 'male'  , '1' )  )\n",
    "      )"
   ]
  },
  {
   "cell_type": "code",
   "execution_count": 35,
   "id": "37aa9265",
   "metadata": {},
   "outputs": [
    {
     "name": "stdout",
     "output_type": "stream",
     "text": [
      "+-------+----------+---------+---+------------+------------------+\n",
      "|user_id|first_name|last_name|sex|         cel|             email|\n",
      "+-------+----------+---------+---+------------+------------------+\n",
      "|      1|    mickey|    mouse|  1|11 1111 1111| mickey@disney.com|\n",
      "|      2|    Minnie|    Mouse|  0|22 2222 2222| Minnie@disney.com|\n",
      "|      3|    Donald|     Duck|  1|33 3333 3333| Donald@disney.com|\n",
      "|      4|     daisY|     duck|  0|44 4444 4444|  daisY@disney.com|\n",
      "|      5|   aladdin|      ali|  1|55 5555 5555|aladdin@disney.com|\n",
      "|      6|    jazmin|   bagdad|  0|66 6666 6666| jazmin@disney.com|\n",
      "|      7|     mulan|   gun fu|  0|77 7777 7777|  mulan@disney.com|\n",
      "|      8|      jack|  sparrow|  1|88 8888 8888|   jack@disney.com|\n",
      "|      9|    merida|    brave|  0|99 9999 9999| merida@disney.com|\n",
      "+-------+----------+---------+---+------------+------------------+\n",
      "\n"
     ]
    }
   ],
   "source": [
    "df.show()"
   ]
  },
  {
   "cell_type": "code",
   "execution_count": 36,
   "id": "adc6f81a",
   "metadata": {},
   "outputs": [],
   "source": [
    "df = df.withColumn( 'sex',  df.sex.cast( 'integer' )  )"
   ]
  },
  {
   "cell_type": "code",
   "execution_count": 37,
   "id": "baefd86b",
   "metadata": {},
   "outputs": [
    {
     "name": "stdout",
     "output_type": "stream",
     "text": [
      "root\n",
      " |-- user_id: integer (nullable = true)\n",
      " |-- first_name: string (nullable = true)\n",
      " |-- last_name: string (nullable = true)\n",
      " |-- sex: integer (nullable = true)\n",
      " |-- cel: string (nullable = true)\n",
      " |-- email: string (nullable = true)\n",
      "\n",
      "+-------+----------+---------+---+------------+------------------+\n",
      "|user_id|first_name|last_name|sex|         cel|             email|\n",
      "+-------+----------+---------+---+------------+------------------+\n",
      "|      1|    mickey|    mouse|  1|11 1111 1111| mickey@disney.com|\n",
      "|      2|    Minnie|    Mouse|  0|22 2222 2222| Minnie@disney.com|\n",
      "|      3|    Donald|     Duck|  1|33 3333 3333| Donald@disney.com|\n",
      "|      4|     daisY|     duck|  0|44 4444 4444|  daisY@disney.com|\n",
      "|      5|   aladdin|      ali|  1|55 5555 5555|aladdin@disney.com|\n",
      "|      6|    jazmin|   bagdad|  0|66 6666 6666| jazmin@disney.com|\n",
      "|      7|     mulan|   gun fu|  0|77 7777 7777|  mulan@disney.com|\n",
      "|      8|      jack|  sparrow|  1|88 8888 8888|   jack@disney.com|\n",
      "|      9|    merida|    brave|  0|99 9999 9999| merida@disney.com|\n",
      "+-------+----------+---------+---+------------+------------------+\n",
      "\n"
     ]
    }
   ],
   "source": [
    "df.printSchema()\n",
    "df.show()"
   ]
  },
  {
   "cell_type": "code",
   "execution_count": 38,
   "id": "b2ad4304",
   "metadata": {},
   "outputs": [
    {
     "name": "stdout",
     "output_type": "stream",
     "text": [
      "+-------+----------+---------+---+----------+------------------+\n",
      "|user_id|first_name|last_name|sex|       cel|             email|\n",
      "+-------+----------+---------+---+----------+------------------+\n",
      "|      1|    mickey|    mouse|  1|1111111111| mickey@disney.com|\n",
      "|      2|    Minnie|    Mouse|  0|2222222222| Minnie@disney.com|\n",
      "|      3|    Donald|     Duck|  1|3333333333| Donald@disney.com|\n",
      "|      4|     daisY|     duck|  0|4444444444|  daisY@disney.com|\n",
      "|      5|   aladdin|      ali|  1|5555555555|aladdin@disney.com|\n",
      "|      6|    jazmin|   bagdad|  0|6666666666| jazmin@disney.com|\n",
      "|      7|     mulan|   gun fu|  0|7777777777|  mulan@disney.com|\n",
      "|      8|      jack|  sparrow|  1|8888888888|   jack@disney.com|\n",
      "|      9|    merida|    brave|  0|9999999999| merida@disney.com|\n",
      "+-------+----------+---------+---+----------+------------------+\n",
      "\n"
     ]
    }
   ],
   "source": [
    "# remove white space in cel\n",
    "\n",
    "df = (df\n",
    "      .withColumn( 'cel', regexp_replace( 'cel', ' ', '' )  )\n",
    "     )\n",
    "df.show()"
   ]
  },
  {
   "cell_type": "code",
   "execution_count": 39,
   "id": "3f40d52e",
   "metadata": {},
   "outputs": [
    {
     "name": "stdout",
     "output_type": "stream",
     "text": [
      "+-------+----------+---------+---+----------+------------------+\n",
      "|user_id|first_name|last_name|sex|       cel|             email|\n",
      "+-------+----------+---------+---+----------+------------------+\n",
      "|      1|    MICKEY|    MOUSE|  1|1111111111| mickey@disney.com|\n",
      "|      2|    MINNIE|    MOUSE|  0|2222222222| minnie@disney.com|\n",
      "|      3|    DONALD|     DUCK|  1|3333333333| donald@disney.com|\n",
      "|      4|     DAISY|     DUCK|  0|4444444444|  daisy@disney.com|\n",
      "|      5|   ALADDIN|      ALI|  1|5555555555|aladdin@disney.com|\n",
      "|      6|    JAZMIN|   BAGDAD|  0|6666666666| jazmin@disney.com|\n",
      "|      7|     MULAN|   GUN FU|  0|7777777777|  mulan@disney.com|\n",
      "|      8|      JACK|  SPARROW|  1|8888888888|   jack@disney.com|\n",
      "|      9|    MERIDA|    BRAVE|  0|9999999999| merida@disney.com|\n",
      "+-------+----------+---------+---+----------+------------------+\n",
      "\n"
     ]
    }
   ],
   "source": [
    "# convert to uppercase first_name and last_name.\n",
    "# convert to lowercase email\n",
    "df = (df\n",
    "      .withColumn( 'first_name', f.upper( 'first_name' ) )\n",
    "      .withColumn( 'last_name' , f.upper( 'last_name'  ) )\n",
    "      .withColumn( 'email'     , f.lower( 'email'      ) )\n",
    "     )\n",
    "\n",
    "df.show()"
   ]
  },
  {
   "cell_type": "markdown",
   "id": "f5ebe9fc",
   "metadata": {},
   "source": [
    "### Load clean data to DataLake"
   ]
  },
  {
   "cell_type": "code",
   "execution_count": 40,
   "id": "512aac7f",
   "metadata": {},
   "outputs": [],
   "source": [
    "(df\n",
    " .write\n",
    " .option( 'header' , True )\n",
    " .csv( out_path )\n",
    ")\n"
   ]
  },
  {
   "cell_type": "code",
   "execution_count": 41,
   "id": "baaf089b",
   "metadata": {},
   "outputs": [
    {
     "name": "stdout",
     "output_type": "stream",
     "text": [
      "check your file in the next folder: \n",
      " /home/art/data/hpay/out/user\n"
     ]
    }
   ],
   "source": [
    "print( 'check your file in the next folder: \\n {}'.format( out_path ) )"
   ]
  },
  {
   "cell_type": "code",
   "execution_count": 47,
   "id": "c22892c3",
   "metadata": {},
   "outputs": [
    {
     "data": {
      "text/html": [
       "<div>\n",
       "<style scoped>\n",
       "    .dataframe tbody tr th:only-of-type {\n",
       "        vertical-align: middle;\n",
       "    }\n",
       "\n",
       "    .dataframe tbody tr th {\n",
       "        vertical-align: top;\n",
       "    }\n",
       "\n",
       "    .dataframe thead th {\n",
       "        text-align: right;\n",
       "    }\n",
       "</style>\n",
       "<table border=\"1\" class=\"dataframe\">\n",
       "  <thead>\n",
       "    <tr style=\"text-align: right;\">\n",
       "      <th></th>\n",
       "      <th>user_id</th>\n",
       "      <th>first_name</th>\n",
       "      <th>last_name</th>\n",
       "      <th>sex</th>\n",
       "      <th>cel</th>\n",
       "      <th>email</th>\n",
       "    </tr>\n",
       "  </thead>\n",
       "  <tbody>\n",
       "    <tr>\n",
       "      <th>0</th>\n",
       "      <td>1</td>\n",
       "      <td>MICKEY</td>\n",
       "      <td>MOUSE</td>\n",
       "      <td>1</td>\n",
       "      <td>1111111111</td>\n",
       "      <td>mickey@disney.com</td>\n",
       "    </tr>\n",
       "    <tr>\n",
       "      <th>1</th>\n",
       "      <td>2</td>\n",
       "      <td>MINNIE</td>\n",
       "      <td>MOUSE</td>\n",
       "      <td>0</td>\n",
       "      <td>2222222222</td>\n",
       "      <td>minnie@disney.com</td>\n",
       "    </tr>\n",
       "    <tr>\n",
       "      <th>2</th>\n",
       "      <td>3</td>\n",
       "      <td>DONALD</td>\n",
       "      <td>DUCK</td>\n",
       "      <td>1</td>\n",
       "      <td>3333333333</td>\n",
       "      <td>donald@disney.com</td>\n",
       "    </tr>\n",
       "    <tr>\n",
       "      <th>3</th>\n",
       "      <td>4</td>\n",
       "      <td>DAISY</td>\n",
       "      <td>DUCK</td>\n",
       "      <td>0</td>\n",
       "      <td>4444444444</td>\n",
       "      <td>daisy@disney.com</td>\n",
       "    </tr>\n",
       "    <tr>\n",
       "      <th>4</th>\n",
       "      <td>5</td>\n",
       "      <td>ALADDIN</td>\n",
       "      <td>ALI</td>\n",
       "      <td>1</td>\n",
       "      <td>5555555555</td>\n",
       "      <td>aladdin@disney.com</td>\n",
       "    </tr>\n",
       "    <tr>\n",
       "      <th>5</th>\n",
       "      <td>6</td>\n",
       "      <td>JAZMIN</td>\n",
       "      <td>BAGDAD</td>\n",
       "      <td>0</td>\n",
       "      <td>6666666666</td>\n",
       "      <td>jazmin@disney.com</td>\n",
       "    </tr>\n",
       "    <tr>\n",
       "      <th>6</th>\n",
       "      <td>7</td>\n",
       "      <td>MULAN</td>\n",
       "      <td>GUN FU</td>\n",
       "      <td>0</td>\n",
       "      <td>7777777777</td>\n",
       "      <td>mulan@disney.com</td>\n",
       "    </tr>\n",
       "    <tr>\n",
       "      <th>7</th>\n",
       "      <td>8</td>\n",
       "      <td>JACK</td>\n",
       "      <td>SPARROW</td>\n",
       "      <td>1</td>\n",
       "      <td>8888888888</td>\n",
       "      <td>jack@disney.com</td>\n",
       "    </tr>\n",
       "    <tr>\n",
       "      <th>8</th>\n",
       "      <td>9</td>\n",
       "      <td>MERIDA</td>\n",
       "      <td>BRAVE</td>\n",
       "      <td>0</td>\n",
       "      <td>9999999999</td>\n",
       "      <td>merida@disney.com</td>\n",
       "    </tr>\n",
       "  </tbody>\n",
       "</table>\n",
       "</div>"
      ],
      "text/plain": [
       "   user_id first_name last_name  sex         cel               email\n",
       "0        1     MICKEY     MOUSE    1  1111111111   mickey@disney.com\n",
       "1        2     MINNIE     MOUSE    0  2222222222   minnie@disney.com\n",
       "2        3     DONALD      DUCK    1  3333333333   donald@disney.com\n",
       "3        4      DAISY      DUCK    0  4444444444    daisy@disney.com\n",
       "4        5    ALADDIN       ALI    1  5555555555  aladdin@disney.com\n",
       "5        6     JAZMIN    BAGDAD    0  6666666666   jazmin@disney.com\n",
       "6        7      MULAN    GUN FU    0  7777777777    mulan@disney.com\n",
       "7        8       JACK   SPARROW    1  8888888888     jack@disney.com\n",
       "8        9     MERIDA     BRAVE    0  9999999999   merida@disney.com"
      ]
     },
     "execution_count": 47,
     "metadata": {},
     "output_type": "execute_result"
    }
   ],
   "source": [
    "df.toPandas()"
   ]
  },
  {
   "cell_type": "code",
   "execution_count": null,
   "id": "9d6165af",
   "metadata": {},
   "outputs": [],
   "source": []
  }
 ],
 "metadata": {
  "kernelspec": {
   "display_name": "Python 3 (ipykernel)",
   "language": "python",
   "name": "python3"
  },
  "language_info": {
   "codemirror_mode": {
    "name": "ipython",
    "version": 3
   },
   "file_extension": ".py",
   "mimetype": "text/x-python",
   "name": "python",
   "nbconvert_exporter": "python",
   "pygments_lexer": "ipython3",
   "version": "3.10.11"
  }
 },
 "nbformat": 4,
 "nbformat_minor": 5
}
