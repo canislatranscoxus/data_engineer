{
 "cells": [
  {
   "cell_type": "markdown",
   "id": "6e5f5bab",
   "metadata": {},
   "source": [
    "# Year Creadenial ETL"
   ]
  },
  {
   "cell_type": "markdown",
   "id": "f8713b97",
   "metadata": {},
   "source": [
    "## pysprk"
   ]
  },
  {
   "cell_type": "markdown",
   "id": "62fbbb3a",
   "metadata": {},
   "source": [
    "Here we make an ETL to load data from year_credential, make some transformations, and Load into Data Lake."
   ]
  },
  {
   "cell_type": "markdown",
   "id": "8c477f17",
   "metadata": {},
   "source": [
    "### import libraries"
   ]
  },
  {
   "cell_type": "code",
   "execution_count": 7,
   "id": "29f70729",
   "metadata": {},
   "outputs": [],
   "source": [
    "import sys\n",
    "from platform import python_version\n",
    "\n",
    "import findspark\n",
    "findspark.init()"
   ]
  },
  {
   "cell_type": "code",
   "execution_count": 8,
   "id": "76aac050",
   "metadata": {},
   "outputs": [],
   "source": [
    "import pyspark\n",
    "import pyspark.sql.functions as f\n",
    "\n",
    "from pyspark.sql           import SparkSession\n",
    "from pyspark.sql.functions import col, explode, regexp_replace, udf\n",
    "from pyspark.sql.types     import Row, ArrayType, IntegerType, LongType, StringType"
   ]
  },
  {
   "cell_type": "markdown",
   "id": "da831e27",
   "metadata": {},
   "source": [
    "### create spark session"
   ]
  },
  {
   "cell_type": "code",
   "execution_count": 9,
   "id": "0008c595",
   "metadata": {},
   "outputs": [
    {
     "name": "stderr",
     "output_type": "stream",
     "text": [
      "Setting default log level to \"WARN\".\n",
      "To adjust logging level use sc.setLogLevel(newLevel). For SparkR, use setLogLevel(newLevel).\n",
      "24/03/06 11:50:59 WARN NativeCodeLoader: Unable to load native-hadoop library for your platform... using builtin-java classes where applicable\n",
      "24/03/06 11:51:00 WARN Utils: Service 'SparkUI' could not bind on port 4040. Attempting port 4041.\n",
      "24/03/06 11:51:00 WARN Utils: Service 'SparkUI' could not bind on port 4041. Attempting port 4042.\n",
      "24/03/06 11:51:00 WARN Utils: Service 'SparkUI' could not bind on port 4042. Attempting port 4043.\n"
     ]
    }
   ],
   "source": [
    "spark = (SparkSession\n",
    "         .builder\n",
    "         .appName( 'House_credentials_hpay' )\n",
    "         .getOrCreate()\n",
    "        )"
   ]
  },
  {
   "cell_type": "markdown",
   "id": "0e40e86f",
   "metadata": {},
   "source": [
    "### Load data"
   ]
  },
  {
   "cell_type": "code",
   "execution_count": 10,
   "id": "992deccc",
   "metadata": {},
   "outputs": [],
   "source": [
    "in_path  = '/home/art/data/hpay/in/year_credential.csv'\n",
    "out_path = '/home/art/data/hpay/out/year_credential'"
   ]
  },
  {
   "cell_type": "code",
   "execution_count": 11,
   "id": "5d7a76b4",
   "metadata": {},
   "outputs": [
    {
     "name": "stdout",
     "output_type": "stream",
     "text": [
      "+--------+----+---+---+---+---+---+---+---+---+---+---+---+---+\n",
      "|house_id|year|m01|m02|m03|m04|m05|m06|m07|m08|m09|m10|m11|m12|\n",
      "+--------+----+---+---+---+---+---+---+---+---+---+---+---+---+\n",
      "| 100pino|2024|  1|  1|  0|  0|  0|  0|  0|  0|  0|  0|  0|  0|\n",
      "| 101pino|2024|  1|  1|  0|  0|  0|  0|  0|  0|  0|  0|  0|  0|\n",
      "| 102pino|2024|  1|  1|  0|  0|  0|  0|  0|  0|  0|  0|  0|  0|\n",
      "| 200caob|2024|  1|  0|  0|  0|  0|  0|  0|  0|  0|  0|  0|  0|\n",
      "| 201caob|2024|  1|  0|  0|  0|  0|  0|  0|  0|  0|  0|  0|  0|\n",
      "| 202caob|2024|  1|  0|  0|  0|  0|  0|  0|  0|  0|  0|  0|  0|\n",
      "| 100abed|2024|  1|  0|  0|  0|  0|  0|  0|  0|  0|  0|  0|  0|\n",
      "| 101abed|2024|  0|  0|  0|  0|  0|  0|  0|  0|  0|  0|  0|  0|\n",
      "| 102abed|2024|  1|  0|  0|  0|  0|  0|  0|  0|  0|  0|  0|  0|\n",
      "+--------+----+---+---+---+---+---+---+---+---+---+---+---+---+\n",
      "\n"
     ]
    }
   ],
   "source": [
    "df = (spark\n",
    "      .read\n",
    "      .options( header = True, inferSchema = True, delimiter = ',' )\n",
    "      .csv( in_path )\n",
    "     )\n",
    "df.show()"
   ]
  },
  {
   "cell_type": "code",
   "execution_count": 12,
   "id": "3bf38576",
   "metadata": {},
   "outputs": [
    {
     "name": "stdout",
     "output_type": "stream",
     "text": [
      "root\n",
      " |-- house_id: string (nullable = true)\n",
      " |-- year: integer (nullable = true)\n",
      " |-- m01: integer (nullable = true)\n",
      " |-- m02: integer (nullable = true)\n",
      " |-- m03: integer (nullable = true)\n",
      " |-- m04: integer (nullable = true)\n",
      " |-- m05: integer (nullable = true)\n",
      " |-- m06: integer (nullable = true)\n",
      " |-- m07: integer (nullable = true)\n",
      " |-- m08: integer (nullable = true)\n",
      " |-- m09: integer (nullable = true)\n",
      " |-- m10: integer (nullable = true)\n",
      " |-- m11: integer (nullable = true)\n",
      " |-- m12: integer (nullable = true)\n",
      "\n"
     ]
    }
   ],
   "source": [
    "df.printSchema()"
   ]
  },
  {
   "cell_type": "markdown",
   "id": "6e2467a4",
   "metadata": {},
   "source": [
    "### Transform"
   ]
  },
  {
   "cell_type": "markdown",
   "id": "d4e87e49",
   "metadata": {},
   "source": [
    "* Convert to upper case the column house_id"
   ]
  },
  {
   "cell_type": "code",
   "execution_count": 13,
   "id": "14d89432",
   "metadata": {},
   "outputs": [],
   "source": [
    "df.createOrReplaceTempView( 'year_credential' )"
   ]
  },
  {
   "cell_type": "code",
   "execution_count": 14,
   "id": "7d96c113",
   "metadata": {},
   "outputs": [],
   "source": [
    "query = '''\n",
    "SELECT\n",
    "  upper( house_id ) as house_id,\n",
    "  year,\n",
    "  m01,\n",
    "  m02,\n",
    "  m03,\n",
    "  m04,\n",
    "  m05,\n",
    "  m06,\n",
    "  m07,\n",
    "  m08,\n",
    "  m09,\n",
    "  m10,\n",
    "  m11,\n",
    "  m12\n",
    "\n",
    "FROM year_credential\n",
    "'''"
   ]
  },
  {
   "cell_type": "code",
   "execution_count": 16,
   "id": "1de84196",
   "metadata": {},
   "outputs": [
    {
     "name": "stdout",
     "output_type": "stream",
     "text": [
      "+--------+----+---+---+---+---+---+---+---+---+---+---+---+---+\n",
      "|house_id|year|m01|m02|m03|m04|m05|m06|m07|m08|m09|m10|m11|m12|\n",
      "+--------+----+---+---+---+---+---+---+---+---+---+---+---+---+\n",
      "| 100PINO|2024|  1|  1|  0|  0|  0|  0|  0|  0|  0|  0|  0|  0|\n",
      "| 101PINO|2024|  1|  1|  0|  0|  0|  0|  0|  0|  0|  0|  0|  0|\n",
      "| 102PINO|2024|  1|  1|  0|  0|  0|  0|  0|  0|  0|  0|  0|  0|\n",
      "| 200CAOB|2024|  1|  0|  0|  0|  0|  0|  0|  0|  0|  0|  0|  0|\n",
      "| 201CAOB|2024|  1|  0|  0|  0|  0|  0|  0|  0|  0|  0|  0|  0|\n",
      "| 202CAOB|2024|  1|  0|  0|  0|  0|  0|  0|  0|  0|  0|  0|  0|\n",
      "| 100ABED|2024|  1|  0|  0|  0|  0|  0|  0|  0|  0|  0|  0|  0|\n",
      "| 101ABED|2024|  0|  0|  0|  0|  0|  0|  0|  0|  0|  0|  0|  0|\n",
      "| 102ABED|2024|  1|  0|  0|  0|  0|  0|  0|  0|  0|  0|  0|  0|\n",
      "+--------+----+---+---+---+---+---+---+---+---+---+---+---+---+\n",
      "\n"
     ]
    }
   ],
   "source": [
    "df = spark.sql( query )\n",
    "df.show()"
   ]
  },
  {
   "cell_type": "markdown",
   "id": "34ae53a8",
   "metadata": {},
   "source": [
    "### Load clean data into Data Lake"
   ]
  },
  {
   "cell_type": "code",
   "execution_count": 17,
   "id": "95fcb5fc",
   "metadata": {},
   "outputs": [],
   "source": [
    "(df\n",
    " .write\n",
    " .option( 'header', True )\n",
    " .csv( out_path )\n",
    ")"
   ]
  },
  {
   "cell_type": "code",
   "execution_count": 18,
   "id": "36ae7aca",
   "metadata": {},
   "outputs": [
    {
     "name": "stdout",
     "output_type": "stream",
     "text": [
      "check your clean data in: /home/art/data/hpay/out/year_credential\n"
     ]
    }
   ],
   "source": [
    "print( 'check your clean data in: {}'.format( out_path ) )"
   ]
  },
  {
   "cell_type": "code",
   "execution_count": null,
   "id": "4db62e69",
   "metadata": {},
   "outputs": [],
   "source": []
  }
 ],
 "metadata": {
  "kernelspec": {
   "display_name": "Python 3 (ipykernel)",
   "language": "python",
   "name": "python3"
  },
  "language_info": {
   "codemirror_mode": {
    "name": "ipython",
    "version": 3
   },
   "file_extension": ".py",
   "mimetype": "text/x-python",
   "name": "python",
   "nbconvert_exporter": "python",
   "pygments_lexer": "ipython3",
   "version": "3.10.11"
  }
 },
 "nbformat": 4,
 "nbformat_minor": 5
}
