{
 "cells": [
  {
   "cell_type": "markdown",
   "id": "a2f8a416",
   "metadata": {},
   "source": [
    "# Airlilines Airports Flights"
   ]
  },
  {
   "cell_type": "code",
   "execution_count": null,
   "id": "c21e856e",
   "metadata": {},
   "outputs": [],
   "source": []
  },
  {
   "cell_type": "code",
   "execution_count": 1,
   "id": "473a7e0c",
   "metadata": {},
   "outputs": [],
   "source": [
    "from IPython.display        import display, HTML\n",
    "\n",
    "import findspark\n",
    "findspark.init()\n",
    "import pyspark\n",
    "\n",
    "#from pyspark.context import SparkContext\n",
    "from pyspark.sql            import SparkSession\n",
    "from pyspark.sql.functions  import col, explode, udf\n",
    "from pyspark.sql.types      import Row, StringType, LongType, ArrayType\n",
    "\n"
   ]
  },
  {
   "cell_type": "code",
   "execution_count": 2,
   "id": "5673a183",
   "metadata": {},
   "outputs": [
    {
     "name": "stderr",
     "output_type": "stream",
     "text": [
      "Setting default log level to \"WARN\".\n",
      "To adjust logging level use sc.setLogLevel(newLevel). For SparkR, use setLogLevel(newLevel).\n",
      "23/06/09 19:56:33 WARN NativeCodeLoader: Unable to load native-hadoop library for your platform... using builtin-java classes where applicable\n"
     ]
    }
   ],
   "source": [
    "spark = SparkSession.builder   \\\n",
    "        .appName( 'airlines' ) \\\n",
    "        .getOrCreate()"
   ]
  },
  {
   "cell_type": "code",
   "execution_count": 3,
   "id": "959dce1c",
   "metadata": {},
   "outputs": [
    {
     "name": "stderr",
     "output_type": "stream",
     "text": [
      "\r",
      "[Stage 0:>                                                          (0 + 1) / 1]\r",
      "\r",
      "                                                                                \r"
     ]
    },
    {
     "name": "stdout",
     "output_type": "stream",
     "text": [
      "+---------+--------------------+\n",
      "|IATA_CODE|             AIRLINE|\n",
      "+---------+--------------------+\n",
      "|       UA|United Air Lines ...|\n",
      "|       AA|American Airlines...|\n",
      "|       US|     US Airways Inc.|\n",
      "|       F9|Frontier Airlines...|\n",
      "|       B6|     JetBlue Airways|\n",
      "|       OO|Skywest Airlines ...|\n",
      "|       AS|Alaska Airlines Inc.|\n",
      "|       NK|    Spirit Air Lines|\n",
      "|       WN|Southwest Airline...|\n",
      "|       DL|Delta Air Lines Inc.|\n",
      "|       EV|Atlantic Southeas...|\n",
      "|       HA|Hawaiian Airlines...|\n",
      "|       MQ|American Eagle Ai...|\n",
      "|       VX|      Virgin America|\n",
      "+---------+--------------------+\n",
      "\n"
     ]
    }
   ],
   "source": [
    "airlines = spark.read   \\\n",
    "           .options( header = True, inferSchema = True, delimiter = ',' ) \\\n",
    "           .csv( '/home/art/data/flights/airlines.csv' )\n",
    "\n",
    "airlines.show()"
   ]
  },
  {
   "cell_type": "code",
   "execution_count": 4,
   "id": "0c720657",
   "metadata": {},
   "outputs": [
    {
     "name": "stdout",
     "output_type": "stream",
     "text": [
      "+---------+--------------------+-------------+-----+-------+--------+----------+\n",
      "|IATA_CODE|             AIRPORT|         CITY|STATE|COUNTRY|LATITUDE| LONGITUDE|\n",
      "+---------+--------------------+-------------+-----+-------+--------+----------+\n",
      "|      ABE|Lehigh Valley Int...|    Allentown|   PA|    USA|40.65236|  -75.4404|\n",
      "|      ABI|Abilene Regional ...|      Abilene|   TX|    USA|32.41132|  -99.6819|\n",
      "|      ABQ|Albuquerque Inter...|  Albuquerque|   NM|    USA|35.04022|-106.60919|\n",
      "|      ABR|Aberdeen Regional...|     Aberdeen|   SD|    USA|45.44906| -98.42183|\n",
      "|      ABY|Southwest Georgia...|       Albany|   GA|    USA|31.53552| -84.19447|\n",
      "|      ACK|Nantucket Memoria...|    Nantucket|   MA|    USA|41.25305| -70.06018|\n",
      "|      ACT|Waco Regional Air...|         Waco|   TX|    USA|31.61129| -97.23052|\n",
      "|      ACV|      Arcata Airport|Arcata/Eureka|   CA|    USA|40.97812|-124.10862|\n",
      "|      ACY|Atlantic City Int...|Atlantic City|   NJ|    USA|39.45758| -74.57717|\n",
      "|      ADK|        Adak Airport|         Adak|   AK|    USA|51.87796|-176.64603|\n",
      "|      ADQ|      Kodiak Airport|       Kodiak|   AK|    USA|57.74997|-152.49386|\n",
      "|      AEX|Alexandria Intern...|   Alexandria|   LA|    USA|31.32737| -92.54856|\n",
      "|      AGS|Augusta Regional ...|      Augusta|   GA|    USA|33.36996|  -81.9645|\n",
      "|      AKN| King Salmon Airport|  King Salmon|   AK|    USA| 58.6768|-156.64922|\n",
      "|      ALB|Albany Internatio...|       Albany|   NY|    USA|42.74812| -73.80298|\n",
      "|      ALO|Waterloo Regional...|     Waterloo|   IA|    USA|42.55708| -92.40034|\n",
      "|      AMA|Rick Husband Amar...|     Amarillo|   TX|    USA|35.21937|-101.70593|\n",
      "|      ANC|Ted Stevens Ancho...|    Anchorage|   AK|    USA|61.17432|-149.99619|\n",
      "|      APN|Alpena County Reg...|       Alpena|   MI|    USA|45.07807| -83.56029|\n",
      "|      ASE|Aspen-Pitkin Coun...|        Aspen|   CO|    USA|39.22316|-106.86885|\n",
      "+---------+--------------------+-------------+-----+-------+--------+----------+\n",
      "only showing top 20 rows\n",
      "\n"
     ]
    }
   ],
   "source": [
    "airports = spark.read \\\n",
    "           .options( header = True, inferSchema = True, delimiter = ',' ) \\\n",
    "           .csv( '/home/art/data/flights/airports.csv' )\n",
    "    \n",
    "airports.show()    "
   ]
  },
  {
   "cell_type": "code",
   "execution_count": 5,
   "id": "b6f00660",
   "metadata": {},
   "outputs": [
    {
     "name": "stderr",
     "output_type": "stream",
     "text": [
      "                                                                                \r"
     ]
    }
   ],
   "source": [
    "flights = spark.read \\\n",
    "        .options( header= True, inferSchema = True, delimiter = ',' ) \\\n",
    "        .csv( '/home/art/data/flights/flights.csv' )\n",
    "    \n",
    "  "
   ]
  },
  {
   "cell_type": "code",
   "execution_count": 6,
   "id": "0a0b901c",
   "metadata": {},
   "outputs": [
    {
     "name": "stdout",
     "output_type": "stream",
     "text": [
      "root\n",
      " |-- YEAR: integer (nullable = true)\n",
      " |-- MONTH: integer (nullable = true)\n",
      " |-- DAY: integer (nullable = true)\n",
      " |-- DAY_OF_WEEK: integer (nullable = true)\n",
      " |-- AIRLINE: string (nullable = true)\n",
      " |-- FLIGHT_NUMBER: integer (nullable = true)\n",
      " |-- TAIL_NUMBER: string (nullable = true)\n",
      " |-- ORIGIN_AIRPORT: string (nullable = true)\n",
      " |-- DESTINATION_AIRPORT: string (nullable = true)\n",
      " |-- SCHEDULED_DEPARTURE: integer (nullable = true)\n",
      " |-- DEPARTURE_TIME: integer (nullable = true)\n",
      " |-- DEPARTURE_DELAY: integer (nullable = true)\n",
      " |-- TAXI_OUT: integer (nullable = true)\n",
      " |-- WHEELS_OFF: integer (nullable = true)\n",
      " |-- SCHEDULED_TIME: integer (nullable = true)\n",
      " |-- ELAPSED_TIME: integer (nullable = true)\n",
      " |-- AIR_TIME: integer (nullable = true)\n",
      " |-- DISTANCE: integer (nullable = true)\n",
      " |-- WHEELS_ON: integer (nullable = true)\n",
      " |-- TAXI_IN: integer (nullable = true)\n",
      " |-- SCHEDULED_ARRIVAL: integer (nullable = true)\n",
      " |-- ARRIVAL_TIME: integer (nullable = true)\n",
      " |-- ARRIVAL_DELAY: integer (nullable = true)\n",
      " |-- DIVERTED: integer (nullable = true)\n",
      " |-- CANCELLED: integer (nullable = true)\n",
      " |-- CANCELLATION_REASON: string (nullable = true)\n",
      " |-- AIR_SYSTEM_DELAY: integer (nullable = true)\n",
      " |-- SECURITY_DELAY: integer (nullable = true)\n",
      " |-- AIRLINE_DELAY: integer (nullable = true)\n",
      " |-- LATE_AIRCRAFT_DELAY: integer (nullable = true)\n",
      " |-- WEATHER_DELAY: integer (nullable = true)\n",
      "\n"
     ]
    }
   ],
   "source": [
    "flights.printSchema()"
   ]
  },
  {
   "cell_type": "code",
   "execution_count": 7,
   "id": "a7bf5409",
   "metadata": {},
   "outputs": [
    {
     "name": "stderr",
     "output_type": "stream",
     "text": [
      "23/06/09 19:58:33 WARN package: Truncated the string representation of a plan since it was too large. This behavior can be adjusted by setting 'spark.sql.debug.maxToStringFields'.\n"
     ]
    },
    {
     "name": "stdout",
     "output_type": "stream",
     "text": [
      "+----+-----+---+-----------+-------+-------------+-----------+--------------+-------------------+-------------------+--------------+---------------+--------+----------+--------------+------------+--------+--------+---------+-------+-----------------+------------+-------------+--------+---------+-------------------+----------------+--------------+-------------+-------------------+-------------+\n",
      "|YEAR|MONTH|DAY|DAY_OF_WEEK|AIRLINE|FLIGHT_NUMBER|TAIL_NUMBER|ORIGIN_AIRPORT|DESTINATION_AIRPORT|SCHEDULED_DEPARTURE|DEPARTURE_TIME|DEPARTURE_DELAY|TAXI_OUT|WHEELS_OFF|SCHEDULED_TIME|ELAPSED_TIME|AIR_TIME|DISTANCE|WHEELS_ON|TAXI_IN|SCHEDULED_ARRIVAL|ARRIVAL_TIME|ARRIVAL_DELAY|DIVERTED|CANCELLED|CANCELLATION_REASON|AIR_SYSTEM_DELAY|SECURITY_DELAY|AIRLINE_DELAY|LATE_AIRCRAFT_DELAY|WEATHER_DELAY|\n",
      "+----+-----+---+-----------+-------+-------------+-----------+--------------+-------------------+-------------------+--------------+---------------+--------+----------+--------------+------------+--------+--------+---------+-------+-----------------+------------+-------------+--------+---------+-------------------+----------------+--------------+-------------+-------------------+-------------+\n",
      "|2015|    1|  1|          4|     AS|           98|     N407AS|           ANC|                SEA|                  5|          2354|            -11|      21|        15|           205|         194|     169|    1448|      404|      4|              430|         408|          -22|       0|        0|               null|            null|          null|         null|               null|         null|\n",
      "|2015|    1|  1|          4|     AA|         2336|     N3KUAA|           LAX|                PBI|                 10|             2|             -8|      12|        14|           280|         279|     263|    2330|      737|      4|              750|         741|           -9|       0|        0|               null|            null|          null|         null|               null|         null|\n",
      "+----+-----+---+-----------+-------+-------------+-----------+--------------+-------------------+-------------------+--------------+---------------+--------+----------+--------------+------------+--------+--------+---------+-------+-----------------+------------+-------------+--------+---------+-------------------+----------------+--------------+-------------+-------------------+-------------+\n",
      "only showing top 2 rows\n",
      "\n"
     ]
    }
   ],
   "source": [
    "flights.show( 2 )  "
   ]
  },
  {
   "cell_type": "code",
   "execution_count": 8,
   "id": "f21198f9",
   "metadata": {},
   "outputs": [
    {
     "name": "stdout",
     "output_type": "stream",
     "text": [
      "<class 'pyspark.sql.types.Row'>\n",
      "YEAR\n",
      "MONTH\n",
      "DAY\n",
      "DAY_OF_WEEK\n",
      "AIRLINE\n",
      "FLIGHT_NUMBER\n",
      "TAIL_NUMBER\n",
      "ORIGIN_AIRPORT\n",
      "DESTINATION_AIRPORT\n",
      "SCHEDULED_DEPARTURE\n",
      "DEPARTURE_TIME\n",
      "DEPARTURE_DELAY\n",
      "TAXI_OUT\n",
      "WHEELS_OFF\n",
      "SCHEDULED_TIME\n",
      "ELAPSED_TIME\n",
      "AIR_TIME\n",
      "DISTANCE\n",
      "WHEELS_ON\n",
      "TAXI_IN\n",
      "SCHEDULED_ARRIVAL\n",
      "ARRIVAL_TIME\n",
      "ARRIVAL_DELAY\n",
      "DIVERTED\n",
      "CANCELLED\n",
      "CANCELLATION_REASON\n",
      "AIR_SYSTEM_DELAY\n",
      "SECURITY_DELAY\n",
      "AIRLINE_DELAY\n",
      "LATE_AIRCRAFT_DELAY\n",
      "WEATHER_DELAY\n"
     ]
    }
   ],
   "source": [
    "row = flights.take( 1 )[0] \n",
    "print( type( row ) )\n",
    "\n",
    "for col in flights.dtypes:\n",
    "    print( col[0] )\n"
   ]
  },
  {
   "cell_type": "markdown",
   "id": "9f048b25",
   "metadata": {},
   "source": [
    "### register dataframes to use them in SQL queries"
   ]
  },
  {
   "cell_type": "code",
   "execution_count": 9,
   "id": "135b14ea",
   "metadata": {},
   "outputs": [],
   "source": [
    "airlines.createOrReplaceTempView( 'airlines' )\n",
    "airports.createOrReplaceTempView( 'airports' )\n",
    "flights .createOrReplaceTempView( 'flights' )"
   ]
  },
  {
   "cell_type": "code",
   "execution_count": 10,
   "id": "111e19f7",
   "metadata": {},
   "outputs": [
    {
     "name": "stdout",
     "output_type": "stream",
     "text": [
      "+---------+--------------------+\n",
      "|IATA_CODE|             AIRLINE|\n",
      "+---------+--------------------+\n",
      "|       UA|United Air Lines ...|\n",
      "|       AA|American Airlines...|\n",
      "|       US|     US Airways Inc.|\n",
      "|       F9|Frontier Airlines...|\n",
      "|       B6|     JetBlue Airways|\n",
      "|       OO|Skywest Airlines ...|\n",
      "|       AS|Alaska Airlines Inc.|\n",
      "|       NK|    Spirit Air Lines|\n",
      "|       WN|Southwest Airline...|\n",
      "|       DL|Delta Air Lines Inc.|\n",
      "|       EV|Atlantic Southeas...|\n",
      "|       HA|Hawaiian Airlines...|\n",
      "|       MQ|American Eagle Ai...|\n",
      "|       VX|      Virgin America|\n",
      "+---------+--------------------+\n",
      "\n"
     ]
    }
   ],
   "source": [
    "spark.sql( 'select * from airlines' ).show()"
   ]
  },
  {
   "cell_type": "code",
   "execution_count": 11,
   "id": "091880a2",
   "metadata": {},
   "outputs": [
    {
     "name": "stdout",
     "output_type": "stream",
     "text": [
      "+---------+--------------------+-------------+-----+-------+--------+----------+\n",
      "|IATA_CODE|             AIRPORT|         CITY|STATE|COUNTRY|LATITUDE| LONGITUDE|\n",
      "+---------+--------------------+-------------+-----+-------+--------+----------+\n",
      "|      ABE|Lehigh Valley Int...|    Allentown|   PA|    USA|40.65236|  -75.4404|\n",
      "|      ABI|Abilene Regional ...|      Abilene|   TX|    USA|32.41132|  -99.6819|\n",
      "|      ABQ|Albuquerque Inter...|  Albuquerque|   NM|    USA|35.04022|-106.60919|\n",
      "|      ABR|Aberdeen Regional...|     Aberdeen|   SD|    USA|45.44906| -98.42183|\n",
      "|      ABY|Southwest Georgia...|       Albany|   GA|    USA|31.53552| -84.19447|\n",
      "|      ACK|Nantucket Memoria...|    Nantucket|   MA|    USA|41.25305| -70.06018|\n",
      "|      ACT|Waco Regional Air...|         Waco|   TX|    USA|31.61129| -97.23052|\n",
      "|      ACV|      Arcata Airport|Arcata/Eureka|   CA|    USA|40.97812|-124.10862|\n",
      "|      ACY|Atlantic City Int...|Atlantic City|   NJ|    USA|39.45758| -74.57717|\n",
      "|      ADK|        Adak Airport|         Adak|   AK|    USA|51.87796|-176.64603|\n",
      "|      ADQ|      Kodiak Airport|       Kodiak|   AK|    USA|57.74997|-152.49386|\n",
      "|      AEX|Alexandria Intern...|   Alexandria|   LA|    USA|31.32737| -92.54856|\n",
      "|      AGS|Augusta Regional ...|      Augusta|   GA|    USA|33.36996|  -81.9645|\n",
      "|      AKN| King Salmon Airport|  King Salmon|   AK|    USA| 58.6768|-156.64922|\n",
      "|      ALB|Albany Internatio...|       Albany|   NY|    USA|42.74812| -73.80298|\n",
      "|      ALO|Waterloo Regional...|     Waterloo|   IA|    USA|42.55708| -92.40034|\n",
      "|      AMA|Rick Husband Amar...|     Amarillo|   TX|    USA|35.21937|-101.70593|\n",
      "|      ANC|Ted Stevens Ancho...|    Anchorage|   AK|    USA|61.17432|-149.99619|\n",
      "|      APN|Alpena County Reg...|       Alpena|   MI|    USA|45.07807| -83.56029|\n",
      "|      ASE|Aspen-Pitkin Coun...|        Aspen|   CO|    USA|39.22316|-106.86885|\n",
      "+---------+--------------------+-------------+-----+-------+--------+----------+\n",
      "only showing top 20 rows\n",
      "\n"
     ]
    }
   ],
   "source": [
    "spark.sql( 'select * from airports' ).show()"
   ]
  },
  {
   "cell_type": "code",
   "execution_count": 18,
   "id": "df6516cc",
   "metadata": {},
   "outputs": [
    {
     "name": "stdout",
     "output_type": "stream",
     "text": [
      "+-------+-------------+--------------+-------------------+--------------+-----------------+--------+\n",
      "|AIRLINE|FLIGHT_NUMBER|ORIGIN_AIRPORT|DESTINATION_AIRPORT|SCHEDULED_TIME|SCHEDULED_ARRIVAL|DISTANCE|\n",
      "+-------+-------------+--------------+-------------------+--------------+-----------------+--------+\n",
      "|     AS|           98|           ANC|                SEA|           205|              430|    1448|\n",
      "|     AA|         2336|           LAX|                PBI|           280|              750|    2330|\n",
      "|     US|          840|           SFO|                CLT|           286|              806|    2296|\n",
      "|     AA|          258|           LAX|                MIA|           285|              805|    2342|\n",
      "|     AS|          135|           SEA|                ANC|           235|              320|    1448|\n",
      "|     DL|          806|           SFO|                MSP|           217|              602|    1589|\n",
      "|     NK|          612|           LAS|                MSP|           181|              526|    1299|\n",
      "|     US|         2013|           LAX|                CLT|           273|              803|    2125|\n",
      "|     AA|         1112|           SFO|                DFW|           195|              545|    1464|\n",
      "|     DL|         1173|           LAS|                ATL|           221|              711|    1747|\n",
      "|     DL|         2336|           DEN|                ATL|           173|              523|    1199|\n",
      "|     AA|         1674|           LAS|                MIA|           268|              803|    2174|\n",
      "|     DL|         1434|           LAX|                MSP|           214|              609|    1535|\n",
      "|     DL|         2324|           SLC|                ATL|           215|              615|    1590|\n",
      "|     DL|         2440|           SEA|                MSP|           189|              549|    1399|\n",
      "|     AS|          108|           ANC|                SEA|           204|              509|    1448|\n",
      "|     DL|         1560|           ANC|                SEA|           210|              515|    1448|\n",
      "|     UA|         1197|           SFO|                IAH|           218|              626|    1635|\n",
      "|     AS|          122|           ANC|                PDX|           215|              525|    1542|\n",
      "|     DL|         1670|           PDX|                MSP|           193|              603|    1426|\n",
      "+-------+-------------+--------------+-------------------+--------------+-----------------+--------+\n",
      "only showing top 20 rows\n",
      "\n"
     ]
    }
   ],
   "source": [
    "spark.sql( '''\n",
    "select \n",
    "    \n",
    "    AIRLINE, FLIGHT_NUMBER, \n",
    "    ORIGIN_AIRPORT,DESTINATION_AIRPORT,\n",
    "    SCHEDULED_TIME, SCHEDULED_ARRIVAL,\n",
    "    DISTANCE\n",
    "    \n",
    "from flights''' \n",
    "          \n",
    ").show()"
   ]
  },
  {
   "cell_type": "markdown",
   "id": "04a982b4",
   "metadata": {},
   "source": [
    "#### get number of flights with a departure delay"
   ]
  },
  {
   "cell_type": "code",
   "execution_count": 23,
   "id": "9fa7a7de",
   "metadata": {},
   "outputs": [
    {
     "name": "stderr",
     "output_type": "stream",
     "text": [
      "[Stage 26:===========================================>              (6 + 2) / 8]\r"
     ]
    },
    {
     "name": "stdout",
     "output_type": "stream",
     "text": [
      "+-------------+\n",
      "|num_of_delays|\n",
      "+-------------+\n",
      "|      2125618|\n",
      "+-------------+\n",
      "\n"
     ]
    },
    {
     "name": "stderr",
     "output_type": "stream",
     "text": [
      "\r",
      "                                                                                \r"
     ]
    }
   ],
   "source": [
    "query = '''\n",
    "select count(*) as num_of_delays\n",
    "from flights\n",
    "where DEPARTURE_DELAY > 0\n",
    "'''\n",
    "\n",
    "spark.sql( query ).show()"
   ]
  },
  {
   "cell_type": "code",
   "execution_count": null,
   "id": "e6ed6014",
   "metadata": {},
   "outputs": [],
   "source": []
  },
  {
   "cell_type": "code",
   "execution_count": null,
   "id": "3c30dfc5",
   "metadata": {},
   "outputs": [],
   "source": []
  },
  {
   "cell_type": "code",
   "execution_count": null,
   "id": "95c8e812",
   "metadata": {},
   "outputs": [],
   "source": []
  }
 ],
 "metadata": {
  "kernelspec": {
   "display_name": "Python 3 (ipykernel)",
   "language": "python",
   "name": "python3"
  },
  "language_info": {
   "codemirror_mode": {
    "name": "ipython",
    "version": 3
   },
   "file_extension": ".py",
   "mimetype": "text/x-python",
   "name": "python",
   "nbconvert_exporter": "python",
   "pygments_lexer": "ipython3",
   "version": "3.10.16"
  }
 },
 "nbformat": 4,
 "nbformat_minor": 5
}
