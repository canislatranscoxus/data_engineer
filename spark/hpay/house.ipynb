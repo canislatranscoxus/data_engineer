{
 "cells": [
  {
   "cell_type": "markdown",
   "id": "9c6b3478",
   "metadata": {},
   "source": [
    "# House ETL"
   ]
  },
  {
   "cell_type": "markdown",
   "id": "e6bcd7c5",
   "metadata": {},
   "source": [
    "in this notebook we make an ETL to ingest house.csv file into datalake"
   ]
  },
  {
   "cell_type": "markdown",
   "id": "3d8da046",
   "metadata": {},
   "source": [
    "### import libraries"
   ]
  },
  {
   "cell_type": "code",
   "execution_count": 1,
   "id": "b8d3b6a3",
   "metadata": {},
   "outputs": [],
   "source": [
    "import sys\n",
    "from platform import python_version\n",
    "\n",
    "import findspark\n",
    "findspark.init()"
   ]
  },
  {
   "cell_type": "code",
   "execution_count": 2,
   "id": "b88e8ae2",
   "metadata": {},
   "outputs": [],
   "source": [
    "import pyspark\n",
    "import pyspark.sql.functions as f\n",
    "\n",
    "from pyspark.sql           import SparkSession\n",
    "from pyspark.sql.functions import col, explode, regexp_replace, udf\n",
    "from pyspark.sql.types     import Row, ArrayType, IntegerType, LongType, StringType\n"
   ]
  },
  {
   "cell_type": "markdown",
   "id": "1833e5dc",
   "metadata": {},
   "source": [
    "### Load data"
   ]
  },
  {
   "cell_type": "code",
   "execution_count": 3,
   "id": "89406bee",
   "metadata": {},
   "outputs": [
    {
     "name": "stderr",
     "output_type": "stream",
     "text": [
      "Setting default log level to \"WARN\".\n",
      "To adjust logging level use sc.setLogLevel(newLevel). For SparkR, use setLogLevel(newLevel).\n",
      "24/04/15 17:49:35 WARN NativeCodeLoader: Unable to load native-hadoop library for your platform... using builtin-java classes where applicable\n"
     ]
    }
   ],
   "source": [
    "spark = (SparkSession\n",
    "        .builder\n",
    "        .appName( 'house_house_payments' )\n",
    "        .getOrCreate()\n",
    "        )"
   ]
  },
  {
   "cell_type": "code",
   "execution_count": 4,
   "id": "c3187d2f",
   "metadata": {},
   "outputs": [],
   "source": [
    "in_path  = '/home/art/data/hpay/in/house.csv'\n",
    "out_path = '/home/art/data/hpay/out/house'"
   ]
  },
  {
   "cell_type": "code",
   "execution_count": 5,
   "id": "01e8082a",
   "metadata": {},
   "outputs": [],
   "source": [
    "df = (spark\n",
    "      .read\n",
    "      .options( header = True, inferSchema = True, delimiter = ','  )\n",
    "      .csv( in_path )\n",
    "     )"
   ]
  },
  {
   "cell_type": "code",
   "execution_count": 6,
   "id": "7bf297f6",
   "metadata": {},
   "outputs": [
    {
     "name": "stdout",
     "output_type": "stream",
     "text": [
      "+--------+-------+------+-------+\n",
      "|house_id|user_id|street|ext_num|\n",
      "+--------+-------+------+-------+\n",
      "| 100pino|      1|  pino|    100|\n",
      "| 101pino|      2|  pino|    101|\n",
      "| 102pino|      3|  pino|    102|\n",
      "| 200caob|      4| caoba|    200|\n",
      "| 201caob|      5| caoba|    201|\n",
      "| 202caob|      6| caoba|    202|\n",
      "| 100abed|      7|abedul|    100|\n",
      "| 101abed|      8|abedul|    101|\n",
      "| 102abed|      9|abedul|    102|\n",
      "+--------+-------+------+-------+\n",
      "\n"
     ]
    }
   ],
   "source": [
    "df.show()"
   ]
  },
  {
   "cell_type": "code",
   "execution_count": 7,
   "id": "9e2604a4",
   "metadata": {},
   "outputs": [
    {
     "name": "stdout",
     "output_type": "stream",
     "text": [
      "root\n",
      " |-- house_id: string (nullable = true)\n",
      " |-- user_id: integer (nullable = true)\n",
      " |-- street: string (nullable = true)\n",
      " |-- ext_num: integer (nullable = true)\n",
      "\n"
     ]
    }
   ],
   "source": [
    "df.printSchema()"
   ]
  },
  {
   "cell_type": "markdown",
   "id": "74261324",
   "metadata": {},
   "source": [
    "### Transform"
   ]
  },
  {
   "cell_type": "code",
   "execution_count": 8,
   "id": "ff1795f8",
   "metadata": {},
   "outputs": [],
   "source": [
    "df.createOrReplaceTempView( 'house' )"
   ]
  },
  {
   "cell_type": "code",
   "execution_count": 9,
   "id": "7ba5f02d",
   "metadata": {},
   "outputs": [],
   "source": [
    "query = '''\n",
    "SELECT \n",
    "  upper( house_id ) as house_id,\n",
    "  user_id,\n",
    "  upper( street ) as street,\n",
    "  ext_num\n",
    "\n",
    "FROM house\n",
    "\n",
    "'''"
   ]
  },
  {
   "cell_type": "code",
   "execution_count": 10,
   "id": "f413e88c",
   "metadata": {},
   "outputs": [
    {
     "name": "stdout",
     "output_type": "stream",
     "text": [
      "+--------+-------+------+-------+\n",
      "|house_id|user_id|street|ext_num|\n",
      "+--------+-------+------+-------+\n",
      "| 100PINO|      1|  PINO|    100|\n",
      "| 101PINO|      2|  PINO|    101|\n",
      "| 102PINO|      3|  PINO|    102|\n",
      "| 200CAOB|      4| CAOBA|    200|\n",
      "| 201CAOB|      5| CAOBA|    201|\n",
      "| 202CAOB|      6| CAOBA|    202|\n",
      "| 100ABED|      7|ABEDUL|    100|\n",
      "| 101ABED|      8|ABEDUL|    101|\n",
      "| 102ABED|      9|ABEDUL|    102|\n",
      "+--------+-------+------+-------+\n",
      "\n"
     ]
    }
   ],
   "source": [
    "df = spark.sql( query )\n",
    "df.show()"
   ]
  },
  {
   "cell_type": "markdown",
   "id": "3d3166d2",
   "metadata": {},
   "source": [
    "### Load data into Data Lake"
   ]
  },
  {
   "cell_type": "code",
   "execution_count": 11,
   "id": "f9978a58",
   "metadata": {},
   "outputs": [],
   "source": [
    "(df\n",
    " .write\n",
    " .option( 'header', True )\n",
    " .csv( out_path )\n",
    ")"
   ]
  },
  {
   "cell_type": "code",
   "execution_count": 12,
   "id": "3cb73e98",
   "metadata": {},
   "outputs": [
    {
     "name": "stdout",
     "output_type": "stream",
     "text": [
      "check your clean data in: /home/art/data/hpay/out/house\n"
     ]
    }
   ],
   "source": [
    "print( 'check your clean data in: {}'.format( out_path ) )"
   ]
  },
  {
   "cell_type": "code",
   "execution_count": null,
   "id": "dc88fd5a",
   "metadata": {},
   "outputs": [],
   "source": []
  }
 ],
 "metadata": {
  "kernelspec": {
   "display_name": "Python 3 (ipykernel)",
   "language": "python",
   "name": "python3"
  },
  "language_info": {
   "codemirror_mode": {
    "name": "ipython",
    "version": 3
   },
   "file_extension": ".py",
   "mimetype": "text/x-python",
   "name": "python",
   "nbconvert_exporter": "python",
   "pygments_lexer": "ipython3",
   "version": "3.10.11"
  }
 },
 "nbformat": 4,
 "nbformat_minor": 5
}
