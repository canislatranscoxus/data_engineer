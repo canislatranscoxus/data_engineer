{
 "cells": [
  {
   "cell_type": "markdown",
   "id": "242830a3",
   "metadata": {},
   "source": [
    "# ETL - user dataset"
   ]
  },
  {
   "cell_type": "markdown",
   "id": "a85c93a9",
   "metadata": {},
   "source": [
    "In this notebook we do the same as user_01, but here using SQL."
   ]
  },
  {
   "cell_type": "markdown",
   "id": "7133d03f",
   "metadata": {},
   "source": [
    "###  import libraries"
   ]
  },
  {
   "cell_type": "code",
   "execution_count": 1,
   "id": "8f55c53b",
   "metadata": {},
   "outputs": [],
   "source": [
    "import findspark\n",
    "findspark.init()"
   ]
  },
  {
   "cell_type": "code",
   "execution_count": 2,
   "id": "659cd99a",
   "metadata": {},
   "outputs": [],
   "source": [
    "import sys\n",
    "from IPython.display         import display, HTML\n",
    "from platform                import python_version\n",
    "\n",
    "import pyspark\n",
    "import pyspark.sql.functions as f\n",
    "\n",
    "from   pyspark.sql           import SparkSession\n",
    "from   pyspark.sql.functions import col, explode, regexp_replace, udf\n",
    "from   pyspark.sql.types     import Row, IntegerType, LongType ,StringType, ArrayType\n",
    "\n",
    "\n",
    "\n"
   ]
  },
  {
   "cell_type": "markdown",
   "id": "4a4f7d07",
   "metadata": {},
   "source": [
    "### version"
   ]
  },
  {
   "cell_type": "code",
   "execution_count": 3,
   "id": "e9844ed4",
   "metadata": {},
   "outputs": [
    {
     "data": {
      "text/plain": [
       "'3.10.11'"
      ]
     },
     "execution_count": 3,
     "metadata": {},
     "output_type": "execute_result"
    }
   ],
   "source": [
    "python_version()"
   ]
  },
  {
   "cell_type": "code",
   "execution_count": 4,
   "id": "c94b7813",
   "metadata": {},
   "outputs": [
    {
     "data": {
      "text/plain": [
       "'/home/art/git/data_engineer/venv/bin/python'"
      ]
     },
     "execution_count": 4,
     "metadata": {},
     "output_type": "execute_result"
    }
   ],
   "source": [
    "sys.executable"
   ]
  },
  {
   "cell_type": "code",
   "execution_count": 5,
   "id": "4270fbc7",
   "metadata": {},
   "outputs": [
    {
     "data": {
      "text/plain": [
       "'3.4.0'"
      ]
     },
     "execution_count": 5,
     "metadata": {},
     "output_type": "execute_result"
    }
   ],
   "source": [
    "pyspark.__version__"
   ]
  },
  {
   "cell_type": "code",
   "execution_count": 6,
   "id": "da7fbe3f",
   "metadata": {},
   "outputs": [
    {
     "name": "stdout",
     "output_type": "stream",
     "text": [
      "Selected Jupyter core packages...\n",
      "IPython          : 8.14.0\n",
      "ipykernel        : 6.23.1\n",
      "ipywidgets       : 8.0.6\n",
      "jupyter_client   : 8.2.0\n",
      "jupyter_core     : 5.3.0\n",
      "jupyter_server   : 2.6.0\n",
      "jupyterlab       : not installed\n",
      "nbclient         : 0.8.0\n",
      "nbconvert        : 7.4.0\n",
      "nbformat         : 5.9.0\n",
      "notebook         : 6.5.4\n",
      "qtconsole        : 5.4.3\n",
      "traitlets        : 5.9.0\n"
     ]
    }
   ],
   "source": [
    "!jupyter --version"
   ]
  },
  {
   "cell_type": "markdown",
   "id": "04bc5dc5",
   "metadata": {},
   "source": [
    "### load data"
   ]
  },
  {
   "cell_type": "code",
   "execution_count": 7,
   "id": "81fa2d69",
   "metadata": {},
   "outputs": [],
   "source": [
    "in_path  = '/home/art/data/hpay/in/user.csv'\n",
    "out_path = '/home/art/data/hpay/out/user'"
   ]
  },
  {
   "cell_type": "code",
   "execution_count": 8,
   "id": "a3cca739",
   "metadata": {},
   "outputs": [
    {
     "name": "stderr",
     "output_type": "stream",
     "text": [
      "Setting default log level to \"WARN\".\n",
      "To adjust logging level use sc.setLogLevel(newLevel). For SparkR, use setLogLevel(newLevel).\n",
      "24/03/06 10:48:24 WARN NativeCodeLoader: Unable to load native-hadoop library for your platform... using builtin-java classes where applicable\n",
      "24/03/06 10:48:26 WARN Utils: Service 'SparkUI' could not bind on port 4040. Attempting port 4041.\n"
     ]
    }
   ],
   "source": [
    "spark = (SparkSession\n",
    "         .builder\n",
    "         .appName( 'user02_house_pay' )\n",
    "         .getOrCreate()\n",
    "        )"
   ]
  },
  {
   "cell_type": "code",
   "execution_count": 9,
   "id": "79052beb",
   "metadata": {},
   "outputs": [],
   "source": [
    "df = (spark\n",
    "      .read\n",
    "      .options( header= True, inferSchema = True, delimiter = ',' )\n",
    "      .csv( in_path ))"
   ]
  },
  {
   "cell_type": "code",
   "execution_count": 10,
   "id": "e1b996b2",
   "metadata": {},
   "outputs": [
    {
     "name": "stdout",
     "output_type": "stream",
     "text": [
      "root\n",
      " |-- user_id: integer (nullable = true)\n",
      " |-- first_name: string (nullable = true)\n",
      " |-- last_name: string (nullable = true)\n",
      " |-- sex: string (nullable = true)\n",
      " |-- cel: string (nullable = true)\n",
      " |-- email: string (nullable = true)\n",
      "\n"
     ]
    }
   ],
   "source": [
    "df.printSchema()"
   ]
  },
  {
   "cell_type": "code",
   "execution_count": 11,
   "id": "c6487a8f",
   "metadata": {},
   "outputs": [
    {
     "name": "stdout",
     "output_type": "stream",
     "text": [
      "+-------+----------+---------+------+------------+------------------+\n",
      "|user_id|first_name|last_name|   sex|         cel|             email|\n",
      "+-------+----------+---------+------+------------+------------------+\n",
      "|      1|    mickey|    mouse|  male|11 1111 1111| mickey@disney.com|\n",
      "|      2|    Minnie|    Mouse|female|22 2222 2222| Minnie@disney.com|\n",
      "|      3|    Donald|     Duck|  male|33 3333 3333| Donald@disney.com|\n",
      "|      4|     daisY|     duck|female|44 4444 4444|  daisY@disney.com|\n",
      "|      5|   aladdin|      ali|  male|55 5555 5555|aladdin@disney.com|\n",
      "|      6|    jazmin|   bagdad|female|66 6666 6666| jazmin@disney.com|\n",
      "|      7|     mulan|   gun fu|female|77 7777 7777|  mulan@disney.com|\n",
      "|      8|      jack|  sparrow|  male|88 8888 8888|   jack@disney.com|\n",
      "|      9|    merida|    brave|female|99 9999 9999| merida@disney.com|\n",
      "|   null|      xxxx|     null|  null|        null|              null|\n",
      "|   null|      yyyy|     null|  null|        null|              null|\n",
      "|   null|      zzzz|     null|  null|        null|              null|\n",
      "+-------+----------+---------+------+------------+------------------+\n",
      "\n"
     ]
    }
   ],
   "source": [
    "df.show()"
   ]
  },
  {
   "cell_type": "markdown",
   "id": "97117f31",
   "metadata": {},
   "source": [
    "### Transform. Clean"
   ]
  },
  {
   "cell_type": "code",
   "execution_count": 14,
   "id": "ce27bea8",
   "metadata": {},
   "outputs": [],
   "source": [
    "df.createOrReplaceTempView( 'df_user' )"
   ]
  },
  {
   "cell_type": "code",
   "execution_count": 15,
   "id": "00076d02",
   "metadata": {},
   "outputs": [],
   "source": [
    "query = '''\n",
    "SELECT \n",
    "  user_id, \n",
    "  upper( first_name ) as first_name,\n",
    "  upper( last_name  ) as last_name ,\n",
    "  \n",
    "  CASE\n",
    "    WHEN sex = 'female' THEN 0\n",
    "    WHEN sex = 'male'   THEN 1\n",
    "  END \n",
    "  as sex,\n",
    "  \n",
    "  replace( cel, ' ', '' ) as cel,\n",
    "  lower( email ) as email\n",
    "  \n",
    "FROM  df_user\n",
    "WHERE user_id IS NOT NULL\n",
    "'''"
   ]
  },
  {
   "cell_type": "code",
   "execution_count": 16,
   "id": "03f68374",
   "metadata": {},
   "outputs": [
    {
     "name": "stdout",
     "output_type": "stream",
     "text": [
      "+-------+----------+---------+---+----------+------------------+\n",
      "|user_id|first_name|last_name|sex|       cel|             email|\n",
      "+-------+----------+---------+---+----------+------------------+\n",
      "|      1|    MICKEY|    MOUSE|  1|1111111111| mickey@disney.com|\n",
      "|      2|    MINNIE|    MOUSE|  0|2222222222| minnie@disney.com|\n",
      "|      3|    DONALD|     DUCK|  1|3333333333| donald@disney.com|\n",
      "|      4|     DAISY|     DUCK|  0|4444444444|  daisy@disney.com|\n",
      "|      5|   ALADDIN|      ALI|  1|5555555555|aladdin@disney.com|\n",
      "|      6|    JAZMIN|   BAGDAD|  0|6666666666| jazmin@disney.com|\n",
      "|      7|     MULAN|   GUN FU|  0|7777777777|  mulan@disney.com|\n",
      "|      8|      JACK|  SPARROW|  1|8888888888|   jack@disney.com|\n",
      "|      9|    MERIDA|    BRAVE|  0|9999999999| merida@disney.com|\n",
      "+-------+----------+---------+---+----------+------------------+\n",
      "\n"
     ]
    }
   ],
   "source": [
    "df = spark.sql( query )\n",
    "df.show()"
   ]
  },
  {
   "cell_type": "code",
   "execution_count": 17,
   "id": "aa7f8ad4",
   "metadata": {},
   "outputs": [
    {
     "name": "stdout",
     "output_type": "stream",
     "text": [
      "root\n",
      " |-- user_id: integer (nullable = true)\n",
      " |-- first_name: string (nullable = true)\n",
      " |-- last_name: string (nullable = true)\n",
      " |-- sex: integer (nullable = true)\n",
      " |-- cel: string (nullable = true)\n",
      " |-- email: string (nullable = true)\n",
      "\n"
     ]
    }
   ],
   "source": [
    "df.printSchema()"
   ]
  },
  {
   "cell_type": "markdown",
   "id": "1488e8e4",
   "metadata": {},
   "source": [
    "### Load clean data to DataLake"
   ]
  },
  {
   "cell_type": "code",
   "execution_count": 18,
   "id": "3a2c3bd1",
   "metadata": {},
   "outputs": [],
   "source": [
    "(df\n",
    " .write\n",
    " .option( 'header' , True )\n",
    " .csv( out_path )\n",
    ")\n"
   ]
  },
  {
   "cell_type": "code",
   "execution_count": 19,
   "id": "f06d4b56",
   "metadata": {},
   "outputs": [
    {
     "name": "stdout",
     "output_type": "stream",
     "text": [
      "check your file in the next folder: \n",
      " /home/art/data/hpay/out/user\n"
     ]
    }
   ],
   "source": [
    "print( 'check your file in the next folder: \\n {}'.format( out_path ) )"
   ]
  },
  {
   "cell_type": "code",
   "execution_count": null,
   "id": "b8b2e61a",
   "metadata": {},
   "outputs": [],
   "source": []
  }
 ],
 "metadata": {
  "kernelspec": {
   "display_name": "Python 3 (ipykernel)",
   "language": "python",
   "name": "python3"
  },
  "language_info": {
   "codemirror_mode": {
    "name": "ipython",
    "version": 3
   },
   "file_extension": ".py",
   "mimetype": "text/x-python",
   "name": "python",
   "nbconvert_exporter": "python",
   "pygments_lexer": "ipython3",
   "version": "3.10.11"
  }
 },
 "nbformat": 4,
 "nbformat_minor": 5
}
