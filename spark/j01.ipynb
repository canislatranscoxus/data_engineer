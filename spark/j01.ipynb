{
 "cells": [
  {
   "cell_type": "code",
   "execution_count": 9,
   "id": "03d8d86b",
   "metadata": {},
   "outputs": [],
   "source": [
    "from IPython.display   import display, HTML\n",
    "\n",
    "import findspark\n",
    "findspark.init()\n",
    "\n",
    "import pyspark\n",
    "from pyspark.sql       import SparkSession\n",
    "from pyspark.sql.types import Row\n",
    "\n",
    "from datetime          import datetime"
   ]
  },
  {
   "cell_type": "code",
   "execution_count": 11,
   "id": "dec539f1",
   "metadata": {},
   "outputs": [
    {
     "name": "stderr",
     "output_type": "stream",
     "text": [
      "Setting default log level to \"WARN\".\n",
      "To adjust logging level use sc.setLogLevel(newLevel). For SparkR, use setLogLevel(newLevel).\n",
      "23/06/09 09:25:26 WARN NativeCodeLoader: Unable to load native-hadoop library for your platform... using builtin-java classes where applicable\n"
     ]
    }
   ],
   "source": [
    "spark = SparkSession.builder  \\\n",
    "        .appName( 'json 01' ) \\\n",
    "        .getOrCreate()"
   ]
  },
  {
   "cell_type": "code",
   "execution_count": 25,
   "id": "34083f8b",
   "metadata": {},
   "outputs": [],
   "source": [
    "df_01 = spark.read \\\n",
    "     .format( 'json' ) \\\n",
    "     .load( '/home/art/data/tiny/j01.json', multiLine= True )"
   ]
  },
  {
   "cell_type": "code",
   "execution_count": 27,
   "id": "519cbb67",
   "metadata": {},
   "outputs": [
    {
     "name": "stdout",
     "output_type": "stream",
     "text": [
      "+------+--------------------+--------------------+---------+-------+\n",
      "|animal|       date_of_birth|                food| fruit_id|   name|\n",
      "+------+--------------------+--------------------+---------+-------+\n",
      "|   cat|20221-05-20 08:00:00|[salmon, meat, cr...|[1, 2, 3]|Patitas|\n",
      "+------+--------------------+--------------------+---------+-------+\n",
      "\n"
     ]
    }
   ],
   "source": [
    "df_01.show()"
   ]
  },
  {
   "cell_type": "code",
   "execution_count": 22,
   "id": "4d4f3159",
   "metadata": {},
   "outputs": [],
   "source": [
    "df_01 = spark.read \\\n",
    "        .json( '/home/art/data/tiny/j01.json', multiLine= True )"
   ]
  },
  {
   "cell_type": "code",
   "execution_count": 24,
   "id": "7f725fb3",
   "metadata": {},
   "outputs": [
    {
     "name": "stdout",
     "output_type": "stream",
     "text": [
      "+------+--------------------+--------------------+---------+-------+\n",
      "|animal|       date_of_birth|                food| fruit_id|   name|\n",
      "+------+--------------------+--------------------+---------+-------+\n",
      "|   cat|20221-05-20 08:00:00|[salmon, meat, cr...|[1, 2, 3]|Patitas|\n",
      "+------+--------------------+--------------------+---------+-------+\n",
      "\n"
     ]
    }
   ],
   "source": [
    "df_01.show()"
   ]
  },
  {
   "cell_type": "code",
   "execution_count": null,
   "id": "7df56cff",
   "metadata": {},
   "outputs": [],
   "source": []
  },
  {
   "cell_type": "code",
   "execution_count": null,
   "id": "618d3908",
   "metadata": {},
   "outputs": [],
   "source": []
  },
  {
   "cell_type": "code",
   "execution_count": null,
   "id": "0252b1f3",
   "metadata": {},
   "outputs": [],
   "source": []
  },
  {
   "cell_type": "code",
   "execution_count": null,
   "id": "26fe56b5",
   "metadata": {},
   "outputs": [],
   "source": []
  },
  {
   "cell_type": "code",
   "execution_count": 18,
   "id": "2cfafaeb",
   "metadata": {},
   "outputs": [
    {
     "name": "stderr",
     "output_type": "stream",
     "text": [
      "                                                                                \r"
     ]
    },
    {
     "name": "stdout",
     "output_type": "stream",
     "text": [
      "+---+-----------------------------------------------------------------------------+\n",
      "|id |value                                                                        |\n",
      "+---+-----------------------------------------------------------------------------+\n",
      "|1  |{\"Zipcode\":704, \"ZipCodeType\":\"STANDARD\", \"City\":\"PARC PARQUE\", \"State\":\"PR\"}|\n",
      "+---+-----------------------------------------------------------------------------+\n",
      "\n"
     ]
    }
   ],
   "source": [
    "jsonString=\"\"\"{\"Zipcode\":704, \"ZipCodeType\":\"STANDARD\", \"City\":\"PARC PARQUE\", \"State\":\"PR\"}\"\"\"\n",
    "df=spark.createDataFrame([(1, jsonString)],[\"id\",\"value\"])\n",
    "df.show(truncate=False)"
   ]
  },
  {
   "cell_type": "markdown",
   "id": "cb196c1b",
   "metadata": {},
   "source": [
    "## Reading an array of jsons"
   ]
  },
  {
   "cell_type": "code",
   "execution_count": null,
   "id": "42e4731c",
   "metadata": {},
   "outputs": [],
   "source": []
  },
  {
   "cell_type": "code",
   "execution_count": 28,
   "id": "ec74b7bd",
   "metadata": {},
   "outputs": [],
   "source": [
    "df_events = spark.read  \\\n",
    "            .json( '/home/art/data/tiny/events.json', multiLine= True )\n"
   ]
  },
  {
   "cell_type": "code",
   "execution_count": 29,
   "id": "4cdc3730",
   "metadata": {},
   "outputs": [
    {
     "name": "stdout",
     "output_type": "stream",
     "text": [
      "+-----+--------------------+------------+--------------------+----+\n",
      "|event|     event_timestamp|    fruit_id|          fruit_name|user|\n",
      "+-----+--------------------+------------+--------------------+----+\n",
      "|login|20223-01-20 00:00:00|   [1, 2, 3]|[apple, banana, o...| Ana|\n",
      "|click|20223-01-20 00:01:00|[4, 5, 6, 7]|[pineapple, melon...|Elsa|\n",
      "| swap|20223-01-20 00:02:00|      [1, 2]|[strawberry, blue...|Olaf|\n",
      "+-----+--------------------+------------+--------------------+----+\n",
      "\n"
     ]
    }
   ],
   "source": [
    "df_events.show()"
   ]
  },
  {
   "cell_type": "code",
   "execution_count": null,
   "id": "ca008fc0",
   "metadata": {},
   "outputs": [],
   "source": []
  },
  {
   "cell_type": "code",
   "execution_count": null,
   "id": "aa834d1b",
   "metadata": {},
   "outputs": [],
   "source": []
  },
  {
   "cell_type": "code",
   "execution_count": null,
   "id": "6006c338",
   "metadata": {},
   "outputs": [],
   "source": []
  }
 ],
 "metadata": {
  "kernelspec": {
   "display_name": "Python 3 (ipykernel)",
   "language": "python",
   "name": "python3"
  },
  "language_info": {
   "codemirror_mode": {
    "name": "ipython",
    "version": 3
   },
   "file_extension": ".py",
   "mimetype": "text/x-python",
   "name": "python",
   "nbconvert_exporter": "python",
   "pygments_lexer": "ipython3",
   "version": "3.10.11"
  }
 },
 "nbformat": 4,
 "nbformat_minor": 5
}
