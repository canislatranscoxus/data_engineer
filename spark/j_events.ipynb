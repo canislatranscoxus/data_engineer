{
 "cells": [
  {
   "cell_type": "code",
   "execution_count": 126,
   "id": "629ff7ca",
   "metadata": {},
   "outputs": [],
   "source": [
    "from IPython.display   import display, HTML\n",
    "\n",
    "import findspark\n",
    "findspark.init()\n",
    "\n",
    "import pyspark\n",
    "from pyspark.sql           import SparkSession\n",
    "from pyspark.sql.functions import col, explode, udf\n",
    "from pyspark.sql.types     import Row, LongType, StringType, ArrayType\n",
    "\n",
    "\n",
    "from datetime          import datetime"
   ]
  },
  {
   "cell_type": "code",
   "execution_count": 94,
   "id": "534657d4",
   "metadata": {},
   "outputs": [],
   "source": [
    "spark = SparkSession.builder  \\\n",
    "        .appName( 'json 01' ) \\\n",
    "        .getOrCreate()"
   ]
  },
  {
   "cell_type": "code",
   "execution_count": 95,
   "id": "42b6f007",
   "metadata": {},
   "outputs": [],
   "source": [
    "df_01 = spark.read \\\n",
    "     .format( 'json' ) \\\n",
    "     .load( '/home/art/data/tiny/j01.json', multiLine= True )"
   ]
  },
  {
   "cell_type": "code",
   "execution_count": 96,
   "id": "76541897",
   "metadata": {},
   "outputs": [
    {
     "name": "stdout",
     "output_type": "stream",
     "text": [
      "+------+--------------------+--------------------+---------+-------+\n",
      "|animal|       date_of_birth|                food| fruit_id|   name|\n",
      "+------+--------------------+--------------------+---------+-------+\n",
      "|   cat|20221-05-20 08:00:00|[salmon, meat, cr...|[1, 2, 3]|Patitas|\n",
      "+------+--------------------+--------------------+---------+-------+\n",
      "\n"
     ]
    }
   ],
   "source": [
    "df_01.show()"
   ]
  },
  {
   "cell_type": "code",
   "execution_count": 97,
   "id": "633ca373",
   "metadata": {},
   "outputs": [],
   "source": [
    "df_01 = spark.read \\\n",
    "        .json( '/home/art/data/tiny/j01.json', multiLine= True )"
   ]
  },
  {
   "cell_type": "code",
   "execution_count": 98,
   "id": "a3572eec",
   "metadata": {},
   "outputs": [
    {
     "name": "stdout",
     "output_type": "stream",
     "text": [
      "+------+--------------------+--------------------+---------+-------+\n",
      "|animal|       date_of_birth|                food| fruit_id|   name|\n",
      "+------+--------------------+--------------------+---------+-------+\n",
      "|   cat|20221-05-20 08:00:00|[salmon, meat, cr...|[1, 2, 3]|Patitas|\n",
      "+------+--------------------+--------------------+---------+-------+\n",
      "\n"
     ]
    }
   ],
   "source": [
    "df_01.show()"
   ]
  },
  {
   "cell_type": "code",
   "execution_count": null,
   "id": "fda4fa3a",
   "metadata": {},
   "outputs": [],
   "source": []
  },
  {
   "cell_type": "code",
   "execution_count": null,
   "id": "cd42f79d",
   "metadata": {},
   "outputs": [],
   "source": []
  },
  {
   "cell_type": "code",
   "execution_count": null,
   "id": "2b5b0e68",
   "metadata": {},
   "outputs": [],
   "source": []
  },
  {
   "cell_type": "code",
   "execution_count": null,
   "id": "2ad6d551",
   "metadata": {},
   "outputs": [],
   "source": []
  },
  {
   "cell_type": "code",
   "execution_count": 99,
   "id": "28b797b2",
   "metadata": {},
   "outputs": [
    {
     "name": "stdout",
     "output_type": "stream",
     "text": [
      "+---+-----------------------------------------------------------------------------+\n",
      "|id |value                                                                        |\n",
      "+---+-----------------------------------------------------------------------------+\n",
      "|1  |{\"Zipcode\":704, \"ZipCodeType\":\"STANDARD\", \"City\":\"PARC PARQUE\", \"State\":\"PR\"}|\n",
      "+---+-----------------------------------------------------------------------------+\n",
      "\n"
     ]
    }
   ],
   "source": [
    "jsonString=\"\"\"{\"Zipcode\":704, \"ZipCodeType\":\"STANDARD\", \"City\":\"PARC PARQUE\", \"State\":\"PR\"}\"\"\"\n",
    "df=spark.createDataFrame([(1, jsonString)],[\"id\",\"value\"])\n",
    "df.show(truncate=False)"
   ]
  },
  {
   "cell_type": "markdown",
   "id": "a5268134",
   "metadata": {},
   "source": [
    "## Reading an array of jsons"
   ]
  },
  {
   "cell_type": "code",
   "execution_count": null,
   "id": "a023e5c9",
   "metadata": {},
   "outputs": [],
   "source": []
  },
  {
   "cell_type": "code",
   "execution_count": 100,
   "id": "0af6fbde",
   "metadata": {},
   "outputs": [],
   "source": [
    "df_events = spark.read  \\\n",
    "            .json( '/home/art/data/tiny/events.json', multiLine= True )\n"
   ]
  },
  {
   "cell_type": "code",
   "execution_count": 101,
   "id": "a7734134",
   "metadata": {},
   "outputs": [
    {
     "name": "stdout",
     "output_type": "stream",
     "text": [
      "+-----+--------------------+------------+--------------------+----+\n",
      "|event|     event_timestamp|    fruit_id|          fruit_name|user|\n",
      "+-----+--------------------+------------+--------------------+----+\n",
      "|login|20223-01-20 00:00:00|   [1, 2, 3]|[apple, banana, o...| Ana|\n",
      "|click|20223-01-20 00:01:00|[4, 5, 6, 7]|[pineapple, melon...|Elsa|\n",
      "| swap|20223-01-20 00:02:00|      [1, 2]|[strawberry, blue...|Olaf|\n",
      "+-----+--------------------+------------+--------------------+----+\n",
      "\n"
     ]
    }
   ],
   "source": [
    "df_events.show()"
   ]
  },
  {
   "cell_type": "markdown",
   "id": "826af7be",
   "metadata": {},
   "source": [
    "### register dataframe to use SQL queries"
   ]
  },
  {
   "cell_type": "code",
   "execution_count": 106,
   "id": "2eb0d9d9",
   "metadata": {},
   "outputs": [],
   "source": [
    "df_events.createOrReplaceTempView( 'df_events' )"
   ]
  },
  {
   "cell_type": "code",
   "execution_count": 107,
   "id": "043f492d",
   "metadata": {},
   "outputs": [],
   "source": [
    "\n",
    "\n",
    "df = spark.sql( ''' select *, fruit_id[0] as first_id\n",
    "     from df_events\n",
    "\n",
    "'''\n",
    "\n",
    ")"
   ]
  },
  {
   "cell_type": "code",
   "execution_count": 108,
   "id": "c30d72fd",
   "metadata": {},
   "outputs": [
    {
     "name": "stdout",
     "output_type": "stream",
     "text": [
      "+-----+--------------------+------------+--------------------+----+--------+\n",
      "|event|     event_timestamp|    fruit_id|          fruit_name|user|first_id|\n",
      "+-----+--------------------+------------+--------------------+----+--------+\n",
      "|login|20223-01-20 00:00:00|   [1, 2, 3]|[apple, banana, o...| Ana|       1|\n",
      "|click|20223-01-20 00:01:00|[4, 5, 6, 7]|[pineapple, melon...|Elsa|       4|\n",
      "| swap|20223-01-20 00:02:00|      [1, 2]|[strawberry, blue...|Olaf|       1|\n",
      "+-----+--------------------+------------+--------------------+----+--------+\n",
      "\n"
     ]
    }
   ],
   "source": [
    "df.show()"
   ]
  },
  {
   "cell_type": "markdown",
   "id": "6a5abc71",
   "metadata": {},
   "source": [
    "### create a simple UDF - return string"
   ]
  },
  {
   "cell_type": "code",
   "execution_count": 102,
   "id": "d34445f5",
   "metadata": {},
   "outputs": [
    {
     "name": "stdout",
     "output_type": "stream",
     "text": [
      "*** KITTY ***\n"
     ]
    }
   ],
   "source": [
    "def my_stars( s ):\n",
    "    r = '*** ' +  s.upper() + ' ***'\n",
    "    return r\n",
    "\n",
    "s1 = 'kitty'\n",
    "\n",
    "s2 = my_stars( s1 )\n",
    "print( s2 )\n",
    "\n"
   ]
  },
  {
   "cell_type": "code",
   "execution_count": 105,
   "id": "879795df",
   "metadata": {},
   "outputs": [
    {
     "data": {
      "text/plain": [
       "<function __main__.my_stars(s)>"
      ]
     },
     "execution_count": 105,
     "metadata": {},
     "output_type": "execute_result"
    }
   ],
   "source": [
    "#spark.udf.register( 'my_stars', 'my_stars', StringType() )\n",
    "\n",
    "spark.udf.register( 'my_stars_udf', my_stars )\n"
   ]
  },
  {
   "cell_type": "code",
   "execution_count": 110,
   "id": "cdcaede5",
   "metadata": {},
   "outputs": [
    {
     "name": "stdout",
     "output_type": "stream",
     "text": [
      "+-----+--------------------+------------+--------------------+----+------------+\n",
      "|event|     event_timestamp|    fruit_id|          fruit_name|user|    vip_user|\n",
      "+-----+--------------------+------------+--------------------+----+------------+\n",
      "|login|20223-01-20 00:00:00|   [1, 2, 3]|[apple, banana, o...| Ana| *** ANA ***|\n",
      "|click|20223-01-20 00:01:00|[4, 5, 6, 7]|[pineapple, melon...|Elsa|*** ELSA ***|\n",
      "| swap|20223-01-20 00:02:00|      [1, 2]|[strawberry, blue...|Olaf|*** OLAF ***|\n",
      "+-----+--------------------+------------+--------------------+----+------------+\n",
      "\n"
     ]
    }
   ],
   "source": [
    "df = spark.sql(\n",
    "'''\n",
    "select *, my_stars_udf( user ) as vip_user\n",
    "from df_events\n",
    "'''\n",
    ")\n",
    "\n",
    "df.show()\n"
   ]
  },
  {
   "cell_type": "markdown",
   "id": "f49a1cd5",
   "metadata": {},
   "source": [
    "### create udf - array of string"
   ]
  },
  {
   "cell_type": "code",
   "execution_count": 111,
   "id": "69e2115b",
   "metadata": {},
   "outputs": [
    {
     "name": "stdout",
     "output_type": "stream",
     "text": [
      "['a', 'b', 'c']\n"
     ]
    }
   ],
   "source": [
    "def my_list( ):\n",
    "    return [ 'a', 'b', 'c' ]\n",
    "\n",
    "\n",
    "a = my_list()\n",
    "print( a )\n"
   ]
  },
  {
   "cell_type": "code",
   "execution_count": 112,
   "id": "fd28b119",
   "metadata": {},
   "outputs": [
    {
     "data": {
      "text/plain": [
       "<function __main__.my_list()>"
      ]
     },
     "execution_count": 112,
     "metadata": {},
     "output_type": "execute_result"
    }
   ],
   "source": [
    "spark.udf.register( 'my_list_udf', my_list, ArrayType( StringType() ) )\n"
   ]
  },
  {
   "cell_type": "code",
   "execution_count": 115,
   "id": "4b6dab0c",
   "metadata": {},
   "outputs": [
    {
     "name": "stdout",
     "output_type": "stream",
     "text": [
      "+-----+--------------------+------------+--------------------+----+-------------+\n",
      "|event|     event_timestamp|    fruit_id|          fruit_name|user|my_list_udf()|\n",
      "+-----+--------------------+------------+--------------------+----+-------------+\n",
      "|login|20223-01-20 00:00:00|   [1, 2, 3]|[apple, banana, o...| Ana|    [a, b, c]|\n",
      "|click|20223-01-20 00:01:00|[4, 5, 6, 7]|[pineapple, melon...|Elsa|    [a, b, c]|\n",
      "| swap|20223-01-20 00:02:00|      [1, 2]|[strawberry, blue...|Olaf|    [a, b, c]|\n",
      "+-----+--------------------+------------+--------------------+----+-------------+\n",
      "\n"
     ]
    }
   ],
   "source": [
    "df = spark.sql(\n",
    "'''\n",
    "select *, my_list_udf() \n",
    "from df_events\n",
    "'''\n",
    ")\n",
    "\n",
    "df.show()"
   ]
  },
  {
   "cell_type": "markdown",
   "id": "1241a1c2",
   "metadata": {},
   "source": [
    "### create a UDF to zip the fruits and ids in one list"
   ]
  },
  {
   "cell_type": "markdown",
   "id": "c0c96c50",
   "metadata": {},
   "source": [
    "this udf return a string that represent a list of lists."
   ]
  },
  {
   "cell_type": "code",
   "execution_count": 138,
   "id": "b37900b0",
   "metadata": {},
   "outputs": [
    {
     "name": "stdout",
     "output_type": "stream",
     "text": [
      "<class 'list'>\n",
      "[1,apple]\n",
      "[2,banana]\n",
      "[3,orange]\n"
     ]
    }
   ],
   "source": [
    "def zip_fruits( a1, a2 ):\n",
    "    \n",
    "    a = []\n",
    "    for i in range( 0, len(a1)  ):\n",
    "        pair = '[{},{}]'.format( a1[i], a2[i] )\n",
    "        a.append( pair )\n",
    "    a = a\n",
    "    return a\n",
    "\n",
    "\n",
    "a1 = [1, 2, 3]\n",
    "a2 = [ 'apple', 'banana', 'orange' ]\n",
    "a = zip_fruits( a1, a2 )\n",
    "\n",
    "print( type( a ) )\n",
    "for i in a:\n",
    "    print( i )\n",
    "\n"
   ]
  },
  {
   "cell_type": "markdown",
   "id": "d377fb47",
   "metadata": {},
   "source": [
    "### register UDF to use it in SQL queries"
   ]
  },
  {
   "cell_type": "code",
   "execution_count": 143,
   "id": "85a080ad",
   "metadata": {},
   "outputs": [
    {
     "name": "stderr",
     "output_type": "stream",
     "text": [
      "23/06/09 11:09:13 WARN SimpleFunctionRegistry: The function zip_fruits_udf replaced a previously registered function.\n"
     ]
    },
    {
     "data": {
      "text/plain": [
       "<function __main__.zip_fruits(a1, a2)>"
      ]
     },
     "execution_count": 143,
     "metadata": {},
     "output_type": "execute_result"
    }
   ],
   "source": [
    "spark.udf.register( 'zip_fruits_udf', zip_fruits, ArrayType( StringType() ) )"
   ]
  },
  {
   "cell_type": "code",
   "execution_count": 144,
   "id": "fd27e7b5",
   "metadata": {},
   "outputs": [
    {
     "name": "stdout",
     "output_type": "stream",
     "text": [
      "+-----+--------------------+------------+--------------------+----+--------------------+\n",
      "|event|     event_timestamp|    fruit_id|          fruit_name|user|              fruits|\n",
      "+-----+--------------------+------------+--------------------+----+--------------------+\n",
      "|login|20223-01-20 00:00:00|   [1, 2, 3]|[apple, banana, o...| Ana|[[1,apple], [2,ba...|\n",
      "|click|20223-01-20 00:01:00|[4, 5, 6, 7]|[pineapple, melon...|Elsa|[[4,pineapple], [...|\n",
      "| swap|20223-01-20 00:02:00|      [1, 2]|[strawberry, blue...|Olaf|[[1,strawberry], ...|\n",
      "+-----+--------------------+------------+--------------------+----+--------------------+\n",
      "\n"
     ]
    }
   ],
   "source": [
    "df = spark.sql(\n",
    "'''\n",
    "select *, zip_fruits_udf( fruit_id, fruit_name ) as fruits\n",
    "from df_events\n",
    "'''\n",
    ")\n",
    "\n",
    "df.show()\n"
   ]
  },
  {
   "cell_type": "markdown",
   "id": "62e68fa6",
   "metadata": {},
   "source": [
    "### Explode (flatmap) the fruits column"
   ]
  },
  {
   "cell_type": "code",
   "execution_count": 145,
   "id": "fa153e42",
   "metadata": {},
   "outputs": [
    {
     "name": "stdout",
     "output_type": "stream",
     "text": [
      "+-----+--------------------+----+--------------------+\n",
      "|event|     event_timestamp|user|              fruits|\n",
      "+-----+--------------------+----+--------------------+\n",
      "|login|20223-01-20 00:00:00| Ana|[[1,apple], [2,ba...|\n",
      "|click|20223-01-20 00:01:00|Elsa|[[4,pineapple], [...|\n",
      "| swap|20223-01-20 00:02:00|Olaf|[[1,strawberry], ...|\n",
      "+-----+--------------------+----+--------------------+\n",
      "\n"
     ]
    }
   ],
   "source": [
    "df2 = df.select( 'event', 'event_timestamp', 'user', 'fruits') \n",
    "    \n",
    "df2.show()"
   ]
  },
  {
   "cell_type": "code",
   "execution_count": 146,
   "id": "872dab1e",
   "metadata": {},
   "outputs": [
    {
     "name": "stdout",
     "output_type": "stream",
     "text": [
      "+----+--------------+\n",
      "|user|           col|\n",
      "+----+--------------+\n",
      "| Ana|     [1,apple]|\n",
      "| Ana|    [2,banana]|\n",
      "| Ana|    [3,orange]|\n",
      "|Elsa| [4,pineapple]|\n",
      "|Elsa|     [5,melon]|\n",
      "|Elsa|[6,watermelon]|\n",
      "|Elsa|    [7,papaya]|\n",
      "|Olaf|[1,strawberry]|\n",
      "|Olaf| [2,blueberry]|\n",
      "+----+--------------+\n",
      "\n"
     ]
    }
   ],
   "source": [
    "df2 = df.select( df.user, explode( df.fruits ) ) \n",
    "    \n",
    "df2.show()\n",
    "\n",
    "\n"
   ]
  },
  {
   "cell_type": "code",
   "execution_count": 33,
   "id": "15f59555",
   "metadata": {},
   "outputs": [],
   "source": []
  },
  {
   "cell_type": "code",
   "execution_count": 34,
   "id": "d7caeae8",
   "metadata": {},
   "outputs": [
    {
     "name": "stdout",
     "output_type": "stream",
     "text": [
      "+-----+--------------------+------------+--------------------+----+--------+\n",
      "|event|     event_timestamp|    fruit_id|          fruit_name|user|first_id|\n",
      "+-----+--------------------+------------+--------------------+----+--------+\n",
      "|login|20223-01-20 00:00:00|   [1, 2, 3]|[apple, banana, o...| Ana|       1|\n",
      "|click|20223-01-20 00:01:00|[4, 5, 6, 7]|[pineapple, melon...|Elsa|       4|\n",
      "| swap|20223-01-20 00:02:00|      [1, 2]|[strawberry, blue...|Olaf|       1|\n",
      "+-----+--------------------+------------+--------------------+----+--------+\n",
      "\n"
     ]
    }
   ],
   "source": [
    "df.show()"
   ]
  },
  {
   "cell_type": "code",
   "execution_count": null,
   "id": "1fef891e",
   "metadata": {},
   "outputs": [],
   "source": []
  }
 ],
 "metadata": {
  "kernelspec": {
   "display_name": "Python 3 (ipykernel)",
   "language": "python",
   "name": "python3"
  },
  "language_info": {
   "codemirror_mode": {
    "name": "ipython",
    "version": 3
   },
   "file_extension": ".py",
   "mimetype": "text/x-python",
   "name": "python",
   "nbconvert_exporter": "python",
   "pygments_lexer": "ipython3",
   "version": "3.10.11"
  }
 },
 "nbformat": 4,
 "nbformat_minor": 5
}
