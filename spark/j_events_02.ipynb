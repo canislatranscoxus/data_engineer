{
 "cells": [
  {
   "cell_type": "code",
   "execution_count": 126,
   "id": "d71ccf53",
   "metadata": {},
   "outputs": [],
   "source": [
    "from IPython.display   import display, HTML\n",
    "\n",
    "import findspark\n",
    "findspark.init()\n",
    "\n",
    "import pyspark\n",
    "from pyspark.sql           import SparkSession\n",
    "from pyspark.sql.functions import col, explode, udf\n",
    "from pyspark.sql.types     import Row, LongType, StringType, ArrayType\n",
    "\n",
    "\n",
    "from datetime          import datetime"
   ]
  },
  {
   "cell_type": "code",
   "execution_count": 94,
   "id": "20639938",
   "metadata": {},
   "outputs": [],
   "source": [
    "spark = SparkSession.builder  \\\n",
    "        .appName( 'json 01' ) \\\n",
    "        .getOrCreate()"
   ]
  },
  {
   "cell_type": "code",
   "execution_count": 95,
   "id": "973e61dc",
   "metadata": {},
   "outputs": [],
   "source": [
    "df_01 = spark.read \\\n",
    "     .format( 'json' ) \\\n",
    "     .load( '/home/art/data/tiny/j01.json', multiLine= True )"
   ]
  },
  {
   "cell_type": "code",
   "execution_count": 96,
   "id": "ba568ee5",
   "metadata": {},
   "outputs": [
    {
     "name": "stdout",
     "output_type": "stream",
     "text": [
      "+------+--------------------+--------------------+---------+-------+\n",
      "|animal|       date_of_birth|                food| fruit_id|   name|\n",
      "+------+--------------------+--------------------+---------+-------+\n",
      "|   cat|20221-05-20 08:00:00|[salmon, meat, cr...|[1, 2, 3]|Patitas|\n",
      "+------+--------------------+--------------------+---------+-------+\n",
      "\n"
     ]
    }
   ],
   "source": [
    "df_01.show()"
   ]
  },
  {
   "cell_type": "code",
   "execution_count": 97,
   "id": "b0cd49ed",
   "metadata": {},
   "outputs": [],
   "source": [
    "df_01 = spark.read \\\n",
    "        .json( '/home/art/data/tiny/j01.json', multiLine= True )"
   ]
  },
  {
   "cell_type": "code",
   "execution_count": 98,
   "id": "0cd46a88",
   "metadata": {},
   "outputs": [
    {
     "name": "stdout",
     "output_type": "stream",
     "text": [
      "+------+--------------------+--------------------+---------+-------+\n",
      "|animal|       date_of_birth|                food| fruit_id|   name|\n",
      "+------+--------------------+--------------------+---------+-------+\n",
      "|   cat|20221-05-20 08:00:00|[salmon, meat, cr...|[1, 2, 3]|Patitas|\n",
      "+------+--------------------+--------------------+---------+-------+\n",
      "\n"
     ]
    }
   ],
   "source": [
    "df_01.show()"
   ]
  },
  {
   "cell_type": "code",
   "execution_count": null,
   "id": "eacebea5",
   "metadata": {},
   "outputs": [],
   "source": []
  },
  {
   "cell_type": "code",
   "execution_count": null,
   "id": "583ede94",
   "metadata": {},
   "outputs": [],
   "source": []
  },
  {
   "cell_type": "code",
   "execution_count": null,
   "id": "fd0c2c8f",
   "metadata": {},
   "outputs": [],
   "source": []
  },
  {
   "cell_type": "code",
   "execution_count": null,
   "id": "10e4b77a",
   "metadata": {},
   "outputs": [],
   "source": []
  },
  {
   "cell_type": "code",
   "execution_count": 99,
   "id": "7e7329a6",
   "metadata": {},
   "outputs": [
    {
     "name": "stdout",
     "output_type": "stream",
     "text": [
      "+---+-----------------------------------------------------------------------------+\n",
      "|id |value                                                                        |\n",
      "+---+-----------------------------------------------------------------------------+\n",
      "|1  |{\"Zipcode\":704, \"ZipCodeType\":\"STANDARD\", \"City\":\"PARC PARQUE\", \"State\":\"PR\"}|\n",
      "+---+-----------------------------------------------------------------------------+\n",
      "\n"
     ]
    }
   ],
   "source": [
    "jsonString=\"\"\"{\"Zipcode\":704, \"ZipCodeType\":\"STANDARD\", \"City\":\"PARC PARQUE\", \"State\":\"PR\"}\"\"\"\n",
    "df=spark.createDataFrame([(1, jsonString)],[\"id\",\"value\"])\n",
    "df.show(truncate=False)"
   ]
  },
  {
   "cell_type": "markdown",
   "id": "2cf3b2dd",
   "metadata": {},
   "source": [
    "## Reading an array of jsons"
   ]
  },
  {
   "cell_type": "code",
   "execution_count": null,
   "id": "6c8c1ca0",
   "metadata": {},
   "outputs": [],
   "source": []
  },
  {
   "cell_type": "code",
   "execution_count": 100,
   "id": "19887dc1",
   "metadata": {},
   "outputs": [],
   "source": [
    "df_events = spark.read  \\\n",
    "            .json( '/home/art/data/tiny/events.json', multiLine= True )\n"
   ]
  },
  {
   "cell_type": "code",
   "execution_count": 101,
   "id": "5d0ba47d",
   "metadata": {},
   "outputs": [
    {
     "name": "stdout",
     "output_type": "stream",
     "text": [
      "+-----+--------------------+------------+--------------------+----+\n",
      "|event|     event_timestamp|    fruit_id|          fruit_name|user|\n",
      "+-----+--------------------+------------+--------------------+----+\n",
      "|login|20223-01-20 00:00:00|   [1, 2, 3]|[apple, banana, o...| Ana|\n",
      "|click|20223-01-20 00:01:00|[4, 5, 6, 7]|[pineapple, melon...|Elsa|\n",
      "| swap|20223-01-20 00:02:00|      [1, 2]|[strawberry, blue...|Olaf|\n",
      "+-----+--------------------+------------+--------------------+----+\n",
      "\n"
     ]
    }
   ],
   "source": [
    "df_events.show()"
   ]
  },
  {
   "cell_type": "markdown",
   "id": "24b0157a",
   "metadata": {},
   "source": [
    "### register dataframe to use SQL queries"
   ]
  },
  {
   "cell_type": "code",
   "execution_count": 106,
   "id": "1cfb3c29",
   "metadata": {},
   "outputs": [],
   "source": [
    "df_events.createOrReplaceTempView( 'df_events' )"
   ]
  },
  {
   "cell_type": "code",
   "execution_count": 107,
   "id": "5b147f82",
   "metadata": {},
   "outputs": [],
   "source": [
    "\n",
    "\n",
    "df = spark.sql( ''' select *, fruit_id[0] as first_id\n",
    "     from df_events\n",
    "\n",
    "'''\n",
    "\n",
    ")"
   ]
  },
  {
   "cell_type": "code",
   "execution_count": 108,
   "id": "1fc1de98",
   "metadata": {},
   "outputs": [
    {
     "name": "stdout",
     "output_type": "stream",
     "text": [
      "+-----+--------------------+------------+--------------------+----+--------+\n",
      "|event|     event_timestamp|    fruit_id|          fruit_name|user|first_id|\n",
      "+-----+--------------------+------------+--------------------+----+--------+\n",
      "|login|20223-01-20 00:00:00|   [1, 2, 3]|[apple, banana, o...| Ana|       1|\n",
      "|click|20223-01-20 00:01:00|[4, 5, 6, 7]|[pineapple, melon...|Elsa|       4|\n",
      "| swap|20223-01-20 00:02:00|      [1, 2]|[strawberry, blue...|Olaf|       1|\n",
      "+-----+--------------------+------------+--------------------+----+--------+\n",
      "\n"
     ]
    }
   ],
   "source": [
    "df.show()"
   ]
  },
  {
   "cell_type": "markdown",
   "id": "c909da0a",
   "metadata": {},
   "source": [
    "### create a simple UDF - return string"
   ]
  },
  {
   "cell_type": "code",
   "execution_count": 102,
   "id": "c27ddd6f",
   "metadata": {},
   "outputs": [
    {
     "name": "stdout",
     "output_type": "stream",
     "text": [
      "*** KITTY ***\n"
     ]
    }
   ],
   "source": [
    "def my_stars( s ):\n",
    "    r = '*** ' +  s.upper() + ' ***'\n",
    "    return r\n",
    "\n",
    "s1 = 'kitty'\n",
    "\n",
    "s2 = my_stars( s1 )\n",
    "print( s2 )\n",
    "\n"
   ]
  },
  {
   "cell_type": "code",
   "execution_count": 105,
   "id": "883d44fa",
   "metadata": {},
   "outputs": [
    {
     "data": {
      "text/plain": [
       "<function __main__.my_stars(s)>"
      ]
     },
     "execution_count": 105,
     "metadata": {},
     "output_type": "execute_result"
    }
   ],
   "source": [
    "#spark.udf.register( 'my_stars', 'my_stars', StringType() )\n",
    "\n",
    "spark.udf.register( 'my_stars_udf', my_stars )\n"
   ]
  },
  {
   "cell_type": "code",
   "execution_count": 110,
   "id": "9a8f7974",
   "metadata": {},
   "outputs": [
    {
     "name": "stdout",
     "output_type": "stream",
     "text": [
      "+-----+--------------------+------------+--------------------+----+------------+\n",
      "|event|     event_timestamp|    fruit_id|          fruit_name|user|    vip_user|\n",
      "+-----+--------------------+------------+--------------------+----+------------+\n",
      "|login|20223-01-20 00:00:00|   [1, 2, 3]|[apple, banana, o...| Ana| *** ANA ***|\n",
      "|click|20223-01-20 00:01:00|[4, 5, 6, 7]|[pineapple, melon...|Elsa|*** ELSA ***|\n",
      "| swap|20223-01-20 00:02:00|      [1, 2]|[strawberry, blue...|Olaf|*** OLAF ***|\n",
      "+-----+--------------------+------------+--------------------+----+------------+\n",
      "\n"
     ]
    }
   ],
   "source": [
    "df = spark.sql(\n",
    "'''\n",
    "select *, my_stars_udf( user ) as vip_user\n",
    "from df_events\n",
    "'''\n",
    ")\n",
    "\n",
    "df.show()\n"
   ]
  },
  {
   "cell_type": "markdown",
   "id": "30f77b23",
   "metadata": {},
   "source": [
    "### create udf - array of string"
   ]
  },
  {
   "cell_type": "code",
   "execution_count": 111,
   "id": "ef9bd391",
   "metadata": {},
   "outputs": [
    {
     "name": "stdout",
     "output_type": "stream",
     "text": [
      "['a', 'b', 'c']\n"
     ]
    }
   ],
   "source": [
    "def my_list( ):\n",
    "    return [ 'a', 'b', 'c' ]\n",
    "\n",
    "\n",
    "a = my_list()\n",
    "print( a )\n"
   ]
  },
  {
   "cell_type": "code",
   "execution_count": 112,
   "id": "6914337f",
   "metadata": {},
   "outputs": [
    {
     "data": {
      "text/plain": [
       "<function __main__.my_list()>"
      ]
     },
     "execution_count": 112,
     "metadata": {},
     "output_type": "execute_result"
    }
   ],
   "source": [
    "spark.udf.register( 'my_list_udf', my_list, ArrayType( StringType() ) )\n"
   ]
  },
  {
   "cell_type": "code",
   "execution_count": 115,
   "id": "9d3d5191",
   "metadata": {},
   "outputs": [
    {
     "name": "stdout",
     "output_type": "stream",
     "text": [
      "+-----+--------------------+------------+--------------------+----+-------------+\n",
      "|event|     event_timestamp|    fruit_id|          fruit_name|user|my_list_udf()|\n",
      "+-----+--------------------+------------+--------------------+----+-------------+\n",
      "|login|20223-01-20 00:00:00|   [1, 2, 3]|[apple, banana, o...| Ana|    [a, b, c]|\n",
      "|click|20223-01-20 00:01:00|[4, 5, 6, 7]|[pineapple, melon...|Elsa|    [a, b, c]|\n",
      "| swap|20223-01-20 00:02:00|      [1, 2]|[strawberry, blue...|Olaf|    [a, b, c]|\n",
      "+-----+--------------------+------------+--------------------+----+-------------+\n",
      "\n"
     ]
    }
   ],
   "source": [
    "df = spark.sql(\n",
    "'''\n",
    "select *, my_list_udf() \n",
    "from df_events\n",
    "'''\n",
    ")\n",
    "\n",
    "df.show()"
   ]
  },
  {
   "cell_type": "markdown",
   "id": "946ebd56",
   "metadata": {},
   "source": [
    "### create a UDF to zip the fruits and ids in one list"
   ]
  },
  {
   "cell_type": "markdown",
   "id": "d5792b54",
   "metadata": {},
   "source": [
    "this udf return a string that represent a list of lists."
   ]
  },
  {
   "cell_type": "code",
   "execution_count": 147,
   "id": "40e30c52",
   "metadata": {},
   "outputs": [
    {
     "name": "stdout",
     "output_type": "stream",
     "text": [
      "<class 'list'>\n",
      "[1, 'apple']\n",
      "[2, 'banana']\n",
      "[3, 'orange']\n"
     ]
    }
   ],
   "source": [
    "def zip_fruits( a1, a2 ):\n",
    "    \n",
    "    a = []\n",
    "    for i in range( 0, len(a1)  ):\n",
    "        pair = [ a1[i], a2[i] ]\n",
    "        a.append( pair )\n",
    "    a = a\n",
    "    return a\n",
    "\n",
    "\n",
    "a1 = [1, 2, 3]\n",
    "a2 = [ 'apple', 'banana', 'orange' ]\n",
    "a = zip_fruits( a1, a2 )\n",
    "\n",
    "print( type( a ) )\n",
    "for i in a:\n",
    "    print( i )\n",
    "\n"
   ]
  },
  {
   "cell_type": "markdown",
   "id": "409d8a26",
   "metadata": {},
   "source": [
    "### register UDF to use it in SQL queries"
   ]
  },
  {
   "cell_type": "code",
   "execution_count": 148,
   "id": "de065e6b",
   "metadata": {},
   "outputs": [
    {
     "name": "stderr",
     "output_type": "stream",
     "text": [
      "23/06/09 11:13:29 WARN SimpleFunctionRegistry: The function zip_fruits_udf replaced a previously registered function.\n"
     ]
    },
    {
     "data": {
      "text/plain": [
       "<function __main__.zip_fruits(a1, a2)>"
      ]
     },
     "execution_count": 148,
     "metadata": {},
     "output_type": "execute_result"
    }
   ],
   "source": [
    "spark.udf.register( 'zip_fruits_udf', zip_fruits, ArrayType( ArrayType( StringType() ) ) ) "
   ]
  },
  {
   "cell_type": "code",
   "execution_count": 149,
   "id": "78ad8025",
   "metadata": {},
   "outputs": [
    {
     "name": "stdout",
     "output_type": "stream",
     "text": [
      "+-----+--------------------+------------+--------------------+----+--------------------+\n",
      "|event|     event_timestamp|    fruit_id|          fruit_name|user|              fruits|\n",
      "+-----+--------------------+------------+--------------------+----+--------------------+\n",
      "|login|20223-01-20 00:00:00|   [1, 2, 3]|[apple, banana, o...| Ana|[[1, apple], [2, ...|\n",
      "|click|20223-01-20 00:01:00|[4, 5, 6, 7]|[pineapple, melon...|Elsa|[[4, pineapple], ...|\n",
      "| swap|20223-01-20 00:02:00|      [1, 2]|[strawberry, blue...|Olaf|[[1, strawberry],...|\n",
      "+-----+--------------------+------------+--------------------+----+--------------------+\n",
      "\n"
     ]
    }
   ],
   "source": [
    "df = spark.sql(\n",
    "'''\n",
    "select *, zip_fruits_udf( fruit_id, fruit_name ) as fruits\n",
    "from df_events\n",
    "'''\n",
    ")\n",
    "\n",
    "df.show()\n"
   ]
  },
  {
   "cell_type": "markdown",
   "id": "a85cc807",
   "metadata": {},
   "source": [
    "### Explode (flatmap) the fruits column"
   ]
  },
  {
   "cell_type": "code",
   "execution_count": 150,
   "id": "88562d44",
   "metadata": {},
   "outputs": [
    {
     "name": "stdout",
     "output_type": "stream",
     "text": [
      "+-----+--------------------+----+--------------------+\n",
      "|event|     event_timestamp|user|              fruits|\n",
      "+-----+--------------------+----+--------------------+\n",
      "|login|20223-01-20 00:00:00| Ana|[[1, apple], [2, ...|\n",
      "|click|20223-01-20 00:01:00|Elsa|[[4, pineapple], ...|\n",
      "| swap|20223-01-20 00:02:00|Olaf|[[1, strawberry],...|\n",
      "+-----+--------------------+----+--------------------+\n",
      "\n"
     ]
    }
   ],
   "source": [
    "df2 = df.select( 'event', 'event_timestamp', 'user', 'fruits') \n",
    "    \n",
    "df2.show()"
   ]
  },
  {
   "cell_type": "code",
   "execution_count": 151,
   "id": "3ad12c5b",
   "metadata": {},
   "outputs": [
    {
     "name": "stdout",
     "output_type": "stream",
     "text": [
      "+----+---------------+\n",
      "|user|            col|\n",
      "+----+---------------+\n",
      "| Ana|     [1, apple]|\n",
      "| Ana|    [2, banana]|\n",
      "| Ana|    [3, orange]|\n",
      "|Elsa| [4, pineapple]|\n",
      "|Elsa|     [5, melon]|\n",
      "|Elsa|[6, watermelon]|\n",
      "|Elsa|    [7, papaya]|\n",
      "|Olaf|[1, strawberry]|\n",
      "|Olaf| [2, blueberry]|\n",
      "+----+---------------+\n",
      "\n"
     ]
    }
   ],
   "source": [
    "df2 = df.select( df.user, explode( df.fruits ) ) \n",
    "    \n",
    "df2.show()\n",
    "\n",
    "\n"
   ]
  },
  {
   "cell_type": "markdown",
   "id": "245da19d",
   "metadata": {},
   "source": [
    "### explode in SQL"
   ]
  },
  {
   "cell_type": "code",
   "execution_count": 157,
   "id": "ab7e3747",
   "metadata": {},
   "outputs": [],
   "source": [
    "df.createOrReplaceTempView( 'df' )"
   ]
  },
  {
   "cell_type": "code",
   "execution_count": 163,
   "id": "cacf6613",
   "metadata": {},
   "outputs": [
    {
     "name": "stdout",
     "output_type": "stream",
     "text": [
      "+-----+----+---------------+\n",
      "|event|user|         fruits|\n",
      "+-----+----+---------------+\n",
      "|login| Ana|     [1, apple]|\n",
      "|login| Ana|    [2, banana]|\n",
      "|login| Ana|    [3, orange]|\n",
      "|click|Elsa| [4, pineapple]|\n",
      "|click|Elsa|     [5, melon]|\n",
      "|click|Elsa|[6, watermelon]|\n",
      "|click|Elsa|    [7, papaya]|\n",
      "| swap|Olaf|[1, strawberry]|\n",
      "| swap|Olaf| [2, blueberry]|\n",
      "+-----+----+---------------+\n",
      "\n"
     ]
    },
    {
     "name": "stderr",
     "output_type": "stream",
     "text": [
      "----------------------------------------\n",
      "Exception occurred during processing of request from ('127.0.0.1', 33612)\n",
      "Traceback (most recent call last):\n",
      "  File \"/usr/lib/python3.10/socketserver.py\", line 316, in _handle_request_noblock\n",
      "    self.process_request(request, client_address)\n",
      "  File \"/usr/lib/python3.10/socketserver.py\", line 347, in process_request\n",
      "    self.finish_request(request, client_address)\n",
      "  File \"/usr/lib/python3.10/socketserver.py\", line 360, in finish_request\n",
      "    self.RequestHandlerClass(request, client_address, self)\n",
      "  File \"/usr/lib/python3.10/socketserver.py\", line 747, in __init__\n",
      "    self.handle()\n",
      "  File \"/home/art/git/data_engineer/venv/lib/python3.10/site-packages/pyspark/accumulators.py\", line 281, in handle\n",
      "    poll(accum_updates)\n",
      "  File \"/home/art/git/data_engineer/venv/lib/python3.10/site-packages/pyspark/accumulators.py\", line 253, in poll\n",
      "    if func():\n",
      "  File \"/home/art/git/data_engineer/venv/lib/python3.10/site-packages/pyspark/accumulators.py\", line 257, in accum_updates\n",
      "    num_updates = read_int(self.rfile)\n",
      "  File \"/home/art/git/data_engineer/venv/lib/python3.10/site-packages/pyspark/serializers.py\", line 596, in read_int\n",
      "    raise EOFError\n",
      "EOFError\n",
      "----------------------------------------\n"
     ]
    }
   ],
   "source": [
    "df3 = spark.sql(\n",
    "'''\n",
    "select event, user, explode( fruits ) as fruits\n",
    "from df\n",
    "'''\n",
    ")\n",
    "df3.show()"
   ]
  },
  {
   "cell_type": "code",
   "execution_count": null,
   "id": "9792cb80",
   "metadata": {},
   "outputs": [],
   "source": []
  },
  {
   "cell_type": "code",
   "execution_count": null,
   "id": "b7d9ec85",
   "metadata": {},
   "outputs": [],
   "source": []
  },
  {
   "cell_type": "code",
   "execution_count": null,
   "id": "05d137af",
   "metadata": {},
   "outputs": [],
   "source": []
  }
 ],
 "metadata": {
  "kernelspec": {
   "display_name": "Python 3 (ipykernel)",
   "language": "python",
   "name": "python3"
  },
  "language_info": {
   "codemirror_mode": {
    "name": "ipython",
    "version": 3
   },
   "file_extension": ".py",
   "mimetype": "text/x-python",
   "name": "python",
   "nbconvert_exporter": "python",
   "pygments_lexer": "ipython3",
   "version": "3.10.11"
  }
 },
 "nbformat": 4,
 "nbformat_minor": 5
}
