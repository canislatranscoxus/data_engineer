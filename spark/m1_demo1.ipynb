{
 "cells": [
  {
   "cell_type": "markdown",
   "id": "9fb9a901",
   "metadata": {},
   "source": [
    "# m1 demo1"
   ]
  },
  {
   "cell_type": "code",
   "execution_count": 1,
   "id": "8dccae65",
   "metadata": {},
   "outputs": [
    {
     "data": {
      "text/plain": [
       "'\\nfrom IPython.core.interactiveshell import InteractiveShell\\nInteractiveShell.ast_node_interactivity = \"all\"\\n'"
      ]
     },
     "execution_count": 1,
     "metadata": {},
     "output_type": "execute_result"
    }
   ],
   "source": [
    "from IPython.display      import HTML, display\n",
    "\n",
    "'''\n",
    "from IPython.core.interactiveshell import InteractiveShell\n",
    "InteractiveShell.ast_node_interactivity = \"all\"\n",
    "'''\n"
   ]
  },
  {
   "cell_type": "code",
   "execution_count": 1,
   "id": "05ff172b",
   "metadata": {},
   "outputs": [],
   "source": [
    "import findspark\n",
    "findspark.init()\n",
    "\n",
    "import pyspark\n",
    "from pyspark.context   import SparkContext\n",
    "from pyspark.sql       import SparkSession\n",
    "from pyspark.sql.types import Row\n",
    "from datetime          import datetime"
   ]
  },
  {
   "cell_type": "code",
   "execution_count": 3,
   "id": "a80e2e1d",
   "metadata": {},
   "outputs": [],
   "source": []
  },
  {
   "cell_type": "code",
   "execution_count": 4,
   "id": "ef984afb",
   "metadata": {},
   "outputs": [
    {
     "name": "stderr",
     "output_type": "stream",
     "text": [
      "Setting default log level to \"WARN\".\n",
      "To adjust logging level use sc.setLogLevel(newLevel). For SparkR, use setLogLevel(newLevel).\n",
      "23/06/08 12:47:09 WARN NativeCodeLoader: Unable to load native-hadoop library for your platform... using builtin-java classes where applicable\n"
     ]
    }
   ],
   "source": [
    "sc = SparkContext( 'local', 'my spark context' )"
   ]
  },
  {
   "cell_type": "code",
   "execution_count": 5,
   "id": "10b2ee06",
   "metadata": {},
   "outputs": [
    {
     "data": {
      "text/html": [
       "\n",
       "        <div>\n",
       "            <p><b>SparkContext</b></p>\n",
       "\n",
       "            <p><a href=\"http://heart-wings:4040\">Spark UI</a></p>\n",
       "\n",
       "            <dl>\n",
       "              <dt>Version</dt>\n",
       "                <dd><code>v3.4.0</code></dd>\n",
       "              <dt>Master</dt>\n",
       "                <dd><code>local</code></dd>\n",
       "              <dt>AppName</dt>\n",
       "                <dd><code>my spark context</code></dd>\n",
       "            </dl>\n",
       "        </div>\n",
       "        "
      ],
      "text/plain": [
       "<SparkContext master=local appName=my spark context>"
      ]
     },
     "execution_count": 5,
     "metadata": {},
     "output_type": "execute_result"
    }
   ],
   "source": [
    "sc"
   ]
  },
  {
   "cell_type": "code",
   "execution_count": 15,
   "id": "5496c133",
   "metadata": {},
   "outputs": [],
   "source": [
    "my_data = [[1, \"Alice\", 50], [2, \"Bob\", 80]]"
   ]
  },
  {
   "cell_type": "code",
   "execution_count": null,
   "id": "685e8fae",
   "metadata": {},
   "outputs": [],
   "source": []
  },
  {
   "cell_type": "code",
   "execution_count": 16,
   "id": "17267c90",
   "metadata": {},
   "outputs": [],
   "source": [
    "spark = SparkSession.builder.appName( 'm1_demo1' ).getOrCreate()"
   ]
  },
  {
   "cell_type": "code",
   "execution_count": 17,
   "id": "a372fe12",
   "metadata": {},
   "outputs": [
    {
     "data": {
      "text/plain": [
       "ParallelCollectionRDD[9] at readRDDFromFile at PythonRDD.scala:287"
      ]
     },
     "execution_count": 17,
     "metadata": {},
     "output_type": "execute_result"
    }
   ],
   "source": [
    "records = spark.sparkContext.parallelize( my_data )\n",
    "records"
   ]
  },
  {
   "cell_type": "code",
   "execution_count": 18,
   "id": "9804e26e",
   "metadata": {},
   "outputs": [
    {
     "data": {
      "text/plain": [
       "2"
      ]
     },
     "execution_count": 18,
     "metadata": {},
     "output_type": "execute_result"
    }
   ],
   "source": [
    "records.count()"
   ]
  },
  {
   "cell_type": "code",
   "execution_count": 19,
   "id": "e842ef1b",
   "metadata": {},
   "outputs": [
    {
     "data": {
      "text/plain": [
       "[[1, 'Alice', 50], [2, 'Bob', 80]]"
      ]
     },
     "execution_count": 19,
     "metadata": {},
     "output_type": "execute_result"
    }
   ],
   "source": [
    "records.collect()"
   ]
  },
  {
   "cell_type": "code",
   "execution_count": 20,
   "id": "8d037353",
   "metadata": {},
   "outputs": [],
   "source": [
    "df = records.toDF()"
   ]
  },
  {
   "cell_type": "code",
   "execution_count": 21,
   "id": "5851b749",
   "metadata": {},
   "outputs": [
    {
     "data": {
      "text/plain": [
       "DataFrame[_1: bigint, _2: string, _3: bigint]"
      ]
     },
     "metadata": {},
     "output_type": "display_data"
    }
   ],
   "source": [
    "display( df )"
   ]
  },
  {
   "cell_type": "code",
   "execution_count": 22,
   "id": "3a58479a",
   "metadata": {},
   "outputs": [
    {
     "name": "stdout",
     "output_type": "stream",
     "text": [
      "+---+-----+---+\n",
      "| _1|   _2| _3|\n",
      "+---+-----+---+\n",
      "|  1|Alice| 50|\n",
      "|  2|  Bob| 80|\n",
      "+---+-----+---+\n",
      "\n"
     ]
    }
   ],
   "source": [
    "df.show()"
   ]
  },
  {
   "cell_type": "code",
   "execution_count": 25,
   "id": "629745dd",
   "metadata": {},
   "outputs": [],
   "source": [
    "rdd2 = spark.sparkContext.parallelize( [ Row( id = 3, name= 'Doja', score= 9 ) ] )"
   ]
  },
  {
   "cell_type": "code",
   "execution_count": 26,
   "id": "3916718f",
   "metadata": {},
   "outputs": [],
   "source": [
    "df2 = rdd2.toDF()"
   ]
  },
  {
   "cell_type": "code",
   "execution_count": 28,
   "id": "c037d2d1",
   "metadata": {},
   "outputs": [
    {
     "name": "stdout",
     "output_type": "stream",
     "text": [
      "+---+----+-----+\n",
      "| id|name|score|\n",
      "+---+----+-----+\n",
      "|  3|Doja|    9|\n",
      "+---+----+-----+\n",
      "\n"
     ]
    }
   ],
   "source": [
    "df2.show()"
   ]
  },
  {
   "cell_type": "code",
   "execution_count": 32,
   "id": "87078fad",
   "metadata": {},
   "outputs": [],
   "source": [
    "df3 = spark.range( 5 )"
   ]
  },
  {
   "cell_type": "code",
   "execution_count": 34,
   "id": "6cda0191",
   "metadata": {},
   "outputs": [
    {
     "name": "stdout",
     "output_type": "stream",
     "text": [
      "+---+\n",
      "| id|\n",
      "+---+\n",
      "|  0|\n",
      "|  1|\n",
      "|  2|\n",
      "|  3|\n",
      "|  4|\n",
      "+---+\n",
      "\n"
     ]
    }
   ],
   "source": [
    "df3.show()"
   ]
  },
  {
   "cell_type": "code",
   "execution_count": 36,
   "id": "cefd2547",
   "metadata": {},
   "outputs": [
    {
     "name": "stdout",
     "output_type": "stream",
     "text": [
      "+---+-----+---+\n",
      "| _1|   _2| _3|\n",
      "+---+-----+---+\n",
      "|  1|Alice| 50|\n",
      "|  2|  Bob| 80|\n",
      "+---+-----+---+\n",
      "\n"
     ]
    }
   ],
   "source": [
    "df4 = spark.createDataFrame( my_data )\n",
    "df4.show()"
   ]
  },
  {
   "cell_type": "markdown",
   "id": "878a7dc8",
   "metadata": {},
   "source": [
    "### Convert rdd to DataFrame"
   ]
  },
  {
   "cell_type": "code",
   "execution_count": 37,
   "id": "206a5ffd",
   "metadata": {},
   "outputs": [
    {
     "name": "stdout",
     "output_type": "stream",
     "text": [
      "+---+-----+-----+\n",
      "| id| name|score|\n",
      "+---+-----+-----+\n",
      "|  1|Alice|   50|\n",
      "|  2|  Bob|   80|\n",
      "+---+-----+-----+\n",
      "\n"
     ]
    }
   ],
   "source": [
    "df4 = spark.createDataFrame( my_data, [ 'id', 'name', 'score' ] )\n",
    "df4.show()"
   ]
  },
  {
   "cell_type": "code",
   "execution_count": 38,
   "id": "af68e428",
   "metadata": {},
   "outputs": [],
   "source": [
    "complex_data = [\n",
    "                 (1.0,\n",
    "                  10,\n",
    "                  \"Alice\", \n",
    "                  True, \n",
    "                  [1, 2, 3], \n",
    "                  {\"k1\": 0},\n",
    "                  Row(a=1, b=2, c=3), \n",
    "                  datetime(2014, 8, 1, 14, 1, 5)),\n",
    "\n",
    "                 (2.0,\n",
    "                  20,\n",
    "                  \"Bob\", \n",
    "                  True, \n",
    "                  [1, 2, 3, 4, 5], \n",
    "                  {\"k1\": 0,\"k2\": 1 }, \n",
    "                  Row(a=1, b=2, c=3), \n",
    "                  datetime(2014, 8, 1, 14, 1, 5)),\n",
    "\n",
    "                  (3.0,\n",
    "                   30,\n",
    "                   \"Charlee\", \n",
    "                   False, \n",
    "                   [1, 2, 3, 4, 5, 6], \n",
    "                   {\"k1\": 0, \"k2\": 1, \"k3\": 2 }, \n",
    "                   Row(a=1, b=2, c=3), \n",
    "                   datetime(2014, 8, 1, 14, 1, 5))\n",
    "                ] "
   ]
  },
  {
   "cell_type": "code",
   "execution_count": 39,
   "id": "fbad7058",
   "metadata": {},
   "outputs": [],
   "source": [
    "# column names for complex data\n",
    "\n",
    "column_names = [\n",
    "        'col_integer',\n",
    "        'col_float',\n",
    "        'col_string',\n",
    "        'col_boolean',\n",
    "        'col_list',\n",
    "        'col_dictionary',\n",
    "        'col_row',\n",
    "        'col_date_time']"
   ]
  },
  {
   "cell_type": "code",
   "execution_count": 41,
   "id": "abb247f2",
   "metadata": {},
   "outputs": [
    {
     "name": "stdout",
     "output_type": "stream",
     "text": [
      "+-----------+---------+----------+-----------+------------------+--------------------+---------+-------------------+\n",
      "|col_integer|col_float|col_string|col_boolean|          col_list|      col_dictionary|  col_row|      col_date_time|\n",
      "+-----------+---------+----------+-----------+------------------+--------------------+---------+-------------------+\n",
      "|        1.0|       10|     Alice|       true|         [1, 2, 3]|           {k1 -> 0}|{1, 2, 3}|2014-08-01 14:01:05|\n",
      "|        2.0|       20|       Bob|       true|   [1, 2, 3, 4, 5]|  {k1 -> 0, k2 -> 1}|{1, 2, 3}|2014-08-01 14:01:05|\n",
      "|        3.0|       30|   Charlee|      false|[1, 2, 3, 4, 5, 6]|{k3 -> 2, k1 -> 0...|{1, 2, 3}|2014-08-01 14:01:05|\n",
      "+-----------+---------+----------+-----------+------------------+--------------------+---------+-------------------+\n",
      "\n"
     ]
    }
   ],
   "source": [
    "df5 = spark.createDataFrame( complex_data, column_names )\n",
    "df5.show()"
   ]
  },
  {
   "cell_type": "markdown",
   "id": "bf22236c",
   "metadata": {},
   "source": [
    "### Convert rdd to DataFrame"
   ]
  },
  {
   "cell_type": "code",
   "execution_count": 46,
   "id": "326f2657",
   "metadata": {},
   "outputs": [
    {
     "data": {
      "text/plain": [
       "pyspark.rdd.RDD"
      ]
     },
     "execution_count": 46,
     "metadata": {},
     "output_type": "execute_result"
    }
   ],
   "source": [
    "type( records )"
   ]
  },
  {
   "cell_type": "code",
   "execution_count": 47,
   "id": "66be15f1",
   "metadata": {},
   "outputs": [],
   "source": [
    "column_names = Row( 'id', 'name',  'score'  )"
   ]
  },
  {
   "cell_type": "code",
   "execution_count": 48,
   "id": "d8f8f847",
   "metadata": {},
   "outputs": [],
   "source": [
    "students = records.map( lambda row: column_names( *row ) )"
   ]
  },
  {
   "cell_type": "code",
   "execution_count": 50,
   "id": "63b13ca3",
   "metadata": {},
   "outputs": [
    {
     "data": {
      "text/plain": [
       "[Row(id=1, name='Alice', score=50), Row(id=2, name='Bob', score=80)]"
      ]
     },
     "execution_count": 50,
     "metadata": {},
     "output_type": "execute_result"
    }
   ],
   "source": [
    "students.take(2)"
   ]
  },
  {
   "cell_type": "code",
   "execution_count": 51,
   "id": "e76c58b8",
   "metadata": {},
   "outputs": [],
   "source": [
    "df6 = spark.createDataFrame( students )"
   ]
  },
  {
   "cell_type": "code",
   "execution_count": 52,
   "id": "a0d1aaaa",
   "metadata": {},
   "outputs": [
    {
     "name": "stdout",
     "output_type": "stream",
     "text": [
      "+---+-----+-----+\n",
      "| id| name|score|\n",
      "+---+-----+-----+\n",
      "|  1|Alice|   50|\n",
      "|  2|  Bob|   80|\n",
      "+---+-----+-----+\n",
      "\n"
     ]
    }
   ],
   "source": [
    "df6.show()"
   ]
  },
  {
   "cell_type": "code",
   "execution_count": null,
   "id": "fcb24f45",
   "metadata": {},
   "outputs": [],
   "source": []
  }
 ],
 "metadata": {
  "kernelspec": {
   "display_name": "Python 3 (ipykernel)",
   "language": "python",
   "name": "python3"
  },
  "language_info": {
   "codemirror_mode": {
    "name": "ipython",
    "version": 3
   },
   "file_extension": ".py",
   "mimetype": "text/x-python",
   "name": "python",
   "nbconvert_exporter": "python",
   "pygments_lexer": "ipython3",
   "version": "3.10.11"
  }
 },
 "nbformat": 4,
 "nbformat_minor": 5
}
