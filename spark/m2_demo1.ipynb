{
 "cells": [
  {
   "cell_type": "code",
   "execution_count": 1,
   "id": "9ef8bd59",
   "metadata": {},
   "outputs": [],
   "source": [
    "import findspark\n",
    "findspark.init()\n",
    "\n",
    "import pyspark\n",
    "from pyspark.context   import SparkContext\n",
    "from pyspark.sql       import SparkSession\n",
    "from pyspark.sql.types import Row\n",
    "from datetime          import datetime"
   ]
  },
  {
   "cell_type": "code",
   "execution_count": 3,
   "id": "f3150a57",
   "metadata": {},
   "outputs": [
    {
     "name": "stderr",
     "output_type": "stream",
     "text": [
      "Setting default log level to \"WARN\".\n",
      "To adjust logging level use sc.setLogLevel(newLevel). For SparkR, use setLogLevel(newLevel).\n",
      "23/06/08 21:29:14 WARN NativeCodeLoader: Unable to load native-hadoop library for your platform... using builtin-java classes where applicable\n"
     ]
    }
   ],
   "source": [
    "spark = ( SparkSession\n",
    "        .builder\n",
    "        .appName( 'myApp' )\n",
    "        .getOrCreate()\n",
    "        )"
   ]
  },
  {
   "cell_type": "code",
   "execution_count": 6,
   "id": "79797492",
   "metadata": {},
   "outputs": [
    {
     "name": "stdout",
     "output_type": "stream",
     "text": [
      "/home/art/git/data_engineer/spark\r\n"
     ]
    }
   ],
   "source": [
    "!pwd"
   ]
  },
  {
   "cell_type": "code",
   "execution_count": 7,
   "id": "1a7f3cfc",
   "metadata": {},
   "outputs": [],
   "source": [
    "file_name= '/home/art/Downloads/202004-capitalbikeshare/bike_100.csv'"
   ]
  },
  {
   "cell_type": "code",
   "execution_count": 11,
   "id": "9b6100e5",
   "metadata": {},
   "outputs": [],
   "source": [
    "data = spark.read                  \\\n",
    "       .format( 'csv' )            \\\n",
    "       .option( 'header', 'true' ) \\\n",
    "       .load( file_name )\n"
   ]
  },
  {
   "cell_type": "code",
   "execution_count": 14,
   "id": "19810b0e",
   "metadata": {},
   "outputs": [
    {
     "data": {
      "text/plain": [
       "DataFrame[ride_id: string, rideable_type: string, started_at: string, ended_at: string, start_station_name: string, start_station_id: string, end_station_name: string, end_station_id: string, start_lat: string, start_lng: string, end_lat: string, end_lng: string, member_casual: string]"
      ]
     },
     "execution_count": 14,
     "metadata": {},
     "output_type": "execute_result"
    }
   ],
   "source": [
    "data"
   ]
  },
  {
   "cell_type": "code",
   "execution_count": 16,
   "id": "509d8c72",
   "metadata": {},
   "outputs": [
    {
     "name": "stdout",
     "output_type": "stream",
     "text": [
      "root\n",
      " |-- ride_id: string (nullable = true)\n",
      " |-- rideable_type: string (nullable = true)\n",
      " |-- started_at: string (nullable = true)\n",
      " |-- ended_at: string (nullable = true)\n",
      " |-- start_station_name: string (nullable = true)\n",
      " |-- start_station_id: string (nullable = true)\n",
      " |-- end_station_name: string (nullable = true)\n",
      " |-- end_station_id: string (nullable = true)\n",
      " |-- start_lat: string (nullable = true)\n",
      " |-- start_lng: string (nullable = true)\n",
      " |-- end_lat: string (nullable = true)\n",
      " |-- end_lng: string (nullable = true)\n",
      " |-- member_casual: string (nullable = true)\n",
      "\n"
     ]
    }
   ],
   "source": [
    "data.printSchema()"
   ]
  },
  {
   "cell_type": "code",
   "execution_count": 15,
   "id": "6a57dbee",
   "metadata": {},
   "outputs": [
    {
     "data": {
      "text/plain": [
       "[Row(ride_id='77A0F1B26D1597B1', rideable_type='docked_bike', started_at='2020-04-25 17:28:39', ended_at='2020-04-25 17:35:04', start_station_name='Rhode Island & Connecticut Ave NW', start_station_id='31239', end_station_name='12th & L St NW', end_station_id='31251', start_lat='38.9059956999911', start_lng='-77.0398020744324', end_lat='38.903819', end_lng='-77.0284', member_casual='casual')]"
      ]
     },
     "execution_count": 15,
     "metadata": {},
     "output_type": "execute_result"
    }
   ],
   "source": [
    "data.take( 1 )"
   ]
  },
  {
   "cell_type": "code",
   "execution_count": 19,
   "id": "6d89b563",
   "metadata": {},
   "outputs": [],
   "source": [
    "df1 = data.select( 'start_station_name' ).distinct()"
   ]
  },
  {
   "cell_type": "code",
   "execution_count": 21,
   "id": "3f6bc449",
   "metadata": {},
   "outputs": [
    {
     "data": {
      "text/plain": [
       "[Row(start_station_name='Bethesda Ave & Arlington Rd'),\n",
       " Row(start_station_name='5th & Kennedy St NW'),\n",
       " Row(start_station_name='Needwood Rd & Eagles Head Ct'),\n",
       " Row(start_station_name='12th & Irving St NE'),\n",
       " Row(start_station_name='Veterans Pl & Pershing Dr '),\n",
       " Row(start_station_name='North Shore Dr & Village Rd'),\n",
       " Row(start_station_name='Mississippi Ave & 19th St SE / THEARC'),\n",
       " Row(start_station_name='Duke St & John Carlyle St'),\n",
       " Row(start_station_name='2nd St & Massachusetts Ave NE'),\n",
       " Row(start_station_name='3rd & H St NW')]"
      ]
     },
     "execution_count": 21,
     "metadata": {},
     "output_type": "execute_result"
    }
   ],
   "source": [
    "df1.take( 10 )"
   ]
  },
  {
   "cell_type": "code",
   "execution_count": 22,
   "id": "aea1a69c",
   "metadata": {},
   "outputs": [
    {
     "data": {
      "text/plain": [
       "41"
      ]
     },
     "execution_count": 22,
     "metadata": {},
     "output_type": "execute_result"
    }
   ],
   "source": [
    "df1.count()"
   ]
  },
  {
   "cell_type": "code",
   "execution_count": 25,
   "id": "13af07f0",
   "metadata": {},
   "outputs": [],
   "source": [
    "df2 = data.filter( data[ 'start_station_name' ] == '5th & Kennedy St NW' )"
   ]
  },
  {
   "cell_type": "code",
   "execution_count": 26,
   "id": "7d18a598",
   "metadata": {},
   "outputs": [
    {
     "data": {
      "text/plain": [
       "2"
      ]
     },
     "execution_count": 26,
     "metadata": {},
     "output_type": "execute_result"
    }
   ],
   "source": [
    "df2.count()"
   ]
  },
  {
   "cell_type": "code",
   "execution_count": 35,
   "id": "4094f856",
   "metadata": {},
   "outputs": [],
   "source": [
    "df3 = data.groupBy( 'start_station_name' ).count()\n"
   ]
  },
  {
   "cell_type": "code",
   "execution_count": 37,
   "id": "65d1a806",
   "metadata": {},
   "outputs": [
    {
     "name": "stdout",
     "output_type": "stream",
     "text": [
      "+--------------------+-----+\n",
      "|  start_station_name|count|\n",
      "+--------------------+-----+\n",
      "|Bethesda Ave & Ar...|    2|\n",
      "| 5th & Kennedy St NW|    2|\n",
      "|Needwood Rd & Eag...|    1|\n",
      "| 12th & Irving St NE|    2|\n",
      "|Veterans Pl & Per...|    1|\n",
      "|North Shore Dr & ...|    2|\n",
      "|Mississippi Ave &...|    1|\n",
      "|Duke St & John Ca...|    1|\n",
      "|2nd St & Massachu...|    3|\n",
      "|       3rd & H St NW|    2|\n",
      "|Calvert & Biltmor...|    1|\n",
      "|Crystal City Metr...|    1|\n",
      "|Randle Circle & M...|    1|\n",
      "|       7th & E St SW|    1|\n",
      "|E Montgomery Ave ...|    3|\n",
      "|Columbia Rd & Geo...|    2|\n",
      "|       8th & H St NW|    1|\n",
      "|      11th & S St NW|    2|\n",
      "|      10th & G St NW|    1|\n",
      "|Columbia Pike & S...|    1|\n",
      "+--------------------+-----+\n",
      "only showing top 20 rows\n",
      "\n"
     ]
    }
   ],
   "source": [
    "df3.show()"
   ]
  },
  {
   "cell_type": "code",
   "execution_count": 38,
   "id": "0490f438",
   "metadata": {},
   "outputs": [
    {
     "name": "stdout",
     "output_type": "stream",
     "text": [
      "+--------------------+-------------------+\n",
      "|  start_station_name|count_start_station|\n",
      "+--------------------+-------------------+\n",
      "|Bethesda Ave & Ar...|                  2|\n",
      "| 5th & Kennedy St NW|                  2|\n",
      "|Needwood Rd & Eag...|                  1|\n",
      "| 12th & Irving St NE|                  2|\n",
      "|Veterans Pl & Per...|                  1|\n",
      "|North Shore Dr & ...|                  2|\n",
      "|Mississippi Ave &...|                  1|\n",
      "|Duke St & John Ca...|                  1|\n",
      "|2nd St & Massachu...|                  3|\n",
      "|       3rd & H St NW|                  2|\n",
      "|Calvert & Biltmor...|                  1|\n",
      "|Crystal City Metr...|                  1|\n",
      "|Randle Circle & M...|                  1|\n",
      "|       7th & E St SW|                  1|\n",
      "|E Montgomery Ave ...|                  3|\n",
      "|Columbia Rd & Geo...|                  2|\n",
      "|       8th & H St NW|                  1|\n",
      "|      11th & S St NW|                  2|\n",
      "|      10th & G St NW|                  1|\n",
      "|Columbia Pike & S...|                  1|\n",
      "+--------------------+-------------------+\n",
      "only showing top 20 rows\n",
      "\n"
     ]
    }
   ],
   "source": [
    "df3 = df3.withColumnRenamed( 'count', 'count_start_station' )\n",
    "df3.show()"
   ]
  },
  {
   "cell_type": "code",
   "execution_count": null,
   "id": "0f6aa5d6",
   "metadata": {},
   "outputs": [],
   "source": []
  }
 ],
 "metadata": {
  "kernelspec": {
   "display_name": "Python 3 (ipykernel)",
   "language": "python",
   "name": "python3"
  },
  "language_info": {
   "codemirror_mode": {
    "name": "ipython",
    "version": 3
   },
   "file_extension": ".py",
   "mimetype": "text/x-python",
   "name": "python",
   "nbconvert_exporter": "python",
   "pygments_lexer": "ipython3",
   "version": "3.10.11"
  }
 },
 "nbformat": 4,
 "nbformat_minor": 5
}
