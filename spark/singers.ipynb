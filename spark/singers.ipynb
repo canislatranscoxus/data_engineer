{
 "cells": [
  {
   "cell_type": "markdown",
   "id": "18e309ce",
   "metadata": {},
   "source": [
    "### ETL\n",
    "\n",
    "load a cvs file\n",
    "\n",
    "transform - get one column, and group by to get MAX and AVG\n",
    "\n",
    "load to parquet file\n",
    "\n"
   ]
  },
  {
   "cell_type": "markdown",
   "id": "77cbe661",
   "metadata": {},
   "source": [
    "The csv file has the next columns\n",
    "\n",
    "singer_id|singer_name| concert_name|  duration\n",
    "\n",
    "\n",
    "Column duration is the time in hours the concert.\n",
    "\n",
    "\n",
    "\n",
    "Write pyscpark code to do and ETL.\n",
    "\n",
    "### Tips:\n",
    "In Transform step,\n",
    "\n",
    "per Singer, get the maximum duration time of her concerts, and the average time of her concerts. \n",
    "\n",
    "\n",
    "columns max_duration and avg_duration must be roud to 2 decimals\n",
    "\n",
    "output example:\n",
    "\n",
    "df.show()\n",
    "\n",
    "\n",
    "| singer_id  | max_duration | avg_duration | \n",
    "|---|---|---|\n",
    "|        1|        3.74|        2.33|\n",
    "|        3|        3.96|        2.99|\n",
    "|        2|        3.85|        2.42|\n",
    "\n"
   ]
  },
  {
   "cell_type": "code",
   "execution_count": 7,
   "id": "26d77ce7",
   "metadata": {},
   "outputs": [],
   "source": [
    "from IPython.display        import display, HTML\n",
    "\n",
    "import findspark\n",
    "findspark.init()\n",
    "import pyspark\n",
    "\n",
    "#from pyspark.context import SparkContext\n",
    "from pyspark.sql            import SparkSession\n",
    "from pyspark.sql.functions  import col, explode, udf\n",
    "from pyspark.sql.types      import Row, StringType, LongType, ArrayType\n",
    "\n"
   ]
  },
  {
   "cell_type": "code",
   "execution_count": 8,
   "id": "74fbac22",
   "metadata": {},
   "outputs": [],
   "source": [
    "spark = SparkSession.builder \\\n",
    "        .appName( 'singers' )  \\\n",
    "        .getOrCreate()"
   ]
  },
  {
   "cell_type": "markdown",
   "id": "ab513db4",
   "metadata": {},
   "source": [
    "### extract"
   ]
  },
  {
   "cell_type": "code",
   "execution_count": 9,
   "id": "9ce21c4d",
   "metadata": {},
   "outputs": [],
   "source": [
    "input_file = '/home/art/data/tiny/singers.csv'\n",
    "\n",
    "df = spark.read \\\n",
    "    .options( header = True, inferSchema = True, delimiter = ','  ) \\\n",
    "    .csv( input_file )"
   ]
  },
  {
   "cell_type": "code",
   "execution_count": 10,
   "id": "3c595b1c",
   "metadata": {},
   "outputs": [
    {
     "name": "stdout",
     "output_type": "stream",
     "text": [
      "+---------+-----------+-------------+----------+\n",
      "|singer_id|singer_name| concert_name|  duration|\n",
      "+---------+-----------+-------------+----------+\n",
      "|        1| Katy Parry|   World Tour|1.23456789|\n",
      "|        2|   Doja Cat|  Hip Hop You| 1.3654987|\n",
      "|        1| Katy Parry|  Animal life|2.02789798|\n",
      "|        2|   Doja Cat|      Friends|2.03987987|\n",
      "|        3|    Cardi B|   Sweet lips|2.00987987|\n",
      "|        1| Katy Parry|Beach and sun|  3.741741|\n",
      "|        2|   Doja Cat|   Night life|  3.852852|\n",
      "|        3|    Cardi B| In the party|  3.963963|\n",
      "+---------+-----------+-------------+----------+\n",
      "\n"
     ]
    }
   ],
   "source": [
    "df.show()"
   ]
  },
  {
   "cell_type": "code",
   "execution_count": 11,
   "id": "b395a756",
   "metadata": {},
   "outputs": [
    {
     "name": "stdout",
     "output_type": "stream",
     "text": [
      "root\n",
      " |-- singer_id: integer (nullable = true)\n",
      " |-- singer_name: string (nullable = true)\n",
      " |-- concert_name: string (nullable = true)\n",
      " |-- duration: double (nullable = true)\n",
      "\n"
     ]
    }
   ],
   "source": [
    "df.printSchema()"
   ]
  },
  {
   "cell_type": "markdown",
   "id": "4f0ab4e6",
   "metadata": {},
   "source": [
    "### transform"
   ]
  },
  {
   "cell_type": "code",
   "execution_count": 12,
   "id": "5b9e021e",
   "metadata": {},
   "outputs": [],
   "source": [
    "df.createOrReplaceTempView( 'df' )\n"
   ]
  },
  {
   "cell_type": "code",
   "execution_count": 13,
   "id": "e081c863",
   "metadata": {},
   "outputs": [
    {
     "name": "stdout",
     "output_type": "stream",
     "text": [
      "+---------+------------+------------+\n",
      "|singer_id|max_duration|avg_duration|\n",
      "+---------+------------+------------+\n",
      "|        1|        3.74|        2.33|\n",
      "|        3|        3.96|        2.99|\n",
      "|        2|        3.85|        2.42|\n",
      "+---------+------------+------------+\n",
      "\n"
     ]
    }
   ],
   "source": [
    "query = '''\n",
    "select singer_id, \n",
    "       round( max( duration ), 2 ) as max_duration,\n",
    "       round( avg( duration ), 2 ) as avg_duration\n",
    "       \n",
    "from df\n",
    "group by 1\n",
    "'''\n",
    "\n",
    "df2 = spark.sql( query )\n",
    "\n",
    "df2.show()\n"
   ]
  },
  {
   "cell_type": "markdown",
   "id": "6e4ef81d",
   "metadata": {},
   "source": [
    "### load"
   ]
  },
  {
   "cell_type": "markdown",
   "id": "8b6df4c8",
   "metadata": {},
   "source": [
    " save to parquet"
   ]
  },
  {
   "cell_type": "code",
   "execution_count": 14,
   "id": "e6964b34",
   "metadata": {},
   "outputs": [
    {
     "name": "stderr",
     "output_type": "stream",
     "text": [
      "                                                                                \r"
     ]
    }
   ],
   "source": [
    "output_file = '/home/art/data/tiny/singers.parquet'\n",
    "\n",
    "df2.write.parquet( output_file )"
   ]
  },
  {
   "cell_type": "code",
   "execution_count": null,
   "id": "11e3ad72",
   "metadata": {},
   "outputs": [],
   "source": []
  },
  {
   "cell_type": "code",
   "execution_count": null,
   "id": "dfbcd0ea",
   "metadata": {},
   "outputs": [],
   "source": []
  },
  {
   "cell_type": "code",
   "execution_count": null,
   "id": "453c0334",
   "metadata": {},
   "outputs": [],
   "source": []
  },
  {
   "cell_type": "code",
   "execution_count": null,
   "id": "beea665e",
   "metadata": {},
   "outputs": [],
   "source": []
  }
 ],
 "metadata": {
  "kernelspec": {
   "display_name": "Python 3 (ipykernel)",
   "language": "python",
   "name": "python3"
  },
  "language_info": {
   "codemirror_mode": {
    "name": "ipython",
    "version": 3
   },
   "file_extension": ".py",
   "mimetype": "text/x-python",
   "name": "python",
   "nbconvert_exporter": "python",
   "pygments_lexer": "ipython3",
   "version": "3.10.11"
  }
 },
 "nbformat": 4,
 "nbformat_minor": 5
}
