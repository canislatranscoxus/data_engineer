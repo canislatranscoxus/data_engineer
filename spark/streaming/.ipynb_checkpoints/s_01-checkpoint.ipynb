{
 "cells": [
  {
   "cell_type": "markdown",
   "id": "26d13341",
   "metadata": {},
   "source": [
    "# Streaming 01\n",
    "\n",
    "listen port\n",
    "\n"
   ]
  },
  {
   "cell_type": "code",
   "execution_count": 1,
   "id": "6d2543c6",
   "metadata": {},
   "outputs": [],
   "source": [
    "from IPython.display   import display, HTML\n",
    "\n",
    "import findspark\n",
    "findspark.init()\n",
    "\n",
    "import pyspark\n",
    "\n",
    "from pyspark            import SparkContext\n",
    "from pyspark.streaming import StreamingContext\n",
    "\n",
    "\n",
    "\n",
    "from datetime          import datetime"
   ]
  },
  {
   "cell_type": "code",
   "execution_count": 3,
   "id": "571796bd",
   "metadata": {},
   "outputs": [
    {
     "name": "stderr",
     "output_type": "stream",
     "text": [
      "Setting default log level to \"WARN\".\n",
      "To adjust logging level use sc.setLogLevel(newLevel). For SparkR, use setLogLevel(newLevel).\n",
      "23/06/29 09:26:07 WARN NativeCodeLoader: Unable to load native-hadoop library for your platform... using builtin-java classes where applicable\n"
     ]
    }
   ],
   "source": [
    "sc = SparkContext( appName = 'Streaming error count' )"
   ]
  },
  {
   "cell_type": "code",
   "execution_count": 4,
   "id": "f2412213",
   "metadata": {},
   "outputs": [
    {
     "name": "stderr",
     "output_type": "stream",
     "text": [
      "/home/art/git/data_engineer/venv/lib/python3.10/site-packages/pyspark/streaming/context.py:72: FutureWarning: DStream is deprecated as of Spark 3.4.0. Migrate to Structured Streaming.\n",
      "  warnings.warn(\n"
     ]
    }
   ],
   "source": [
    "ssc = StreamingContext( sc, 10 )"
   ]
  },
  {
   "cell_type": "code",
   "execution_count": 5,
   "id": "af6190af",
   "metadata": {},
   "outputs": [],
   "source": [
    "ssc.checkpoint( '/home/art/data/my_checkpoint' )"
   ]
  },
  {
   "cell_type": "code",
   "execution_count": 6,
   "id": "3111597c",
   "metadata": {},
   "outputs": [],
   "source": [
    "host = 'localhost'\n",
    "port = 9999\n",
    "\n",
    "\n",
    "lines = ssc.socketTextStream( host, port  )"
   ]
  },
  {
   "cell_type": "code",
   "execution_count": 7,
   "id": "462c035c",
   "metadata": {},
   "outputs": [
    {
     "ename": "AttributeError",
     "evalue": "'DStream' object has no attribute 'flatmap'",
     "output_type": "error",
     "traceback": [
      "\u001b[0;31m---------------------------------------------------------------------------\u001b[0m",
      "\u001b[0;31mAttributeError\u001b[0m                            Traceback (most recent call last)",
      "Cell \u001b[0;32mIn[7], line 1\u001b[0m\n\u001b[0;32m----> 1\u001b[0m counts \u001b[38;5;241m=\u001b[39m \u001b[43mlines\u001b[49m\u001b[38;5;241;43m.\u001b[39;49m\u001b[43mflatmap\u001b[49m( \u001b[38;5;28;01mlambda\u001b[39;00m line: line\u001b[38;5;241m.\u001b[39msplit(\u001b[38;5;124m'\u001b[39m\u001b[38;5;124m \u001b[39m\u001b[38;5;124m'\u001b[39m) ) \\\n\u001b[1;32m      2\u001b[0m               \u001b[38;5;241m.\u001b[39mfilter ( \u001b[38;5;28;01mlambda\u001b[39;00m word: \u001b[38;5;124m'\u001b[39m\u001b[38;5;124mERROR\u001b[39m\u001b[38;5;124m'\u001b[39m \u001b[38;5;129;01min\u001b[39;00m word ) \\\n\u001b[1;32m      3\u001b[0m               \u001b[38;5;241m.\u001b[39mmap    ( \u001b[38;5;28;01mlambda\u001b[39;00m word: (word, \u001b[38;5;241m1\u001b[39m )      ) \\\n\u001b[1;32m      4\u001b[0m               \u001b[38;5;241m.\u001b[39mreduceByKey( \u001b[38;5;28;01mlambda\u001b[39;00m a, b: a \u001b[38;5;241m+\u001b[39m b )\n",
      "\u001b[0;31mAttributeError\u001b[0m: 'DStream' object has no attribute 'flatmap'"
     ]
    }
   ],
   "source": [
    "counts = lines.flatMap( lambda line: line.split(' ') ) \\\n",
    "              .filter ( lambda word: 'ERROR' in word ) \\\n",
    "              .map    ( lambda word: (word, 1 )      ) \\\n",
    "              .reduceByKey( lambda a, b: a + b )"
   ]
  },
  {
   "cell_type": "code",
   "execution_count": null,
   "id": "b0763d5a",
   "metadata": {},
   "outputs": [],
   "source": [
    "counts.pprint()\n",
    "ssc.start()\n",
    "ssc.awaitTermination()"
   ]
  }
 ],
 "metadata": {
  "kernelspec": {
   "display_name": "Python 3 (ipykernel)",
   "language": "python",
   "name": "python3"
  },
  "language_info": {
   "codemirror_mode": {
    "name": "ipython",
    "version": 3
   },
   "file_extension": ".py",
   "mimetype": "text/x-python",
   "name": "python",
   "nbconvert_exporter": "python",
   "pygments_lexer": "ipython3",
   "version": "3.10.11"
  }
 },
 "nbformat": 4,
 "nbformat_minor": 5
}
